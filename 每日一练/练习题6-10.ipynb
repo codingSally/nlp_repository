{
 "cells": [
  {
   "cell_type": "markdown",
   "metadata": {},
   "source": [
    "# 第六天"
   ]
  },
  {
   "cell_type": "markdown",
   "metadata": {},
   "source": [
    "## 第一题\n",
    "\n",
    "> **Write a Python program to filter a dictionary based on values.**\n",
    "\n",
    "\n",
    "- Original Dictionary:\n",
    "\n",
    "{'Cierra Vega': 175, 'Alden Cantrell': 180, 'Kierra Gentry': 165, 'Pierre Cox': 190}\n",
    "\n",
    "- Marks greater than 170:\n",
    "\n",
    "{'Cierra Vega': 175, 'Alden Cantrell': 180, 'Pierre Cox': 190}"
   ]
  },
  {
   "cell_type": "code",
   "execution_count": 4,
   "metadata": {},
   "outputs": [
    {
     "name": "stdout",
     "output_type": "stream",
     "text": [
      "{'Cierra Vega': 175, 'Alden Cantrell': 180, 'Pierre Cox': 190}\n"
     ]
    }
   ],
   "source": [
    "def dic_filter(dics, value):\n",
    "    \n",
    "    new_dic = {k : v for k, v in dics.items() if dics[k] > value}\n",
    "    \n",
    "    return new_dic\n",
    "\n",
    "dics = {'Cierra Vega': 175, 'Alden Cantrell': 180, 'Kierra Gentry': 165, 'Pierre Cox': 190}\n",
    "print(dic_filter(dics, 170))"
   ]
  },
  {
   "cell_type": "markdown",
   "metadata": {},
   "source": [
    "## 第二题\n",
    "\n",
    "> **Replace dictionary values with their average.**\n",
    "\n",
    "\n",
    "\n",
    "---\n",
    "```Python\n",
    "def sum_math_v_vi_average(list_of_dicts):\n",
    "    pass\n",
    "student_details= [\n",
    "  {'id' : 1, 'subject' : 'math', 'V' : 70, 'VI' : 82},\n",
    "  {'id' : 2, 'subject' : 'math', 'V' : 73, 'VI' : 74},\n",
    "  {'id' : 3, 'subject' : 'math', 'V' : 75, 'VI' : 86}\n",
    "]\n",
    "print(sum_math_v_vi_average(student_details))\n",
    "```\n",
    "> The output of the program should be:\n",
    "\n",
    "```Pyrhon\n",
    "[{'subject': 'math', 'id': 1, 'V+VI': 76.0}, {'subject': 'math', 'id': 2, 'V+VI': 73.5}, {'subject': 'math', '\n",
    "id': 3, 'V+VI': 80.5}]\n",
    "```"
   ]
  },
  {
   "cell_type": "code",
   "execution_count": 6,
   "metadata": {},
   "outputs": [
    {
     "name": "stdout",
     "output_type": "stream",
     "text": [
      "[{'id': 1, 'subject': 'math', 'V+VI': 76.0}, {'id': 2, 'subject': 'math', 'V+VI': 73.5}, {'id': 3, 'subject': 'math', 'V+VI': 80.5}]\n"
     ]
    }
   ],
   "source": [
    "def sum_math_v_vi_average(list_of_dicts):\n",
    "    \n",
    "    for i in list_of_dicts:\n",
    "        n1 = i.pop('V')\n",
    "        n2 = i.pop('VI')\n",
    "        \n",
    "        i['V+VI'] = (n1 + n2) /2\n",
    "        \n",
    "    return list_of_dicts\n",
    "\n",
    "\n",
    "student_details= [\n",
    "  {'id' : 1, 'subject' : 'math', 'V' : 70, 'VI' : 82},\n",
    "  {'id' : 2, 'subject' : 'math', 'V' : 73, 'VI' : 74},\n",
    "  {'id' : 3, 'subject' : 'math', 'V' : 75, 'VI' : 86}\n",
    "]\n",
    "print(sum_math_v_vi_average(student_details))"
   ]
  },
  {
   "cell_type": "markdown",
   "metadata": {},
   "source": [
    "## 第三题\n",
    "\n",
    "> **Write a Python program to get the top three items in a shop.**\n",
    "\n",
    "> Sample data: {'item1': 45.50, 'item2':35, 'item3': 41.30, 'item4':55, 'item5': 24}\n",
    "\n",
    ">Expected Output:\n",
    "\n",
    "```Python\n",
    "item4 55\n",
    "item1 45.5\n",
    "item3 41.3\n",
    "```"
   ]
  },
  {
   "cell_type": "markdown",
   "metadata": {},
   "source": [
    "### 方法一"
   ]
  },
  {
   "cell_type": "code",
   "execution_count": 18,
   "metadata": {},
   "outputs": [
    {
     "name": "stdout",
     "output_type": "stream",
     "text": [
      "('item4', 55)\n",
      "('item1', 45.5)\n",
      "('item3', 41.3)\n"
     ]
    }
   ],
   "source": [
    "def sort_dics(data):\n",
    "    \n",
    "    sort_dic = sorted(data.items(), key = lambda item : item[1], reverse=True)\n",
    "    \n",
    "    count = 0\n",
    "    for i in sort_dic:\n",
    "        if count < 3:\n",
    "            print(i)\n",
    "        else :\n",
    "            break\n",
    "        count  += 1\n",
    "\n",
    "data =  {'item1': 45.50, 'item2':35, 'item3': 41.30, 'item4':55, 'item5': 24}\n",
    "\n",
    "sort_dics(data)"
   ]
  },
  {
   "cell_type": "markdown",
   "metadata": {},
   "source": [
    "### 方法二"
   ]
  },
  {
   "cell_type": "code",
   "execution_count": 15,
   "metadata": {},
   "outputs": [
    {
     "name": "stdout",
     "output_type": "stream",
     "text": [
      "item4 55\n",
      "item1 45.5\n",
      "item3 41.3\n"
     ]
    }
   ],
   "source": [
    "from heapq import nlargest\n",
    "from operator import itemgetter\n",
    "\n",
    "items = {'item1': 45.50, 'item2':35, 'item3': 41.30, 'item4':55, 'item5': 24}\n",
    "for name, value in nlargest(3, items.items(), key=itemgetter(1)):\n",
    "    print(name, value)"
   ]
  },
  {
   "cell_type": "markdown",
   "metadata": {},
   "source": [
    "### 方法三"
   ]
  },
  {
   "cell_type": "code",
   "execution_count": 20,
   "metadata": {},
   "outputs": [
    {
     "name": "stdout",
     "output_type": "stream",
     "text": [
      "item4 55\n",
      "item1 45.5\n",
      "item3 41.3\n"
     ]
    }
   ],
   "source": [
    "data =  {'item1': 45.50, 'item2':35, 'item3': 41.30, 'item4':55, 'item5': 24}\n",
    "top_dic = sorted(data.items(), key = lambda item : item[1], reverse=True)[: 3]\n",
    "\n",
    "for name, value in top_dic:\n",
    "    print(name, value)"
   ]
  },
  {
   "cell_type": "markdown",
   "metadata": {},
   "source": [
    "## 第四题\n",
    "\n",
    "\n",
    "> **Write a Python program to create and display all combinations of letters, selecting each letter from a different key in a dictionary.**\n",
    "\n",
    "```Python\n",
    "Sample data : {'1':['a','b'], '2':['c','d']}\n",
    "Expected Output:\n",
    "ac\n",
    "ad\n",
    "bc\n",
    "bd\n",
    "```"
   ]
  },
  {
   "cell_type": "code",
   "execution_count": 22,
   "metadata": {},
   "outputs": [
    {
     "name": "stdout",
     "output_type": "stream",
     "text": [
      "ac\n",
      "ad\n",
      "bc\n",
      "bd\n"
     ]
    }
   ],
   "source": [
    "import itertools\n",
    "\n",
    "data = {'1':['a','b'], '2':['c','d']}\n",
    "\n",
    "for item in itertools.product(* [data[k] for k in sorted(data.keys())]):\n",
    "    print(''.join(item))"
   ]
  },
  {
   "cell_type": "markdown",
   "metadata": {},
   "source": [
    "# 第七天"
   ]
  },
  {
   "cell_type": "markdown",
   "metadata": {},
   "source": [
    "## 第一题\n",
    "\n",
    "> **_A website requires the users to input username and password to register. Write a program to check the validity of password input by users._**\n",
    "\n",
    "> **_Following are the criteria for checking the password:_**\n",
    "\n",
    "- **_At least 1 letter between [a-z]_**\n",
    "- **_At least 1 number between [0-9]_**\n",
    "- **_At least 1 letter between [A-Z]_**\n",
    "- **_At least 1 character from [$#@]_**\n",
    "- **_Minimum length of transaction password: 6_**\n",
    "- **_Maximum length of transaction password: 12_**\n",
    "\n",
    "> **_Your program should accept a sequence of comma separated passwords and will check them according to the above criteria. Passwords that match the criteria are to be printed, each separated by a comma._**\n",
    "\n",
    "> **_Example_**\n",
    "\n",
    "> **_If the following passwords are given as input to the program:_**\n",
    "\n",
    "\n",
    "ABd1234@1,a F1#,2w3E*,2We3345\n",
    "\n",
    "\n",
    "> **_Then, the output of the program should be:_**\n",
    "\n",
    "\n",
    "ABd1234@1\n",
    "\n",
    "\n",
    "---\n",
    "\n",
    "### Hints:\n",
    "\n",
    "> **_In case of input data being supplied to the question, it should be assumed to be a console input._**\n",
    "\n",
    "---"
   ]
  },
  {
   "cell_type": "code",
   "execution_count": 24,
   "metadata": {},
   "outputs": [
    {
     "name": "stdout",
     "output_type": "stream",
     "text": [
      "ABd1234@1,a F1#,2w3E*,2We3345\n",
      "ABd1234@1\n"
     ]
    }
   ],
   "source": [
    "import re\n",
    "\n",
    "s = input().split(\",\")\n",
    "lst = []\n",
    "\n",
    "for i in s:\n",
    "    cnt = 0\n",
    "    cnt += 6 <= len(i) and len(i) <= 12\n",
    "    cnt += bool(\n",
    "        re.search(\"[a-z]\", i)\n",
    "    )  # here re module includes a function re.search() which returns the object information\n",
    "    cnt += bool(\n",
    "        re.search(\"[A-Z]\", i)\n",
    "    )  # of where the pattern string i is matched with any of the [a-z]/[A-z]/[0=9]/[@#$] characters\n",
    "    cnt += bool(\n",
    "        re.search(\"[0-9]\", i)\n",
    "    )  # if not a single match found then returns NONE which converts to False in boolean\n",
    "    cnt += bool(re.search(\"[@#$]\", i))  # expression otherwise True if found any.\n",
    "    if cnt == 5:\n",
    "        lst.append(i)\n",
    "\n",
    "print(\",\".join(lst))"
   ]
  },
  {
   "cell_type": "markdown",
   "metadata": {},
   "source": [
    "## 第二题\n",
    "\n",
    "> **_You are required to write a program to sort the (name, age, score) tuples by ascending order where name is string, age and score are numbers. The tuples are input by console. The sort criteria is:_**\n",
    "\n",
    "- **_1: Sort based on name_**\n",
    "- **_2: Then sort based on age_**\n",
    "- **_3: Then sort by score_**\n",
    "\n",
    "> **_The priority is that name > age > score._**\n",
    "\n",
    "> **_If the following tuples are given as input to the program:_**\n",
    "\n",
    "\n",
    "Tom,19,80\n",
    "\n",
    "John,20,90\n",
    "\n",
    "Jony,17,91\n",
    "\n",
    "Jony,17,93\n",
    "\n",
    "Json,21,85\n",
    "\n",
    "\n",
    "> **_Then, the output of the program should be:_**\n",
    "\n",
    "\n",
    "[('John', '20', '90'), ('Jony', '17', '91'), ('Jony', '17', '93'), ('Json', '21', '85'), ('Tom', '19', '80')]\n",
    "\n",
    "\n",
    "---\n",
    "\n",
    "### Hints:\n",
    "\n",
    "> **_In case of input data being supplied to the question, it should be assumed to be a console input.We use itemgetter to enable multiple sort keys._**\n",
    "\n",
    "---"
   ]
  },
  {
   "cell_type": "code",
   "execution_count": 26,
   "metadata": {},
   "outputs": [
    {
     "name": "stdout",
     "output_type": "stream",
     "text": [
      "Tom,19,80\n",
      "John,20,90\n",
      "John,10,90\n",
      "\n",
      "[('John', '10', '90'), ('John', '20', '90'), ('Tom', '19', '80')]\n"
     ]
    }
   ],
   "source": [
    "lst = []\n",
    "while True:\n",
    "    s = input().split(\",\")\n",
    "    if not s[0]:  # breaks for blank input\n",
    "        break\n",
    "    lst.append(tuple(s))\n",
    "\n",
    "lst.sort(\n",
    "    key=lambda x: (x[0], x[1], x[2])\n",
    ")  # here key is defined by lambda and the data is sorted by element priority 0>1>2 in accending order\n",
    "print(lst)"
   ]
  },
  {
   "cell_type": "markdown",
   "metadata": {},
   "source": [
    "# 第八天"
   ]
  },
  {
   "cell_type": "markdown",
   "metadata": {},
   "source": [
    "##  第一题\n",
    "\n",
    "> **_Define a class which has at least two methods:_**\n",
    ">\n",
    "> - **_getString: to get a string from console input_**\n",
    "> - **_printString: to print the string in upper case._**\n",
    "\n",
    "> **_Also please include simple test function to test the class methods._**\n",
    "\n",
    "### Hints:\n",
    "\n",
    "> **_Use **init** method to construct some parameters_**\n",
    "\n",
    "---"
   ]
  },
  {
   "cell_type": "code",
   "execution_count": null,
   "metadata": {},
   "outputs": [],
   "source": []
  },
  {
   "cell_type": "markdown",
   "metadata": {},
   "source": [
    "## 第二题\n",
    "\n",
    "> **_Define a class with a generator which can iterate the numbers, which are divisible by 7, between a given range 0 and n._**\n",
    "\n",
    "---\n",
    "\n",
    "### Hints:\n",
    "\n",
    "> **_Consider use class, function and comprehension._**\n",
    "\n",
    "---"
   ]
  },
  {
   "cell_type": "code",
   "execution_count": null,
   "metadata": {},
   "outputs": [],
   "source": []
  },
  {
   "cell_type": "markdown",
   "metadata": {},
   "source": [
    "## 第三题\n",
    "\n",
    "> **_A robot moves in a plane starting from the original point (0,0). The robot can move toward UP, DOWN, LEFT and RIGHT with a given steps. The trace of robot movement is shown as the following:_**\n",
    "\n",
    "```\n",
    "UP 5\n",
    "DOWN 3\n",
    "LEFT 3\n",
    "RIGHT 2\n",
    "```\n",
    "> **_The numbers after the direction are steps. Please write a program to compute the distance from current position after a sequence of movement and original point. If the distance is a float, then just print the nearest integer._**\n",
    "> **_Example:_**\n",
    "> **_If the following tuples are given as input to the program:_**\n",
    "\n",
    "```\n",
    "UP 5\n",
    "DOWN 3\n",
    "LEFT 3\n",
    "RIGHT 2\n",
    "```\n",
    "\n",
    "> **_Then, the output of the program should be:_**\n",
    "\n",
    "```\n",
    "2\n",
    "```\n",
    "---\n",
    "\n",
    "### Hints:\n",
    "\n",
    "> **_In case of input data being supplied to the question, it should be assumed to be a console input.Here distance indicates to euclidean distance.Import math module to use sqrt function._**\n",
    "\n",
    "---"
   ]
  },
  {
   "cell_type": "code",
   "execution_count": null,
   "metadata": {},
   "outputs": [],
   "source": []
  },
  {
   "cell_type": "code",
   "execution_count": null,
   "metadata": {},
   "outputs": [],
   "source": []
  }
 ],
 "metadata": {
  "kernelspec": {
   "display_name": "Python 3",
   "language": "python",
   "name": "python3"
  },
  "language_info": {
   "codemirror_mode": {
    "name": "ipython",
    "version": 3
   },
   "file_extension": ".py",
   "mimetype": "text/x-python",
   "name": "python",
   "nbconvert_exporter": "python",
   "pygments_lexer": "ipython3",
   "version": "3.8.3"
  },
  "toc": {
   "base_numbering": 1,
   "nav_menu": {},
   "number_sections": true,
   "sideBar": true,
   "skip_h1_title": false,
   "title_cell": "Table of Contents",
   "title_sidebar": "Contents",
   "toc_cell": false,
   "toc_position": {},
   "toc_section_display": true,
   "toc_window_display": false
  }
 },
 "nbformat": 4,
 "nbformat_minor": 4
}
