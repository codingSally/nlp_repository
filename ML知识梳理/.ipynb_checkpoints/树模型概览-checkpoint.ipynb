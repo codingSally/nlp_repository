{
 "cells": [
  {
   "cell_type": "markdown",
   "metadata": {},
   "source": [
    "# 树模型\n",
    "\n",
    "![title](ml-img/ml3.png)"
   ]
  },
  {
   "cell_type": "markdown",
   "metadata": {},
   "source": [
    "# 决策树\n",
    "\n",
    "## ID3 Iterative Dichotomiser 3\n",
    "\n",
    "- 以信息增益作为分裂属性选取的依据，信息增益表示某个属性能够为分类系统带来多少“信息”，信息越多，则通过该属性对数据集的分类更为准确。\n",
    "\n",
    "## C4.5-最大信息增益比\n",
    "\n",
    "- 样本数越少，对概率的估计结果的方差就会越大\n",
    "\n",
    "## CART\n",
    "\n",
    "\n",
    "## 三者对比\n",
    "\n",
    "![title](ml-img/ml4.png)\n",
    "\n",
    "![title](ml-img/ml5.png)"
   ]
  },
  {
   "cell_type": "markdown",
   "metadata": {},
   "source": [
    "# 集成树\n",
    "\n",
    "![title](ml-img/ml6.png)\n",
    "\n",
    "\n",
    "## Bagging→随机森林\n",
    "\n",
    "\n",
    "## Adaboost\n",
    "\n",
    "### GBDT\n",
    "\n",
    "\n",
    "### XGBOOST\n",
    "\n",
    "### lightGBM\n"
   ]
  },
  {
   "cell_type": "markdown",
   "metadata": {},
   "source": [
    "# 二分类问题\n",
    "\n",
    "## 问题评价指标\n",
    "\n",
    "![title](ml-img/ml7.png)\n",
    "\n",
    "### 混淆矩阵\n",
    "\n",
    "![title](ml-img/ml8.png)\n",
    "\n",
    "\n",
    "### 指标计算\n",
    "\n",
    "![title](ml-img/ml9.png)\n",
    "\n",
    "\n",
    "### 精确率\n",
    "\n",
    "![title](ml-img/ml10.png)\n",
    "\n",
    "### ROC曲线\n",
    "\n",
    "![title](ml-img/ml11.png)\n",
    "\n",
    "### AUC曲线\n",
    "\n",
    "![title](ml-img/ml12.png)"
   ]
  },
  {
   "cell_type": "markdown",
   "metadata": {},
   "source": [
    "# 模型融合\n",
    "\n",
    "![title](ml-img/ml14.png)\n",
    "\n",
    "## 加权平均\n",
    "\n",
    "![title](ml-img/ml13.png)\n",
    "\n",
    "## bagging\n",
    "\n",
    "## boosting\n",
    "\n",
    "## stacking\n",
    "\n",
    "- 合并次级模型训练集-测试集-训练次级模型\n"
   ]
  },
  {
   "cell_type": "markdown",
   "metadata": {},
   "source": [
    "# 回归任务\n",
    "\n",
    "## 回归任务评价指标\n",
    "\n",
    "## MSE\n",
    "\n",
    "## RMSE\n",
    "\n",
    "## MAE\n",
    "\n",
    "## R-Squared"
   ]
  }
 ],
 "metadata": {
  "kernelspec": {
   "display_name": "Python 3",
   "language": "python",
   "name": "python3"
  },
  "language_info": {
   "codemirror_mode": {
    "name": "ipython",
    "version": 3
   },
   "file_extension": ".py",
   "mimetype": "text/x-python",
   "name": "python",
   "nbconvert_exporter": "python",
   "pygments_lexer": "ipython3",
   "version": "3.8.3"
  },
  "toc": {
   "base_numbering": 1,
   "nav_menu": {},
   "number_sections": true,
   "sideBar": true,
   "skip_h1_title": false,
   "title_cell": "Table of Contents",
   "title_sidebar": "Contents",
   "toc_cell": false,
   "toc_position": {},
   "toc_section_display": true,
   "toc_window_display": false
  }
 },
 "nbformat": 4,
 "nbformat_minor": 4
}
