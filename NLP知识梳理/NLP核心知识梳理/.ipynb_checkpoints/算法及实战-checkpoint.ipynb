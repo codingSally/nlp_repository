{
 "cells": [
  {
   "cell_type": "markdown",
   "metadata": {},
   "source": [
    "# 正向匹配算法"
   ]
  },
  {
   "cell_type": "code",
   "execution_count": 5,
   "metadata": {},
   "outputs": [
    {
     "name": "stdout",
     "output_type": "stream",
     "text": [
      "['研究生', '命', '的', '起源']\n"
     ]
    }
   ],
   "source": [
    "def cut(text):\n",
    "    \n",
    "    result = []\n",
    "    index = 0\n",
    "    text_len = len(text)\n",
    "    dic = ['研究','研究生','生命','命','的','起源']\n",
    "    \n",
    "    max_len = 3 # 字典中的最长词\n",
    "    while text_len > index:\n",
    "        for size in range(max_len + index, index, -1):\n",
    "            piece = text[index : size]\n",
    "            if piece in dic:\n",
    "                index = size -1\n",
    "                break\n",
    "        \n",
    "        index = index +1\n",
    "        result.append(piece)\n",
    "        \n",
    "    print(result)\n",
    "\n",
    "text = '研究生命的起源'\n",
    "\n",
    "cut(text)"
   ]
  },
  {
   "cell_type": "markdown",
   "metadata": {},
   "source": [
    "# 逆向匹配算法"
   ]
  },
  {
   "cell_type": "code",
   "execution_count": 9,
   "metadata": {},
   "outputs": [
    {
     "name": "stdout",
     "output_type": "stream",
     "text": [
      "['起源', '的', '生命', '研究']\n",
      "['研究', '生命', '的', '起源']\n"
     ]
    }
   ],
   "source": [
    "def cut(text):\n",
    "\n",
    "    result = []\n",
    "    index = len(text)\n",
    "    dic = ['研究','研究生','生命','命','的','起源']\n",
    "    \n",
    "    max_len = 3 # 字典中的最长词\n",
    "    while index > 0:\n",
    "        for size in range(index - max_len, index):\n",
    "            piece = text[size : index]\n",
    "            if piece in dic:\n",
    "                index = size + 1\n",
    "                break\n",
    "            \n",
    "        index = index -1\n",
    "        result.append(piece)\n",
    "    \n",
    "    print(result)\n",
    "    result.reverse()\n",
    "    print(result)\n",
    "            \n",
    "text = '研究生命的起源'\n",
    "\n",
    "cut(text)"
   ]
  },
  {
   "cell_type": "markdown",
   "metadata": {},
   "source": [
    "# 实战之高频词提取"
   ]
  },
  {
   "cell_type": "code",
   "execution_count": 10,
   "metadata": {},
   "outputs": [],
   "source": [
    "import glob\n",
    "import random\n",
    "import jieba\n",
    "\n",
    "# 读取数据\n",
    "def get_content(path):\n",
    "    \n",
    "    with open(path, 'r', encoding='gbk', errors='ingore') as f :\n",
    "        content = ''\n",
    "        \n",
    "        for l in f :\n",
    "            l = l.strip()\n",
    "            count += 1\n",
    "            \n",
    "        return content\n",
    "    \n",
    "# 高频词统计函数\n",
    "\n",
    "def get_TF(words, topk = 10):\n",
    "    \n",
    "    tf_dic = {}\n",
    "    for w in words:\n",
    "        tf_dic[w] = tf_dic.get(w, 0) + 1\n",
    "    \n",
    "    return sorted(tf_dic.items(), key = lambda x : x[1], reverse=True)[: topk]\n",
    "\n"
   ]
  },
  {
   "cell_type": "code",
   "execution_count": null,
   "metadata": {},
   "outputs": [],
   "source": []
  }
 ],
 "metadata": {
  "kernelspec": {
   "display_name": "Python 3",
   "language": "python",
   "name": "python3"
  },
  "language_info": {
   "codemirror_mode": {
    "name": "ipython",
    "version": 3
   },
   "file_extension": ".py",
   "mimetype": "text/x-python",
   "name": "python",
   "nbconvert_exporter": "python",
   "pygments_lexer": "ipython3",
   "version": "3.8.3"
  },
  "toc": {
   "base_numbering": 1,
   "nav_menu": {},
   "number_sections": true,
   "sideBar": true,
   "skip_h1_title": false,
   "title_cell": "Table of Contents",
   "title_sidebar": "Contents",
   "toc_cell": false,
   "toc_position": {},
   "toc_section_display": true,
   "toc_window_display": false
  }
 },
 "nbformat": 4,
 "nbformat_minor": 4
}
