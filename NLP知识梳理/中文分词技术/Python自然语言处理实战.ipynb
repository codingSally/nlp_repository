{
 "cells": [
  {
   "cell_type": "markdown",
   "metadata": {},
   "source": [
    "# 中文分词"
   ]
  },
  {
   "cell_type": "markdown",
   "metadata": {},
   "source": [
    "## 规则分词\n",
    "\n",
    "- 一种机械的分词方法，主要通过维护词典，在切分语句时，将语句的每个字符串与词表中的词进行逐一匹配，找到着切分，否则不予切分\n",
    "\n",
    "## 分词算法\n",
    "\n",
    "### 正向匹配算法\n",
    "\n",
    "- 基本思想\n",
    "\n",
    "假定分词词典中的最长词有i个汉字字符，则用被处理文档的当前字符串中的前i个作为匹配字段，查找词典。\n",
    "\n",
    "> 若词典中，存在这样的一个i字词，则匹配成功\n",
    "\n",
    "> 否则，去掉匹配字段中的最后一个字，重新进行查找\n",
    "\n",
    "### 逆向匹配算法\n",
    "\n",
    "- 基本思想\n",
    "\n",
    "从被处理文档的末端开始匹配扫描，每次取最末端的第i个字符（i同样也为词典中最长词数）作为匹配字段，\n",
    "\n",
    "> 若字典中，存在这样的一个i字词，则匹配成功\n",
    "\n",
    "> 否则，去掉匹配字段最前面的一个字，继续匹配\n",
    "\n",
    "相应的，它使用的分词词典，是逆序词典\n",
    "\n",
    "### 双向匹配算法\n",
    "\n",
    "- 基本思想\n",
    "\n",
    "将正向最大匹配法得到的分词结果和逆向最大匹配法得到的结果进行比较，然后按照最大匹配原则，选取词数切分最少的作为结果\n",
    "\n",
    "\n",
    "## 统计分词\n",
    "\n",
    "### 语言模型\n",
    "\n",
    "- n元语法模型及思想\n",
    "\n",
    "### HMM模型\n",
    "\n",
    "- 概念及思想\n",
    "\n",
    "## 中文分词工具 - jieba\n",
    "\n",
    "### 精确模式\n",
    "\n",
    "- 试图将句子最精确地切开，适合文本分析\n",
    "\n",
    "### 全模式\n",
    "\n",
    "- 把句子中所有可以成词的词语都扫描出来，速度非常快，但是不能解决歧义\n",
    "\n",
    "### 搜索引擎模式\n",
    "\n",
    "- 在精确模式的基础上，对长词再次切分，提高召回率，适合用于搜索引擎\n",
    "\n",
    "## 实战之高频词提取"
   ]
  },
  {
   "cell_type": "code",
   "execution_count": null,
   "metadata": {},
   "outputs": [],
   "source": []
  },
  {
   "cell_type": "code",
   "execution_count": null,
   "metadata": {},
   "outputs": [],
   "source": []
  },
  {
   "cell_type": "code",
   "execution_count": null,
   "metadata": {},
   "outputs": [],
   "source": []
  },
  {
   "cell_type": "code",
   "execution_count": null,
   "metadata": {},
   "outputs": [],
   "source": []
  }
 ],
 "metadata": {
  "kernelspec": {
   "display_name": "Python 3",
   "language": "python",
   "name": "python3"
  },
  "language_info": {
   "codemirror_mode": {
    "name": "ipython",
    "version": 3
   },
   "file_extension": ".py",
   "mimetype": "text/x-python",
   "name": "python",
   "nbconvert_exporter": "python",
   "pygments_lexer": "ipython3",
   "version": "3.8.3"
  },
  "toc": {
   "base_numbering": 1,
   "nav_menu": {},
   "number_sections": true,
   "sideBar": true,
   "skip_h1_title": false,
   "title_cell": "Table of Contents",
   "title_sidebar": "Contents",
   "toc_cell": false,
   "toc_position": {},
   "toc_section_display": true,
   "toc_window_display": true
  }
 },
 "nbformat": 4,
 "nbformat_minor": 4
}
