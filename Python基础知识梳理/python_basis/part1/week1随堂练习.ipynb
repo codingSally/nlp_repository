{
 "cells": [
  {
   "cell_type": "markdown",
   "metadata": {},
   "source": [
    "# 命令行参数练习\n"
   ]
  },
  {
   "cell_type": "markdown",
   "metadata": {},
   "source": [
    "sys.argv：以列表的方式获取运行 Python 程序的命令行参数存放其中。其中 sys.argv[0] 通常就是指该 Python程序本身，sys.argv[1] 代表第一个参数，sys.argv[2] 代表第二个参数，以此类推。类似于 Shell 中的 `$0、$1、$2`"
   ]
  },
  {
   "cell_type": "code",
   "execution_count": 1,
   "metadata": {
    "ExecuteTime": {
     "end_time": "2020-09-19T11:49:35.358766Z",
     "start_time": "2020-09-19T11:49:35.356292Z"
    }
   },
   "outputs": [],
   "source": [
    "# 从终端运行Python程序   python test.py 1 2 3 \n",
    "# 编写test.py文件，判断有几个参数，并输出。输出内容如“程序名称为：？，第一个参数为：？，第二个参数为：？。。。”"
   ]
  },
  {
   "cell_type": "markdown",
   "metadata": {},
   "source": [
    "##### 拓展：\n",
    "- getopt模块\n",
    "- optparse模块\n",
    "- argparse模块"
   ]
  },
  {
   "cell_type": "markdown",
   "metadata": {},
   "source": [
    "# 运算符练习"
   ]
  },
  {
   "cell_type": "markdown",
   "metadata": {},
   "source": [
    "## 输入圆的半径计算计算周长和面积。"
   ]
  },
  {
   "cell_type": "code",
   "execution_count": 2,
   "metadata": {
    "ExecuteTime": {
     "end_time": "2020-09-19T11:55:15.665867Z",
     "start_time": "2020-09-19T11:55:12.979964Z"
    }
   },
   "outputs": [
    {
     "name": "stdout",
     "output_type": "stream",
     "text": [
      "请输入圆的半径: 1\n",
      "周长: 6.28\n",
      "面积: 3.14\n"
     ]
    }
   ],
   "source": [
    "# 输入半径计算圆的周长和面积\n",
    "import math\n",
    "\n",
    "radius = float(input('请输入圆的半径: '))\n",
    "perimeter = 2 * math.pi * radius\n",
    "area = math.pi * radius * radius\n",
    "print('周长: %.2f' % perimeter)\n",
    "print('面积: %.2f' % area)"
   ]
  },
  {
   "cell_type": "markdown",
   "metadata": {},
   "source": [
    "## 输入年份判断是不是闰年。"
   ]
  },
  {
   "cell_type": "code",
   "execution_count": 3,
   "metadata": {
    "ExecuteTime": {
     "end_time": "2020-09-19T11:55:51.029650Z",
     "start_time": "2020-09-19T11:55:48.229179Z"
    }
   },
   "outputs": [
    {
     "name": "stdout",
     "output_type": "stream",
     "text": [
      "请输入年份: 1111\n",
      "False\n"
     ]
    }
   ],
   "source": [
    "# 输入年份 如果是闰年输出True 否则输出False\n",
    "year = int(input('请输入年份: '))\n",
    "# 如果代码太长写成一行不便于阅读 可以使用\\或()折行\n",
    "is_leap = (year % 4 == 0 and year % 100 != 0 or\n",
    "           year % 400 == 0)\n",
    "print(is_leap)"
   ]
  },
  {
   "cell_type": "markdown",
   "metadata": {},
   "source": [
    "# 条件语句练习"
   ]
  },
  {
   "cell_type": "markdown",
   "metadata": {},
   "source": [
    "## 英制单位与公制单位互换"
   ]
  },
  {
   "cell_type": "code",
   "execution_count": null,
   "metadata": {},
   "outputs": [],
   "source": [
    "# 英制单位英寸和公制单位厘米互换\n",
    "\n",
    "value = float(input('请输入长度: '))\n",
    "unit = input('请输入单位: ')\n",
    "if unit == 'in' or unit == '英寸':\n",
    "    print('%f英寸 = %f厘米' % (value, value * 2.54))\n",
    "elif unit == 'cm' or unit == '厘米':\n",
    "    print('%f厘米 = %f英寸' % (value, value / 2.54))\n",
    "else:\n",
    "    print('请输入有效的单位')"
   ]
  },
  {
   "cell_type": "markdown",
   "metadata": {},
   "source": [
    "## 掷骰子决定做什么"
   ]
  },
  {
   "cell_type": "code",
   "execution_count": null,
   "metadata": {},
   "outputs": [],
   "source": [
    "from random import randint\n",
    "\n",
    "face = randint(1, 6)\n",
    "if face == 1:\n",
    "    result = '唱首歌'\n",
    "elif face == 2:\n",
    "    result = '跳个舞'\n",
    "elif face == 3:\n",
    "    result = '学狗叫'\n",
    "elif face == 4:\n",
    "    result = '做俯卧撑'\n",
    "elif face == 5:\n",
    "    result = '念绕口令'\n",
    "else:\n",
    "    result = '讲冷笑话'\n",
    "print(result)"
   ]
  },
  {
   "cell_type": "markdown",
   "metadata": {},
   "source": [
    "## 百分制成绩转等级制"
   ]
  },
  {
   "cell_type": "code",
   "execution_count": null,
   "metadata": {},
   "outputs": [],
   "source": [
    "\"\"\"\n",
    "百分制成绩转等级制成绩\n",
    "90分以上    --> A\n",
    "80分~89分    --> B\n",
    "70分~79分\t   --> C\n",
    "60分~69分    --> D\n",
    "60分以下    --> E\n",
    "\"\"\"\n",
    "score = float(input('请输入成绩: '))\n",
    "if score >= 90:\n",
    "    grade = 'A'\n",
    "elif score >= 80:\n",
    "    grade = 'B'\n",
    "elif score >= 70:\n",
    "    grade = 'C'\n",
    "elif score >= 60:\n",
    "    grade = 'D'\n",
    "else:\n",
    "    grade = 'E'\n",
    "print('对应的等级是:', grade)"
   ]
  },
  {
   "cell_type": "markdown",
   "metadata": {},
   "source": [
    "## 输入三条边长如果能构成三角形就计算周长和面积"
   ]
  },
  {
   "cell_type": "code",
   "execution_count": null,
   "metadata": {},
   "outputs": [],
   "source": [
    "\"\"\"\n",
    "判断输入的边长能否构成三角形\n",
    "如果能则计算出三角形的周长和面积\n",
    "\"\"\"\n",
    "\n",
    "import math\n",
    "\n",
    "a = float(input('a = '))\n",
    "b = float(input('b = '))\n",
    "c = float(input('c = '))\n",
    "if a + b > c and a + c > b and b + c > a:\n",
    "    print('周长: %f' % (a + b + c))\n",
    "    p = (a + b + c) / 2\n",
    "    area = math.sqrt(p * (p - a) * (p - b) * (p - c))\n",
    "    print('面积: %f' % (area))\n",
    "else:\n",
    "    print('不能构成三角形')"
   ]
  },
  {
   "cell_type": "markdown",
   "metadata": {},
   "source": [
    "## 个人所得税计算器。"
   ]
  },
  {
   "cell_type": "code",
   "execution_count": null,
   "metadata": {},
   "outputs": [],
   "source": [
    "\"\"\"\n",
    "输入月收入和五险一金计算个人所得税\n",
    "\"\"\"\n",
    "\n",
    "salary = float(input('本月收入: '))\n",
    "insurance = float(input('五险一金: '))\n",
    "diff = salary - insurance - 3500\n",
    "if diff <= 0:\n",
    "    rate = 0\n",
    "    deduction = 0\n",
    "elif diff < 1500:\n",
    "    rate = 0.03\n",
    "    deduction = 0\n",
    "elif diff < 4500:\n",
    "    rate = 0.1\n",
    "    deduction = 105\n",
    "elif diff < 9000:\n",
    "    rate = 0.2\n",
    "    deduction = 555\n",
    "elif diff < 35000:\n",
    "    rate = 0.25\n",
    "    deduction = 1005\n",
    "elif diff < 55000:\n",
    "    rate = 0.3\n",
    "    deduction = 2755\n",
    "elif diff < 80000:\n",
    "    rate = 0.35\n",
    "    deduction = 5505\n",
    "else:\n",
    "    rate = 0.45\n",
    "    deduction = 13505\n",
    "tax = abs(diff * rate - deduction)\n",
    "print('个人所得税: ￥%.2f元' % tax)\n",
    "print('实际到手收入: ￥%.2f元' % (diff + 3500 - tax))"
   ]
  },
  {
   "cell_type": "markdown",
   "metadata": {},
   "source": [
    "# 循环语句练习"
   ]
  },
  {
   "cell_type": "markdown",
   "metadata": {},
   "source": [
    "## 输入一个正整数判断它是不是素数"
   ]
  },
  {
   "cell_type": "code",
   "execution_count": null,
   "metadata": {},
   "outputs": [],
   "source": [
    "\"\"\"\n",
    "输入一个正整数判断它是不是素数\n",
    "\"\"\"\n",
    "from math import sqrt\n",
    "\n",
    "num = int(input('请输入一个正整数: '))\n",
    "end = int(sqrt(num))\n",
    "is_prime = True\n",
    "for x in range(2, end + 1):\n",
    "    if num % x == 0:\n",
    "        is_prime = False\n",
    "        break\n",
    "if is_prime and num != 1:\n",
    "    print('%d是素数' % num)\n",
    "else:\n",
    "    print('%d不是素数' % num)"
   ]
  },
  {
   "cell_type": "markdown",
   "metadata": {},
   "source": [
    "## 输入两个正整数计算最大公约数和最小公倍数"
   ]
  },
  {
   "cell_type": "code",
   "execution_count": null,
   "metadata": {},
   "outputs": [],
   "source": [
    "\"\"\"\n",
    "输入两个正整数计算最大公约数和最小公倍数\n",
    "\"\"\"\n",
    "\n",
    "x = int(input('x = '))\n",
    "y = int(input('y = '))\n",
    "if x > y:\n",
    "    x, y = y, x\n",
    "for factor in range(x, 0, -1):\n",
    "    if x % factor == 0 and y % factor == 0:\n",
    "        print('%d和%d的最大公约数是%d' % (x, y, factor))\n",
    "        print('%d和%d的最小公倍数是%d' % (x, y, x * y // factor))\n",
    "        break"
   ]
  },
  {
   "cell_type": "markdown",
   "metadata": {},
   "source": [
    "## 打印各种三角形图案"
   ]
  },
  {
   "cell_type": "code",
   "execution_count": null,
   "metadata": {},
   "outputs": [],
   "source": [
    "\"\"\"\n",
    "打印各种三角形图案\n",
    "\n",
    "*\n",
    "**\n",
    "***\n",
    "****\n",
    "*****\n",
    "\n",
    "    *\n",
    "   **\n",
    "  ***\n",
    " ****\n",
    "*****\n",
    "\n",
    "    *\n",
    "   ***\n",
    "  *****\n",
    " *******\n",
    "*********\n",
    "\"\"\"\n",
    "\n",
    "row = int(input('请输入行数: '))\n",
    "for i in range(row):\n",
    "    for _ in range(i + 1):\n",
    "        print('*', end='')\n",
    "    print()\n",
    "\n",
    "\n",
    "for i in range(row):\n",
    "    for j in range(row):\n",
    "        if j < row - i - 1:\n",
    "            print(' ', end='')\n",
    "        else:\n",
    "            print('*', end='')\n",
    "    print()\n",
    "\n",
    "for i in range(row):\n",
    "    for _ in range(row - i - 1):\n",
    "        print(' ', end='')\n",
    "    for _ in range(2 * i + 1):\n",
    "        print('*', end='')\n",
    "    print()"
   ]
  },
  {
   "cell_type": "markdown",
   "metadata": {},
   "source": [
    "## 水仙花数"
   ]
  },
  {
   "cell_type": "code",
   "execution_count": null,
   "metadata": {},
   "outputs": [],
   "source": [
    "\"\"\"\n",
    "找出100~999之间的所有水仙花数\n",
    "水仙花数是各位立方和等于这个数本身的数\n",
    "如: 153 = 1**3 + 5**3 + 3**3\n",
    "\"\"\"\n",
    "\n",
    "for num in range(100, 1000):\n",
    "    low = num % 10\n",
    "    mid = num // 10 % 10\n",
    "    high = num // 100\n",
    "    if num == low ** 3 + mid ** 3 + high ** 3:\n",
    "        print(num)\n"
   ]
  },
  {
   "cell_type": "markdown",
   "metadata": {},
   "source": [
    "## 完美数"
   ]
  },
  {
   "cell_type": "code",
   "execution_count": null,
   "metadata": {},
   "outputs": [],
   "source": [
    "\"\"\"\n",
    "找出1~9999之间的所有完美数\n",
    "完美数是除自身外其他所有因子的和正好等于这个数本身的数\n",
    "例如: 6 = 1 + 2 + 3, 28 = 1 + 2 + 4 + 7 + 14\n",
    "\"\"\"\n",
    "import math\n",
    "\n",
    "for num in range(1, 10000):\n",
    "    result = 0\n",
    "    for factor in range(1, int(math.sqrt(num)) + 1):\n",
    "        if num % factor == 0:\n",
    "            result += factor\n",
    "            if factor > 1 and num // factor != factor:\n",
    "                result += num // factor\n",
    "    if result == num:\n",
    "        print(num)\n"
   ]
  },
  {
   "cell_type": "markdown",
   "metadata": {},
   "source": [
    "## 《百钱百鸡》问题"
   ]
  },
  {
   "cell_type": "code",
   "execution_count": null,
   "metadata": {},
   "outputs": [],
   "source": [
    "\"\"\"\n",
    "求解《百钱百鸡》问题\n",
    "1只公鸡5元 1只母鸡3元 3只小鸡1元 用100元买100只鸡\n",
    "问公鸡 母鸡 小鸡各有多少只\n",
    "\"\"\"\n",
    "\n",
    "for x in range(0, 20):\n",
    "    for y in range(0, 33):\n",
    "        z = 100 - x - y\n",
    "        if 5 * x + 3 * y + z / 3 == 100:\n",
    "            print('公鸡: %d只, 母鸡: %d只, 小鸡: %d只' % (x, y, z))\n"
   ]
  },
  {
   "cell_type": "markdown",
   "metadata": {},
   "source": [
    "## 斐波那契数列"
   ]
  },
  {
   "cell_type": "code",
   "execution_count": null,
   "metadata": {},
   "outputs": [],
   "source": [
    "\"\"\"\n",
    "输出斐波那契数列的前20个数\n",
    "1 1 2 3 5 8 13 21 ...\n",
    "\"\"\"\n",
    "\n",
    "a = 0\n",
    "b = 1\n",
    "for _ in range(20):\n",
    "    a, b = b, a + b\n",
    "    print(a, end=' ')\n"
   ]
  },
  {
   "cell_type": "markdown",
   "metadata": {},
   "source": [
    "## Craps赌博游戏"
   ]
  },
  {
   "cell_type": "code",
   "execution_count": null,
   "metadata": {},
   "outputs": [],
   "source": [
    "\"\"\"\n",
    "Craps赌博游戏\n",
    "玩家摇两颗色子 如果第一次摇出7点或11点 玩家胜\n",
    "如果摇出2点 3点 12点 庄家胜 其他情况游戏继续\n",
    "玩家再次要色子 如果摇出7点 庄家胜\n",
    "如果摇出第一次摇的点数 玩家胜\n",
    "否则游戏继续 玩家继续摇色子\n",
    "玩家进入游戏时有1000元的赌注 全部输光游戏结束\n",
    "\"\"\"\n",
    "from random import randint\n",
    "\n",
    "money = 1000\n",
    "while money > 0:\n",
    "    print('你的总资产为:', money)\n",
    "    needs_go_on = False\n",
    "    while True:\n",
    "        debt = int(input('请下注: '))\n",
    "        if 0 < debt <= money:\n",
    "            break\n",
    "    first = randint(1, 6) + randint(1, 6)\n",
    "    print('玩家摇出了%d点' % first)\n",
    "    if first == 7 or first == 11:\n",
    "        print('玩家胜!')\n",
    "        money += debt\n",
    "    elif first == 2 or first == 3 or first == 12:\n",
    "        print('庄家胜!')\n",
    "        money -= debt\n",
    "    else:\n",
    "        needs_go_on = True\n",
    "\n",
    "    while needs_go_on:\n",
    "        current = randint(1, 6) + randint(1, 6)\n",
    "        print('玩家摇出了%d点' % current)\n",
    "        if current == 7:\n",
    "            print('庄家胜')\n",
    "            money -= debt\n",
    "            needs_go_on = False\n",
    "        elif current == first:\n",
    "            print('玩家胜')\n",
    "            money += debt\n",
    "            needs_go_on = False\n",
    "\n",
    "print('你破产了, 游戏结束!')\n"
   ]
  },
  {
   "cell_type": "markdown",
   "metadata": {},
   "source": [
    "# 函数练习"
   ]
  },
  {
   "cell_type": "markdown",
   "metadata": {},
   "source": [
    "## 练习1：在屏幕上显示跑马灯文字"
   ]
  },
  {
   "cell_type": "code",
   "execution_count": null,
   "metadata": {},
   "outputs": [],
   "source": [
    "import os\n",
    "import time\n",
    "\n",
    "\n",
    "def main():\n",
    "    content = '北京欢迎你为你开天辟地…………'\n",
    "    while True:\n",
    "        # 清理屏幕上的输出\n",
    "        os.system('cls')  # os.system('clear')\n",
    "        print(content)\n",
    "        # 休眠200毫秒\n",
    "        time.sleep(0.2)\n",
    "        content = content[1:] + content[0]\n",
    "\n",
    "\n",
    "if __name__ == '__main__':\n",
    "    main()"
   ]
  },
  {
   "cell_type": "markdown",
   "metadata": {},
   "source": [
    "## 练习2：设计一个函数产生指定长度的验证码，验证码由大小写字母和数字构成。"
   ]
  },
  {
   "cell_type": "code",
   "execution_count": null,
   "metadata": {},
   "outputs": [],
   "source": [
    "import random\n",
    "\n",
    "\n",
    "def generate_code(code_len=4):\n",
    "    \"\"\"\n",
    "    生成指定长度的验证码\n",
    "\n",
    "    :param code_len: 验证码的长度(默认4个字符)\n",
    "\n",
    "    :return: 由大小写英文字母和数字构成的随机验证码\n",
    "    \"\"\"\n",
    "    all_chars = '0123456789abcdefghijklmnopqrstuvwxyzABCDEFGHIJKLMNOPQRSTUVWXYZ'\n",
    "    last_pos = len(all_chars) - 1\n",
    "    code = ''\n",
    "    for _ in range(code_len):\n",
    "        index = random.randint(0, last_pos)\n",
    "        code += all_chars[index]\n",
    "    return code"
   ]
  },
  {
   "cell_type": "markdown",
   "metadata": {},
   "source": [
    "## 练习3：设计一个函数返回给定文件名的后缀名。"
   ]
  },
  {
   "cell_type": "code",
   "execution_count": null,
   "metadata": {},
   "outputs": [],
   "source": [
    "def get_suffix(filename, has_dot=False):\n",
    "    \"\"\"\n",
    "    获取文件名的后缀名\n",
    "\n",
    "    :param filename: 文件名\n",
    "    :param has_dot: 返回的后缀名是否需要带点\n",
    "    :return: 文件的后缀名\n",
    "    \"\"\"\n",
    "    pos = filename.rfind('.')\n",
    "    if 0 < pos < len(filename) - 1:\n",
    "        index = pos if has_dot else pos + 1\n",
    "        return filename[index:]\n",
    "    else:\n",
    "        return ''"
   ]
  },
  {
   "cell_type": "markdown",
   "metadata": {},
   "source": [
    "## 练习4：设计一个函数返回传入的列表中最大和第二大的元素的值。"
   ]
  },
  {
   "cell_type": "code",
   "execution_count": null,
   "metadata": {},
   "outputs": [],
   "source": [
    "def max2(x):\n",
    "    m1, m2 = (x[0], x[1]) if x[0] > x[1] else (x[1], x[0])\n",
    "    for index in range(2, len(x)):\n",
    "        if x[index] > m1:\n",
    "            m2 = m1\n",
    "            m1 = x[index]\n",
    "        elif x[index] > m2:\n",
    "            m2 = x[index]\n",
    "    return m1, m2"
   ]
  },
  {
   "cell_type": "markdown",
   "metadata": {},
   "source": [
    "## 练习5：计算指定的年月日是这一年的第几天"
   ]
  },
  {
   "cell_type": "code",
   "execution_count": null,
   "metadata": {},
   "outputs": [],
   "source": [
    "def is_leap_year(year):\n",
    "    \"\"\"\n",
    "    判断指定的年份是不是闰年\n",
    "\n",
    "    :param year: 年份\n",
    "    :return: 闰年返回True平年返回False\n",
    "    \"\"\"\n",
    "    return year % 4 == 0 and year % 100 != 0 or year % 400 == 0\n",
    "\n",
    "\n",
    "def which_day(year, month, date):\n",
    "    \"\"\"\n",
    "    计算传入的日期是这一年的第几天\n",
    "\n",
    "    :param year: 年\n",
    "    :param month: 月\n",
    "    :param date: 日\n",
    "    :return: 第几天\n",
    "    \"\"\"\n",
    "    days_of_month = [\n",
    "        [31, 28, 31, 30, 31, 30, 31, 31, 30, 31, 30, 31],\n",
    "        [31, 29, 31, 30, 31, 30, 31, 31, 30, 31, 30, 31]\n",
    "    ][is_leap_year(year)]\n",
    "    total = 0\n",
    "    for index in range(month - 1):\n",
    "        total += days_of_month[index]\n",
    "    return total + date\n",
    "\n",
    "\n",
    "def main():\n",
    "    print(which_day(1980, 11, 28))\n",
    "    print(which_day(1981, 12, 31))\n",
    "    print(which_day(2018, 1, 1))\n",
    "    print(which_day(2016, 3, 1))\n",
    "\n",
    "\n",
    "if __name__ == '__main__':\n",
    "    main()"
   ]
  },
  {
   "cell_type": "markdown",
   "metadata": {},
   "source": [
    "## 练习6：打印[杨辉三角](https://zh.wikipedia.org/wiki/%E6%9D%A8%E8%BE%89%E4%B8%89%E8%A7%92%E5%BD%A2)。"
   ]
  },
  {
   "cell_type": "code",
   "execution_count": 4,
   "metadata": {
    "ExecuteTime": {
     "end_time": "2020-09-19T12:12:59.866705Z",
     "start_time": "2020-09-19T12:12:57.205539Z"
    }
   },
   "outputs": [
    {
     "name": "stdout",
     "output_type": "stream",
     "text": [
      "Number of rows: 4\n",
      "1\t\n",
      "1\t1\t\n",
      "1\t2\t1\t\n",
      "1\t3\t3\t1\t\n"
     ]
    }
   ],
   "source": [
    "def main():\n",
    "    num = int(input('Number of rows: '))\n",
    "    yh = [[]] * num\n",
    "    for row in range(len(yh)):\n",
    "        yh[row] = [None] * (row + 1)\n",
    "        for col in range(len(yh[row])):\n",
    "            if col == 0 or col == row:\n",
    "                yh[row][col] = 1\n",
    "            else:\n",
    "                yh[row][col] = yh[row - 1][col] + yh[row - 1][col - 1]\n",
    "            print(yh[row][col], end='\\t')\n",
    "        print()\n",
    "\n",
    "\n",
    "if __name__ == '__main__':\n",
    "    main()"
   ]
  },
  {
   "cell_type": "markdown",
   "metadata": {},
   "source": [
    "# 综合案例"
   ]
  },
  {
   "cell_type": "markdown",
   "metadata": {},
   "source": [
    "## 案例1：双色球选号"
   ]
  },
  {
   "cell_type": "code",
   "execution_count": null,
   "metadata": {},
   "outputs": [],
   "source": [
    "from random import randrange, randint, sample\n",
    "\n",
    "\n",
    "def display(balls):\n",
    "    \"\"\"\n",
    "    输出列表中的双色球号码\n",
    "    \"\"\"\n",
    "    for index, ball in enumerate(balls):\n",
    "        if index == len(balls) - 1:\n",
    "            print('|', end=' ')\n",
    "        print('%02d' % ball, end=' ')\n",
    "    print()\n",
    "\n",
    "\n",
    "def random_select():\n",
    "    \"\"\"\n",
    "    随机选择一组号码\n",
    "    \"\"\"\n",
    "    red_balls = [x for x in range(1, 34)]\n",
    "    selected_balls = []\n",
    "    selected_balls = sample(red_balls, 6)\n",
    "    selected_balls.sort()\n",
    "    selected_balls.append(randint(1, 16))\n",
    "    return selected_balls\n",
    "\n",
    "\n",
    "def main():\n",
    "    n = int(input('机选几注: '))\n",
    "    for _ in range(n):\n",
    "        display(random_select())\n",
    "\n",
    "\n",
    "if __name__ == '__main__':\n",
    "    main()"
   ]
  },
  {
   "cell_type": "markdown",
   "metadata": {},
   "source": [
    "> **说明：** 上面使用random模块的sample函数来实现从列表中选择不重复的n个元素。"
   ]
  },
  {
   "cell_type": "markdown",
   "metadata": {},
   "source": [
    "## 综合案例2：[约瑟夫环问题](https://zh.wikipedia.org/wiki/%E7%BA%A6%E7%91%9F%E5%A4%AB%E6%96%AF%E9%97%AE%E9%A2%98)"
   ]
  },
  {
   "cell_type": "markdown",
   "metadata": {},
   "source": [
    "\n",
    "《幸运的基督徒》\n",
    "\n",
    "有15个基督徒和15个非基督徒在海上遇险，为了能让一部分人活下来不得不将其中15个人扔到海里面去，有个人想了个办法就是大家围成一个圈，由某个人开始从1报数，报到9的人就扔到海里面，他后面的人接着从1开始报数，报到9的人继续扔到海里面，直到扔掉15个人。由于上帝的保佑，15个基督徒都幸免于难，问这些人最开始是怎么站的，哪些位置是基督徒哪些位置是非基督徒。\n"
   ]
  },
  {
   "cell_type": "code",
   "execution_count": null,
   "metadata": {},
   "outputs": [],
   "source": [
    "def main():\n",
    "    persons = [True] * 30\n",
    "    counter, index, number = 0, 0, 0\n",
    "    while counter < 15:\n",
    "        if persons[index]:\n",
    "            number += 1\n",
    "            if number == 9:\n",
    "                persons[index] = False\n",
    "                counter += 1\n",
    "                number = 0\n",
    "        index += 1\n",
    "        index %= 30\n",
    "    for person in persons:\n",
    "        print('基' if person else '非', end='')\n",
    "\n",
    "\n",
    "if __name__ == '__main__':\n",
    "    main()\n"
   ]
  },
  {
   "cell_type": "markdown",
   "metadata": {},
   "source": [
    "## 综合案例3：[井字棋](https://zh.wikipedia.org/wiki/%E4%BA%95%E5%AD%97%E6%A3%8B)游戏"
   ]
  },
  {
   "cell_type": "code",
   "execution_count": null,
   "metadata": {},
   "outputs": [],
   "source": [
    "import os\n",
    "\n",
    "\n",
    "def print_board(board):\n",
    "    print(board['TL'] + '|' + board['TM'] + '|' + board['TR'])\n",
    "    print('-+-+-')\n",
    "    print(board['ML'] + '|' + board['MM'] + '|' + board['MR'])\n",
    "    print('-+-+-')\n",
    "    print(board['BL'] + '|' + board['BM'] + '|' + board['BR'])\n",
    "\n",
    "\n",
    "def main():\n",
    "    init_board = {\n",
    "        'TL': ' ', 'TM': ' ', 'TR': ' ',\n",
    "        'ML': ' ', 'MM': ' ', 'MR': ' ',\n",
    "        'BL': ' ', 'BM': ' ', 'BR': ' '\n",
    "    }\n",
    "    begin = True\n",
    "    while begin:\n",
    "        curr_board = init_board.copy()\n",
    "        begin = False\n",
    "        turn = 'x'\n",
    "        counter = 0\n",
    "        os.system('clear')\n",
    "        print_board(curr_board)\n",
    "        while counter < 9:\n",
    "            move = input('轮到%s走棋, 请输入位置: ' % turn)\n",
    "            if curr_board[move] == ' ':\n",
    "                counter += 1\n",
    "                curr_board[move] = turn\n",
    "                if turn == 'x':\n",
    "                    turn = 'o'\n",
    "                else:\n",
    "                    turn = 'x'\n",
    "            os.system('clear')\n",
    "            print_board(curr_board)\n",
    "        choice = input('再玩一局?(yes|no)')\n",
    "        begin = choice == 'yes'\n",
    "\n",
    "\n",
    "if __name__ == '__main__':\n",
    "    main()"
   ]
  }
 ],
 "metadata": {
  "kernelspec": {
   "display_name": "Python 3",
   "language": "python",
   "name": "python3"
  },
  "language_info": {
   "codemirror_mode": {
    "name": "ipython",
    "version": 3
   },
   "file_extension": ".py",
   "mimetype": "text/x-python",
   "name": "python",
   "nbconvert_exporter": "python",
   "pygments_lexer": "ipython3",
   "version": "3.8.3"
  },
  "toc": {
   "base_numbering": 1,
   "nav_menu": {},
   "number_sections": true,
   "sideBar": true,
   "skip_h1_title": false,
   "title_cell": "Table of Contents",
   "title_sidebar": "Contents",
   "toc_cell": false,
   "toc_position": {},
   "toc_section_display": true,
   "toc_window_display": true
  },
  "varInspector": {
   "cols": {
    "lenName": 16,
    "lenType": 16,
    "lenVar": 40
   },
   "kernels_config": {
    "python": {
     "delete_cmd_postfix": "",
     "delete_cmd_prefix": "del ",
     "library": "var_list.py",
     "varRefreshCmd": "print(var_dic_list())"
    },
    "r": {
     "delete_cmd_postfix": ") ",
     "delete_cmd_prefix": "rm(",
     "library": "var_list.r",
     "varRefreshCmd": "cat(var_dic_list()) "
    }
   },
   "types_to_exclude": [
    "module",
    "function",
    "builtin_function_or_method",
    "instance",
    "_Feature"
   ],
   "window_display": false
  }
 },
 "nbformat": 4,
 "nbformat_minor": 2
}
