{
 "cells": [
  {
   "cell_type": "markdown",
   "metadata": {},
   "source": [
    "# python基础"
   ]
  },
  {
   "cell_type": "markdown",
   "metadata": {},
   "source": [
    "## Python的人工智能入门"
   ]
  },
  {
   "cell_type": "markdown",
   "metadata": {},
   "source": [
    "### 为什么Python用于AI\n",
    "人工智能被认为是未来的趋势技术。已经有很多应用程序在上面制作。因此，许多公司和研究人员对此感兴趣。但是，这里出现的主要问题是，在哪种编程语言中可以开发这些AI应用程序？有各种编程语言，如Lisp，Prolog，C++，Java和Python，可用于开发AI的应用程序。其中，Python编程语言获得了巨大的普及，原因如下\n"
   ]
  },
  {
   "cell_type": "markdown",
   "metadata": {},
   "source": [
    "##### 语法简单，编码少\n",
    "Python涉及非常少的编码和简单的语法，其他编程语言可用于开发AI应用程序。由于此功能，测试可以更容易，我们可以更专注于编程。\n",
    "\n",
    "##### 用于AI项目的内置库\n",
    "使用Python进行AI的一个主要优点是它内置了库。Python拥有几乎所有类型的AI项目的库。例如， NumPy，SciPy，matplotlib，nltk，SimpleAI 是一些重要的内置Python库。\n",
    "\n",
    "- 开源 - Python是一种开源编程语言。 这使它在社区中广泛流行。\n",
    "\n",
    "- 可用于广泛的编程 - Python可用于广泛的编程任务，如小型shell脚本到企业Web应用程序。 这是Python适用于AI项目的另一个原因。\n"
   ]
  },
  {
   "cell_type": "markdown",
   "metadata": {},
   "source": [
    "### Python的特点\n",
    "Python是一种高级，解释，交互式和面向对象的脚本语言。Python的设计具有高可读性。它经常使用英语关键词，而其他语言使用标点符号，并且它的语法结构比其他语言少。Python的功能包括以下内容\n",
    "\n",
    "- 易于学习 - 学习曲线低，跟其他很多语言相比，Python更容易上手。\n",
    "\n",
    "- 易于阅读 - Python代码更清晰，更明显。代码规范程度高，可读性强，适合有代码洁癖和强迫症的人群。\n",
    "\n",
    "- 易于维护 - Python的源代码非常易于维护。\n",
    "\n",
    "- 广泛的标准库 - Python的大部分库在UNIX，Windows和Macintosh上非常便携且跨平台兼容。\n",
    "\n",
    "- 交互模式 - Python支持交互模式，允许交互式测试和调试代码片段。\n",
    "\n",
    "- 便携式 - Python可以在各种硬件平台上运行，并且在所有平台上都具有相同的界面。\n",
    "\n",
    "- 可扩展 - 我们可以向Python解释器添加低级模块。 这些模块使程序员能够更高效地添加或定制他们的工具。与shell脚本相比，Python为大型程序提供了更好的结构和支持。可以调用C/C++代码，也可以在C/C++中调用Python\n",
    "\n",
    "- 数据库 - Python为所有主要商业数据库提供接口。\n",
    "\n",
    "- GUI编程 - Python支持GUI应用程序，可以创建和移植到许多系统调用，库和Windows系统，如Windows MFC，Macintosh和Unix的X Window系统。"
   ]
  },
  {
   "cell_type": "markdown",
   "metadata": {},
   "source": [
    "## python初探"
   ]
  },
  {
   "cell_type": "markdown",
   "metadata": {},
   "source": [
    "### python简介"
   ]
  },
  {
   "cell_type": "markdown",
   "metadata": {},
   "source": [
    "#### python的历史\n",
    "1. 1989年圣诞节：Guido von Rossum开始写Python语言的编译器。\n",
    "2. 1991年2月：第一个Python编译器（同时也是解释器）诞生，它是用C语言实现的（后面又出现了Java和C#实现的版本Jython和IronPython，以及PyPy、Brython、Pyston等其他实现），可以调用C语言的库函数。在最早的版本中，Python已经提供了对“类”，“函数”，“异常处理”等构造块的支持，同时提供了“列表”和“字典”等核心数据类型，同时支持以模块为基础来构造应用程序。\n",
    "3. 1994年1月：Python 1.0正式发布。\n",
    "4. 2000年10月16日：Python 2.0发布，增加了实现完整的[垃圾回收](https://zh.wikipedia.org/wiki/%E5%9E%83%E5%9C%BE%E5%9B%9E%E6%94%B6_(%E8%A8%88%E7%AE%97%E6%A9%9F%E7%A7%91%E5%AD%B8))，提供了对[Unicode](https://zh.wikipedia.org/wiki/Unicode)的支持。与此同时，Python的整个开发过程更加透明，社区对开发进度的影响逐渐扩大，生态圈开始慢慢形成。\n",
    "5. 2008年12月3日：Python 3.0发布，它并不完全兼容之前的Python代码，不过因为目前还有不少公司在项目和运维中使用Python 2.x版本，所以Python 3.x的很多新特性后来也被移植到Python 2.6/2.7版本中。\n"
   ]
  },
  {
   "cell_type": "markdown",
   "metadata": {},
   "source": [
    "#### Python的应用领域\n",
    "\n",
    "目前Python在Web应用开发、云基础设施、DevOps、网络爬虫开发、数据分析挖掘、机器学习等领域都有着广泛的应用，因此也产生了Web后端开发、数据接口开发、自动化运维、自动化测试、科学计算和可视化、数据分析、量化交易、机器人开发、图像识别和处理等一系列的职位。\n",
    "\n",
    "- Web应用开发\n",
    "    Python经常被用于Web开发。比如，通过mod_wsgi模块，Apache可以运行用Python编写的Web程序。Python定义了WSGI标准应用接口来协调Http服务器与基于Python的Web程序之间的通信。一些Web框架，如Django,TurboGears,web2py,Zope等，可以让程序员轻松地开发和管理复杂的Web程序。\n",
    "\n",
    "- 操作系统管理、服务器运维的自动化脚本\n",
    "    在很多操作系统里，Python是标准的系统组件。 大多数Linux发行版以及NetBSD、OpenBSD和Mac OS X都集成了Python，可以在终端下直接运行Python。有一些Linux发行版的安装器使用Python语言编写，比如Ubuntu的Ubiquity安装器,Red Hat Linux和Fedora的Anaconda安装器。Gentoo Linux使用Python来编写它的Portage包管理系统。Python标准库包含了多个调用操作系统功能的库。通过pywin32这个第三方软件 包，Python能够访问Windows的COM服务及其它Windows API。使用IronPython，Python程序能够直接调用.Net Framework。一般说来，Python编写的系统管理脚本在可读性、性能、代码重用度、扩展性几方面都优于普通的shell脚本。\n",
    "\n",
    "- 网络爬虫\n",
    "    Python有大量的HTTP请求处理库和HTML解析库，并且有成熟高效的爬虫框架Scrapy和分布式解决方案scrapy-redis，在爬虫的应用方面非常广泛。\n",
    "\n",
    "- 科学计算\n",
    "    NumPy、SciPy、Pandas、Matplotlib可以让Python程序员编写科学计算程序。\n",
    "\n",
    "- 桌面软件\n",
    "    PyQt、PySide、wxPython、PyGTK是Python快速开发桌面应用程序的利器。\n",
    "\n",
    "- 服务器软件（网络软件）\n",
    "    Python对于各种网络协议的支持很完善，因此经常被用于编写服务器软件、网络爬虫。第三方库Twisted支持异步网络编程和多数标准的网络协议(包含客户端和服务器)，并且提供了多种工具，被广泛用于编写高性能的服务器软件。\n",
    "\n",
    "- 游戏\n",
    "    很多游戏使用C++编写图形显示等高性能模块，而使用Python或者Lua编写游戏的逻辑、服务器。相较于Python，Lua的功能更简单、体积更小；而Python则支持更多的特性和数据类型。\n",
    "\n",
    "- 构思实现，产品早期原型和迭代\n",
    "    Google、NASA、Facebook都在内部大量地使用Python。\n"
   ]
  },
  {
   "cell_type": "markdown",
   "metadata": {},
   "source": [
    "### 搭建编程环境\n",
    "\n",
    "#### Windows环境\n",
    "可以在[Python官方网站](https://www.python.org)下载到Python的Windows安装程序（exe文件），需要注意的是如果在Windows 7环境下安装Python 3.x，需要先安装Service Pack 1补丁包（可以通过一些工具软件自动安装系统补丁的功能来安装），安装过程建议勾选“Add Python 3.x to PATH”（将Python 3.x添加到PATH环境变量）并选择自定义安装，在设置“Optional Features”界面最好将“pip”、“tcl/tk”、“Python test suite”等项全部勾选上。强烈建议选择自定义的安装路径并保证路径中没有中文。安装完成会看到“Setup was successful”的提示。如果稍后运行Python程序时，出现因为缺失一些动态链接库文件而导致Python解释器无法工作的问题，可以按照下面的方法加以解决。\n",
    "\n",
    "如果系统显示api-ms-win-crt\\*.dll文件缺失，可以参照[《api-ms-win-crt\\*.dll缺失原因分析和解决方法》](<https://zhuanlan.zhihu.com/p/32087135>)一文讲解的方法进行处理或者直接在[微软官网](https://www.microsoft.com/zh-cn/download/details.aspx?id=48145)下载Visual C++ Redistributable for Visual Studio 2015文件进行修复；如果是因为更新Windows的DirectX之后导致某些动态链接库文件缺失问题，可以下载一个[DirectX修复工具](<https://dl.pconline.com.cn/download/360074-1.html>)进行修复。\n"
   ]
  },
  {
   "cell_type": "markdown",
   "metadata": {},
   "source": [
    "#### Linux环境\n",
    "\n",
    "Linux环境自带了Python 2.x版本，但是如果要更新到3.x的版本，可以在[Python的官方网站](https://www.python.org)下载Python的源代码并通过源代码构建安装的方式进行安装，具体的步骤如下所示。\n",
    "\n",
    "安装依赖库（因为没有这些依赖库可能在源代码构件安装时因为缺失底层依赖库而失败）。\n",
    "\n",
    "```Shell\n",
    "yum -y install wget gcc zlib-devel bzip2-devel openssl-devel ncurses-devel sqlite-devel readline-devel tk-devel gdbm-devel db4-devel libpcap-devel xz-devel libffi-devel\n",
    "```\n",
    "\n",
    "下载Python源代码并解压缩到指定目录。\n",
    "\n",
    "```Shell\n",
    "wget https://www.python.org/ftp/python/3.7.3/Python-3.7.3.tgz\n",
    "xz -d Python-3.7.3.tar.xz\n",
    "tar -xvf Python-3.7.3.tar\n",
    "```\n",
    "\n",
    "切换至Python源代码目录并执行下面的命令进行配置和安装。\n",
    "\n",
    "```Shell\n",
    "cd Python-3.7.3\n",
    "./configure --prefix=/usr/local/python37 --enable-optimizations\n",
    "make && make install\n",
    "```\n",
    "\n",
    "修改用户主目录下名为.bash_profile的文件，配置PATH环境变量并使其生效。\n",
    "\n",
    "```Shell\n",
    "cd ~\n",
    "vim .bash_profile\n",
    "```\n",
    "\n",
    "```Shell\n",
    "# ... 此处省略上面的代码 ...\n",
    "\n",
    "export PATH=$PATH:/usr/local/python37/bin\n",
    "\n",
    "# ... 此处省略下面的代码 ...\n",
    "```\n",
    "\n",
    "激活环境变量。\n",
    "\n",
    "```Shell\n",
    "source .bash_profile\n",
    "```\n"
   ]
  },
  {
   "cell_type": "markdown",
   "metadata": {},
   "source": [
    "#### macOS环境\n",
    "\n",
    "macOS也自带了Python 2.x版本，可以通过[Python的官方网站](https://www.python.org)提供的安装文件（pkg文件）安装Python 3.x的版本。默认安装完成后，可以通过在终端执行python命令来启动2.x版本的Python解释器，可以通过执行python3命令来启动3.x版本的Python解释器。\n"
   ]
  },
  {
   "cell_type": "markdown",
   "metadata": {},
   "source": [
    "### 从终端运行Python程序\n"
   ]
  },
  {
   "cell_type": "markdown",
   "metadata": {},
   "source": [
    "\n",
    "#### 确认Python的版本\n",
    "\n",
    "可以Windows的命令行提示符中键入下面的命令。\n",
    "\n",
    "```Shell\n",
    "python --version\n",
    "```\n",
    "或者是在Linux或macOS系统的终端中键入下面的命令。\n",
    "\n",
    "```Shell\n",
    "python3 --version\n",
    "```\n",
    "\n",
    "当然也可以先输入python或python3进入交互式环境，再执行以下的代码检查Python的版本。\n",
    "\n",
    "```Python\n",
    "import sys\n",
    "\n",
    "print(sys.version_info)\n",
    "print(sys.version)\n",
    "```\n"
   ]
  },
  {
   "cell_type": "markdown",
   "metadata": {},
   "source": [
    "#### 编写Python源代码\n",
    "\n",
    "可以用文本编辑工具（推荐使用[Sublime](<https://www.sublimetext.com/>)、[Atom](<https://atom.io/>)、[Visual Studio Code](<https://code.visualstudio.com/>)等高级文本编辑工具）编写Python源代码并用py作为后缀名保存该文件，代码内容如下所示。\n",
    "\n",
    "```Python\n",
    "print('hello, world!')\n",
    "```\n"
   ]
  },
  {
   "cell_type": "markdown",
   "metadata": {},
   "source": [
    "#### 运行程序\n",
    "\n",
    "切换到源代码所在的目录并执行下面的命令，看看屏幕上是否输出了\"hello, world!\"。\n",
    "\n",
    "```Shell\n",
    "python hello.py\n",
    "```\n",
    "\n",
    "或\n",
    "\n",
    "```Shell\n",
    "python3 hello.py\n",
    "```"
   ]
  },
  {
   "cell_type": "markdown",
   "metadata": {},
   "source": [
    "### 代码中的注释\n",
    "\n",
    "注释是编程语言的一个重要组成部分，用于在源代码中解释代码的作用从而增强程序的可读性和可维护性，当然也可以将源代码中不需要参与运行的代码段通过注释来去掉，这一点在调试程序的时候经常用到。注释在随源代码进入预处理器或编译时会被移除，不会在目标代码中保留也不会影响程序的执行结果。\n",
    "\n",
    "1. 单行注释 - 以#和空格开头的部分\n",
    "2. 多行注释 - 三个引号开头，三个引号结尾\n",
    "\n",
    "```Python\n",
    "\"\"\"\n",
    "第一个Python程序 - hello, world!\n",
    "向伟大的Dennis M. Ritchie先生致敬\n",
    "\"\"\"\n",
    "print('hello, world!')\n",
    "# print(\"你好,世界！\")\n",
    "print('你好', '世界')\n",
    "print('hello', 'world', sep=', ', end='!')\n",
    "print('goodbye, world', end='!\\n')\n",
    "```"
   ]
  },
  {
   "cell_type": "markdown",
   "metadata": {},
   "source": [
    "### 其他工具介绍"
   ]
  },
  {
   "cell_type": "markdown",
   "metadata": {},
   "source": [
    "#### IDLE - 自带的集成开发工具\n",
    "\n",
    "IDLE是安装Python环境时自带的集成开发工具，如下图所示。但是由于IDLE的用户体验并不是那么好所以很少在实际开发中被采用。"
   ]
  },
  {
   "cell_type": "markdown",
   "metadata": {},
   "source": [
    "#### IPython - 更好的交互式编程工具\n",
    "\n",
    "IPython是一种基于Python的交互式解释器。相较于原生的Python交互式环境，IPython提供了更为强大的编辑和交互功能。可以通过Python的包管理工具pip安装IPython和Jupyter，具体的操作如下所示。\n",
    "\n",
    "```Shell\n",
    "pip install ipython\n",
    "```\n",
    "\n",
    "或\n",
    "\n",
    "```Shell\n",
    "pip3 install ipython\n",
    "```"
   ]
  },
  {
   "cell_type": "markdown",
   "metadata": {},
   "source": [
    "当然，我们也可以通过安装Jupyter工具并运行名为notebook的程序在浏览器窗口中进行交互式代码编写操作。\n",
    "\n",
    "```Shell\n",
    "pip install jupyter\n",
    "```\n",
    "\n",
    "或\n",
    "\n",
    "```Shell\n",
    "pip3 intall jupyter\n",
    "```\n",
    "\n",
    "然后执行下面的命令：\n",
    "\n",
    "```Shell\n",
    "jupyter notebook\n",
    "```"
   ]
  },
  {
   "cell_type": "markdown",
   "metadata": {},
   "source": [
    "#####  预备:Jupyter Notebook环境快速上手\n",
    "![](http://jupyter.org/assets/main-logo.svg)\n",
    "\n",
    "###### 推荐:正常安装及启动\n",
    "- [官网下载](https://www.anaconda.com)安装\n",
    "- [清华镜像下载](https://mirrors.tuna.tsinghua.edu.cn/anaconda/archive/)安装\n",
    "- 命令行启动`jupyter notebook`或点击快捷图标方式启动\n",
    "\n",
    "启动后可以看到文件的目录的特点和当前的用户目录一样：\n",
    "例如我自己的：打开Terminal--->pwd--->ls---》查看当前目录下的文件是否和notebook下的文件一样\n",
    "\n",
    "启动的方式2种：\n",
    "第一种：直接点击anaconda图标---》找到里面的jupyter notebook\n",
    "第二种：terminal--->输入：jupyter notebook\n"
   ]
  },
  {
   "cell_type": "markdown",
   "metadata": {},
   "source": [
    "##### 安装NBextensions的步骤\n",
    "###### windows\n",
    "- 1：确定是已经安装好anaconda\n",
    "- 2：要在anaconda prompt模式下运行（jupyter notebook打开）\n",
    "- 3：pip install jupyter_contrib_nbextensions（安装成功后，关掉jupyter notebook及相关网页，并重新打开，观察是否安装成功）\n",
    "- 4：如果发现依旧失败，则可进行此步骤，注意（jupyter notebook关闭）             \n",
    "       进行配置：jupyter contrib nbextension install --user --skip-running-check\n",
    "- 5：安装完成后，重新启动jupyter notebook，“Nbextensions”出现在导航栏中，勾选目录。 \n",
    "\n",
    "###### macos\n",
    "- 1：确定是已经安装好anaconda\n",
    "- 2：要在Mac终端下运行，如何找到终端（启动台-其他-终端）\n",
    "- 3：先安装nbextensions依次输入运行下面代码：\n",
    "   pip install jupyter_contrib_nbextensionsjupyter contrib nbextension install --user\n",
    "- 4：再安装nbextensions_configurator,依次输入运行以下代码：\n",
    "   pip install jupyter_nbextensions_configuratorjupyter nbextensions_configurator enable --user\n",
    "- 5：安装完成后，关终端，启动anaconda中的jupyter notebook,在主页中，可以看见Nbextensions标签页，选中Hinterland 就能使用代码补全了。\n",
    "\n",
    "###### 里面几个常用的插件\n",
    "- Table of Contents：更容易导航\n",
    "- Autopep8：轻轻一击就能获得简洁代码，相当于代码的格式化\n",
    "- variable inspector：跟踪你的工作空间\n",
    "- ExecuteTime：显示单元格的运行时间和耗时，后面在讲到magic里面有和他相似的内容功能"
   ]
  },
  {
   "cell_type": "markdown",
   "metadata": {},
   "source": [
    "#### Notebook使用\n",
    "- 目录\n",
    "- 文件新建及导入导出\n",
    "- 菜单\n",
    "- 快捷键 [esc+h]\n",
    "jupyter常用的快捷键：\n",
    "\t选中单元格情况下：M----->markdown，Y------>code\n",
    "    \n",
    "\tshift + Tab :查看方法中的参数\n",
    "    \n",
    "\t双击D，删除当前的单元格（删除之后，Crtl + Z还原无效）\n",
    "    \n",
    "\t插入一行：b（bellow），a（above）\n",
    "    \n",
    "\n",
    "\t执行单元：Ctrl + Enter(运行本单元，选中本单元)\n",
    "    \n",
    "    shift + Enter(运行本单元，选中下一个单元)\n",
    "    \n",
    "    Alt + Enter(运行本单元，向下插入一个单元)\n",
    "    \n",
    "\t更多魔法指令：%lsmagic查看"
   ]
  },
  {
   "cell_type": "markdown",
   "metadata": {},
   "source": [
    "##### Notebook中详解\n",
    "\n",
    "\n",
    "* Python CELL\n",
    "* Markdown CELL &* Latex in markdown cell\n",
    "* Magic\n",
    "\n",
    "shell这边分为两个部分，\n",
    "1.Python cell----写Python代码\n",
    "2.makedown cell\n",
    "3.latex cell---写数学公式"
   ]
  },
  {
   "cell_type": "markdown",
   "metadata": {},
   "source": [
    "#### Markdown CELL &* Latex in markdown cell\n",
    "LaTeX实现的原理类似于HTML，Notebook中的Markdown格式解释器中内置Latex渲染器，可以将由\\$与\\$包裹的内容进行渲染并产生最终效果。\n",
    "\n",
    "sum求和符号\n",
    "\n",
    "$$\\sum_{i =1}^{n}ab$$\n",
    "\n",
    "\n",
    "\n",
    "##### 希腊字母   \n",
    "|希腊字母小写/大写|LaTeX形式|希腊字母小写/大写|LaTeX形式|\n",
    "|:---|:---|:---|:---|\n",
    "|α A|\\alpha A\t|μ N|\t\\mu N|\n",
    "|β B|\\beta B|ξ Ξ|\\xi \\Xi|\n",
    "|γ Γ\t|\\gamma \\Gamma\t|o O|o O|\n",
    "|δ Δ\t|\\delta \\ Delta\t|π Π|\t\\pi \\Pi|\n",
    "|ϵ ε E\t|\\epsilon \\varepsilon E\t|ρ ϱ P\t|\\rho \\varrho P|\n",
    "|ζ Z\t|\\zeta Z\t|σ Σ|\t\\sigma \\Sigma|\n",
    "|η H\t|\\eta H\t|τ T\t|\\tau T|\n",
    "|θ ϑ Θ\t|\\theta \\vartheta \\Theta|\tυ Υ|\t\\upsilon \\Upsilon|\n",
    "|ι I\t|\\iota I\t|ϕ φ Φ|\t\\phi \\varphi \\Phi|\n",
    "|κ K\t|\\kappa K\t|χ X\t|\\chi X|\n",
    "|λ Λ\t|\\lambda \\Lambda\t|ψ Ψ|\t\\psi \\Psi|\n",
    "\n",
    "##### 不同字体\n",
    "mathbb:$\\mathbb{ABCDEFGHIJKLMNOPQRSTUVWXYZ,abcdefghijklmnopqrstuvwxyz}$   \n",
    "mathscr:$\\mathscr{ABCDEFGHIJKLMNOPQRSTUVWXYZ,abcdefghijklmnopqrstuvwxyz}$   \n",
    "mathcal:$\\mathcal{ABCDEFGHIJKLMNOPQRSTUVWXYZ,abcdefghijklmnopqrstuvwxyz}$   \n",
    "mathbf:$\\mathbf{ABCDEFGHIJKLMNOPQRSTUVWXYZ,abcdefghijklmnopqrstuvwxyz}$\n",
    "\n",
    "##### 取消默认斜体\n",
    "默认倾斜：$ x_{z}$   \n",
    "取消默认倾斜$\\rm x_{z}$\n",
    "##### 特殊符号\n",
    "$\\bigcap_{i=1}^{n} \\bigcup_{i=1}^n  \\binom{5}{3}$   \n",
    "$\\forall$- 全称量词,表示任意的，$\\exists$- 存在量词,表示存在/至少一个   \n",
    "$\\partial$ 偏导符号， $\\propto$ 正比符号，$\\mathop{\\lim}_{n \\to \\infty }f(x)$无穷符号及极限\n",
    "\n",
    "##### 简单公式\n",
    ">$y=x^2$\n",
    "\n",
    ">$e^{i\\pi} + 1 = 0$\n",
    "\n",
    ">$e^x=\\sum_{i=0}^\\infty \\frac{1}{i!}x^i$\n",
    "\n",
    ">独占一行：$$\\frac{n!}{k!(n-k)!} = {n \\choose k}$$\n",
    "\n",
    "##### 矩阵\n",
    "$A_{m,n} =\n",
    " \\begin{pmatrix}\n",
    "  a_{1,1} & a_{1,2} & \\cdots & a_{1,n} \\\\\n",
    "  a_{2,1} & a_{2,2} & \\cdots & a_{2,n} \\\\\n",
    "  \\vdots  & \\vdots  & \\ddots & \\vdots  \\\\\n",
    "  a_{m,1} & a_{m,2} & \\cdots & a_{m,n}\n",
    " \\end{pmatrix}$"
   ]
  },
  {
   "cell_type": "code",
   "execution_count": 26,
   "metadata": {
    "ExecuteTime": {
     "end_time": "2020-09-08T09:16:44.285547Z",
     "start_time": "2020-09-08T09:16:44.282438Z"
    }
   },
   "outputs": [],
   "source": [
    "import handcalcs.render\n",
    "from math import sqrt,asin,sin"
   ]
  },
  {
   "cell_type": "code",
   "execution_count": 24,
   "metadata": {
    "ExecuteTime": {
     "end_time": "2020-09-08T09:16:09.646515Z",
     "start_time": "2020-09-08T09:16:09.627976Z"
    }
   },
   "outputs": [
    {
     "data": {
      "text/latex": [
       "\\[\n",
       "\\begin{aligned}\n",
       "a &= 2\\;\n",
       "\\\\[10pt]\n",
       "b &= 3\\;\n",
       "\\\\[10pt]\n",
       "c &= 2 \\cdot a + \\frac{ b }{ 3 } = 2 \\cdot 2 + \\frac{ 3 }{ 3 } &= 5.0\n",
       "\\end{aligned}\n",
       "\\]"
      ],
      "text/plain": [
       "<IPython.core.display.Latex object>"
      ]
     },
     "metadata": {},
     "output_type": "display_data"
    }
   ],
   "source": [
    "%%render\n",
    "a = 2\n",
    "b = 3\n",
    "c = 2*a+b/3"
   ]
  },
  {
   "cell_type": "code",
   "execution_count": 25,
   "metadata": {
    "ExecuteTime": {
     "end_time": "2020-09-08T09:16:26.718835Z",
     "start_time": "2020-09-08T09:16:26.690710Z"
    }
   },
   "outputs": [
    {
     "data": {
      "text/latex": [
       "\\[\n",
       "\\begin{aligned}\n",
       "a &= 2 \\cdot \\frac{ x }{ y } = 2 \\cdot \\frac{ 1 }{ 1 } &= 2.0\n",
       "\\\\[10pt]\n",
       "b &= 3 \\cdot a = 3 \\cdot 2.0 &= 6.0\n",
       "\\\\[10pt]\n",
       "c &= \\frac{ a + b }{ z } = \\frac{ 2.0 + 6.0 }{ 1 } &= 8.0\n",
       "\\end{aligned}\n",
       "\\]"
      ],
      "text/plain": [
       "<IPython.core.display.Latex object>"
      ]
     },
     "metadata": {},
     "output_type": "display_data"
    },
    {
     "data": {
      "text/plain": [
       "{'x': 1, 'y': 1, 'z': 1, 'a': 2.0, 'b': 6.0, 'c': 8.0}"
      ]
     },
     "execution_count": 25,
     "metadata": {},
     "output_type": "execute_result"
    }
   ],
   "source": [
    "# 基础用法2——在方程中进行显示\n",
    "from handcalcs.decorator import handcalc\n",
    "@handcalc(left=\"\",right=\"\",jupyter_display=True)\n",
    "def my_calc(x,y,z):\n",
    "    a = 2*x/y\n",
    "    b = 3*a\n",
    "    c = (a+b)/z \n",
    "    return locals()\n",
    "my_calc(1,1,1)"
   ]
  },
  {
   "cell_type": "code",
   "execution_count": 27,
   "metadata": {
    "ExecuteTime": {
     "end_time": "2020-09-08T09:16:58.060637Z",
     "start_time": "2020-09-08T09:16:58.041035Z"
    }
   },
   "outputs": [
    {
     "data": {
      "text/latex": [
       "\\[\n",
       "\\begin{aligned}\n",
       "a &= 1\\;\n",
       "\\\\[10pt]\n",
       "b &= 4\\;\n",
       "\\\\[10pt]\n",
       "c &= 3\\;\n",
       "\\\\[10pt]\n",
       "x &= \\frac{ - b + \\sqrt{ \\left( \\left( b \\right) ^{ 2 } - 4 \\cdot a \\cdot c \\right) } }{ 2 \\cdot a }\\;\n",
       "\\end{aligned}\n",
       "\\]"
      ],
      "text/plain": [
       "<IPython.core.display.Latex object>"
      ]
     },
     "metadata": {},
     "output_type": "display_data"
    }
   ],
   "source": [
    "%%render\n",
    "#symbolic\n",
    "a = 1\n",
    "b = 4\n",
    "c = 3\n",
    "x = (-b+sqrt(b**2-4*a*c))/(2*a)"
   ]
  },
  {
   "cell_type": "code",
   "execution_count": 28,
   "metadata": {
    "ExecuteTime": {
     "end_time": "2020-09-08T09:17:13.517722Z",
     "start_time": "2020-09-08T09:17:13.495825Z"
    }
   },
   "outputs": [
    {
     "data": {
      "text/latex": [
       "\\[\n",
       "\\begin{aligned}\n",
       "f &= \\frac{ c }{ a } + b\\;\\;\\textrm{(Comment)}\n",
       "\\\\[10pt]\n",
       "g &= c \\cdot \\frac{ f }{ a }\\;\\;\\textrm{(Comment)}\n",
       "\\\\[10pt]\n",
       "d &= \\sqrt{ \\frac{ a }{ b } } + \\arcsin{ \\left( \\sin{ \\left( \\frac{ b }{ c } \\right) } \\right) } + \\left( \\frac{ a }{ b } \\right) ^{ \\left( 0.5 \\right) } + \\sqrt{ \\frac{ a \\cdot b + b \\cdot c }{ \\left( b \\right) ^{ 2 } } } + \\sin{ \\left( \\frac{ a }{ b } \\right) }\\;\\;\\textrm{(Comment)}\n",
       "\\end{aligned}\n",
       "\\]"
      ],
      "text/plain": [
       "<IPython.core.display.Latex object>"
      ]
     },
     "metadata": {},
     "output_type": "display_data"
    }
   ],
   "source": [
    "%%render\n",
    "#symbolic\n",
    "f = c/a + b #Comment\n",
    "g = c*f / a # Comment\n",
    "d = sqrt(a / b) + asin(sin(b / c)) + (a/b)**(0.5) + sqrt((a*b + b*c)/(b**2)) + sin(a/b) #Comment"
   ]
  },
  {
   "cell_type": "code",
   "execution_count": 29,
   "metadata": {
    "ExecuteTime": {
     "end_time": "2020-09-08T09:17:26.084281Z",
     "start_time": "2020-09-08T09:17:26.068791Z"
    }
   },
   "outputs": [
    {
     "data": {
      "text/latex": [
       "\\[\n",
       "\\begin{aligned}\n",
       "Mag_{1} &= 100\\;\n",
       "\\\\[10pt]\n",
       "if Mag_{1< 10000:Mag} &= Mag_{1} + 100\\;\n",
       "\\\\[10pt]\n",
       "else:Mag &= Mag_{1} - 10000\\;\n",
       "\\end{aligned}\n",
       "\\]"
      ],
      "text/plain": [
       "<IPython.core.display.Latex object>"
      ]
     },
     "metadata": {},
     "output_type": "display_data"
    }
   ],
   "source": [
    "%%render\n",
    "#Symbolic\n",
    "Mag_1 = 100\n",
    "if Mag_1< 10000:Mag = Mag_1+100\n",
    "else:Mag = Mag_1-10000"
   ]
  },
  {
   "cell_type": "code",
   "execution_count": 30,
   "metadata": {
    "ExecuteTime": {
     "end_time": "2020-09-08T09:17:39.994804Z",
     "start_time": "2020-09-08T09:17:39.977544Z"
    }
   },
   "outputs": [
    {
     "name": "stdout",
     "output_type": "stream",
     "text": [
      "\\[\n",
      "\\begin{aligned}\n",
      "a &= 2\\;\n",
      "\\\\[10pt]\n",
      "b &= 3\\;\n",
      "\\\\[10pt]\n",
      "c &= 2 \\cdot a + \\frac{ b }{ 3 } = 2 \\cdot 2 + \\frac{ 3 }{ 3 } &= 5.0\n",
      "\\end{aligned}\n",
      "\\]\n"
     ]
    }
   ],
   "source": [
    "%%tex\n",
    "a = 2\n",
    "b = 3\n",
    "c = 2*a + b/3"
   ]
  },
  {
   "cell_type": "markdown",
   "metadata": {},
   "source": [
    "\\[\n",
    "\\begin{aligned}\n",
    "a &= 2\\;\n",
    "\\\\[10pt]\n",
    "b &= 3\\;\n",
    "\\\\[10pt]\n",
    "c &= 2 \\cdot a + \\frac{ b }{ 3 } = 2 \\cdot 2 + \\frac{ 3 }{ 3 } &= 5.0\n",
    "\\end{aligned}\n",
    "\\]"
   ]
  },
  {
   "cell_type": "markdown",
   "metadata": {},
   "source": [
    "#### Notebook中的Magic开关\n",
    "在jupyter的Code模式下，除了一般的python代码编辑外，jupyter还支持一些其他的编程语言，如R，Julia，bash等，不过需要使用magic单元。\n",
    "- 为实现一些快捷操作，提升效率。Notebook中提供了Magic开关，能极大得优化我们使用Notebook的体验。\n",
    "- Magic 开关分为两大类：%line magic(%表示magic只在本行有效) & %%cell magic(%%表示magic在整个cell单元有效)"
   ]
  },
  {
   "cell_type": "markdown",
   "metadata": {},
   "source": [
    "#### Sublime / Visual Studio Code - 高级文本编辑器"
   ]
  },
  {
   "cell_type": "markdown",
   "metadata": {},
   "source": [
    "- 首先可以通过[官方网站](https://www.sublimetext.com/)下载安装程序安装Sublime 3或Sublime 2。\n",
    "\n",
    "- 安装包管理工具。\n",
    "  1. 通过快捷键Ctrl+`或者在View菜单中选择Show Console打开控制台，输入下面的代码。\n",
    "\n",
    "  - Sublime 3\n",
    "\n",
    "  ```Python\n",
    "  import  urllib.request,os;pf='Package Control.sublime-package';ipp=sublime.installed_packages_path();urllib.request.install_opener(urllib.request.build_opener(urllib.request.ProxyHandler()));open(os.path.join(ipp,pf),'wb').write(urllib.request.urlopen('http://sublime.wbond.net/'+pf.replace(' ','%20')).read())\n",
    "  ```\n",
    "  - Sublime 2\n",
    "\n",
    "  ```Python\n",
    "  import  urllib2,os;pf='Package Control.sublime-package';ipp=sublime.installed_packages_path();os.makedirs(ipp)ifnotos.path.exists(ipp)elseNone;urllib2.install_opener(urllib2.build_opener(urllib2.ProxyHandler()));open(os.path.join(ipp,pf),'wb').write(urllib2.urlopen('http://sublime.wbond.net/'+pf.replace(' ','%20')).read());print('Please restart Sublime Text to finish installation')\n",
    "  ```\n",
    "  2. 手动安装浏览器输入  https://sublime.wbond.net/Package%20Control.sublime-package 下载这个文件\n",
    "  下载好以后，打开sublime text，选择菜单Preferences->Browse Packages... 打开安装目录\n",
    "  此时会进入到一个叫做Packages的目录下，点击进入上一层目录Sublime Text3，在此目录下有一个文件夹叫做Installed Packages，把刚才下载的文件放到这里就可以了。然后重启sublime text3，观察Preferences菜单最下边是否有Package Settings 和Package Control两个选项，如果有，则代表安装成功了。\n",
    "\n",
    "\n",
    "- 安装插件。通过Preference菜单的Package Control或快捷键Ctrl+Shift+P打开命令面板，在面板中输入Install Package就可以找到安装插件的工具，然后再查找需要的插件。我们推荐大家安装以下几个插件：\n",
    "\n",
    "  - SublimeCodeIntel - 代码自动补全工具插件。\n",
    "  - Emmet - 前端开发代码模板插件。\n",
    "  - Git - 版本控制工具插件。\n",
    "  - Python PEP8 Autoformat - PEP8规范自动格式化插件。\n",
    "  - ConvertToUTF8 - 将本地编码转换为UTF-8。\n",
    "\n",
    "> 说明：事实上Visual Studio Code可能是更好的选择，它不用花钱并提供了更为完整和强大的功能，有兴趣的同学可以自行研究。\n"
   ]
  },
  {
   "cell_type": "markdown",
   "metadata": {},
   "source": [
    "#### PyCharm - Python开发神器\n",
    "\n",
    "PyCharm是由JetBrains公司开发的提供给Python专业的开发者的一个集成开发环境，它最大的优点是能够大大提升Python开发者的工作效率，为开发者集成了很多用起来非常顺手的功能，包括代码调试、高亮语法、代码跳转、智能提示、自动补全、单元测试、版本控制等等。此外，PyCharm还提供了对一些高级功能的支持，包括支持基于Django框架的Web开发。\n",
    "\n",
    "##### PyCharm的安装--科学上网，搜索安装方法，给自己的电脑配置pycharm\n",
    "\n",
    "可以在[JetBrains公司的官方网站]()找到PyCharm的[下载链接](https://www.jetbrains.com/pycharm/download/)，有两个可供下载的版本一个是社区版一个是专业版，社区版在[Apache许可证](https://zh.wikipedia.org/wiki/Apache%E8%AE%B8%E5%8F%AF%E8%AF%81)下发布，专业版在专用许可证下发布（需要购买授权下载后可试用30天），其拥有许多额外功能。安装PyCharm需要有JRE（Java运行时环境）的支持，如果没有可以在安装过程中选择在线下载安装。\n",
    "\n",
    "> 说明：如果你是一名学生，希望购买PyCharm来使用，可以看看[教育优惠官方申请指南](https://sales.jetbrains.com/hc/zh-cn/articles/207154369)。"
   ]
  },
  {
   "cell_type": "code",
   "execution_count": 7,
   "metadata": {
    "ExecuteTime": {
     "end_time": "2020-09-08T06:46:48.092129Z",
     "start_time": "2020-09-08T06:46:48.077948Z"
    }
   },
   "outputs": [
    {
     "data": {
      "text/plain": [
       "2"
      ]
     },
     "execution_count": 7,
     "metadata": {},
     "output_type": "execute_result"
    },
    {
     "data": {
      "text/plain": [
       "4"
      ]
     },
     "execution_count": 7,
     "metadata": {},
     "output_type": "execute_result"
    },
    {
     "data": {
      "text/plain": [
       "5"
      ]
     },
     "execution_count": 7,
     "metadata": {},
     "output_type": "execute_result"
    }
   ],
   "source": [
    "#表示一个可以修改内核选项ast_node_interactivity,使得jupyter对独占一行的所有变量都自动显示\n",
    "%config ZMQInteractiveShell.ast_node_interactivity='all'\n",
    "a = 2\n",
    "n = 4\n",
    "c = 5\n",
    "a\n",
    "n\n",
    "c"
   ]
  },
  {
   "cell_type": "markdown",
   "metadata": {},
   "source": [
    "## Python基础语法\n",
    "\n",
    "### 第一个Python程序\n",
    "\n",
    "​\tPython语言简单，像其他语言一样，我们可以在本地的文本编辑中书写以下代码：\n",
    "\n",
    "```python\n",
    "my_name = input('please input your name:\\n')\n",
    "print(my_name)\n",
    "```\n",
    "\n",
    "​\t保存文档后重命名为`hello.py`，在文档所在目录下打开终端，并输入命令行`python hello.py`即可运行该python代码。就是这么方便。不过笔者建议做python项目开发时可以使用Pycharm这样类似的工具，更方便，详见Python软件基础那一章，[具体使用方法点击链接](https://www.cnblogs.com/muziyunxuan/p/7985265.html)。\n",
    "\n",
    "​\t以上代码中，`input`函数一般用于在运行过程中，让用户输入，是python基础中经常用到的命令，括号中的字符串为显示在终端上的提示信息；`print`函数一般用于打印显示信息，括号内的变量等即为要显示的内容。\n",
    "\n",
    "### Python交互方式\n",
    "\n",
    "#### 文本模式\n",
    "\n",
    "- Python代码保存在文件中，解释器对文件逐行解释执行\n",
    "- 在终端中输入`python 要执行的文件名`，就像前文的hello name例子那样。\n",
    "\n",
    "#### 交互模式\n",
    "\n",
    "- 直接在终端中运行解释器\n",
    "- 在交互模式中边输入边执行Python代码，会立即看到程序执行结果\n",
    "- 常用Python解释器和IPython解释器\n",
    "\n",
    "##### Python解释器\n",
    "\n",
    "###### 优点\n",
    "\n",
    "- 适合于学习/验证Python语法或者局部代码\n",
    "\n",
    "###### 缺点\n",
    "\n",
    "- 代码不能保存\n",
    "- 不适合运行太大的程序\n",
    "\n",
    "##### 使用方法\n",
    "\n",
    "- 在终端中输入python即可进入python解释器环境\n",
    "- 在python解释器环境中输入`exit()`即可退出解释器\n",
    "\n",
    "##### IPython解释器\n",
    "\n",
    "##### 特点\n",
    "\n",
    "- 支持自动补全\n",
    "\n",
    "\n",
    "- 自动缩进\n",
    "- 支持`bash shell`命令\n",
    "- 内置一些功能和函数\n",
    "- 需要额外安装，命令`pip install ipython`\n",
    "\n",
    "##### 使用方法\n",
    "\n",
    "\n",
    "- 如图所示，在终端中输入ipython即可进入python解释器环境\n",
    "- 在python解释器环境中输入`exit`即可退出解释器\n",
    "\n"
   ]
  },
  {
   "cell_type": "markdown",
   "metadata": {},
   "source": [
    "### 缩进\n",
    "\n",
    "​\t学习 Python 与其他语言最大的区别就是，Python 的代码块不使用大括号 {} 来控制类，函数以及其他逻辑判断。python 最具特色的就是用缩进来写模块。\n",
    "\n",
    "​\t缩进的空白数量是可变的，但是所有代码块语句必须包含相同的缩进空白数量，这个必须严格执行。\n",
    "\n",
    "例如如下代码缩进一致，运行则不会出错:\n",
    "\n",
    "```python\n",
    "if True:\n",
    "    print(\"True\")\n",
    "else:\n",
    "  \tprint(\"False\")\n",
    "```\n",
    "\n",
    "如下代码，缩进不一致，运行则会出错：\n",
    "\n",
    "```python\n",
    "if True:\n",
    "    print(\"True\")\n",
    "else:\n",
    " print(\"False\")\n",
    "```\n"
   ]
  },
  {
   "cell_type": "markdown",
   "metadata": {},
   "source": [
    "\n",
    "### 多行语句\n",
    "\n",
    "Python语句中一般以新行作为语句的结束符。但是我们可以使用斜杠（ \\）将一行的语句分为多行显示，如下所示：\n",
    "\n",
    "```python\n",
    "total = item_one + \\\n",
    "        item_two + \\\n",
    "        item_three\n",
    "```\n",
    "\n",
    "语句中包含 [], {} 或 () 括号就不需要使用多行连接符。如下实例：\n",
    "\n",
    "```python\n",
    "days = ['Monday', 'Tuesday', 'Wednesday',\n",
    "        'Thursday', 'Friday']\n",
    "```\n",
    "\n",
    "### Python引号\n",
    "\n",
    "Python 可以使用引号( **'** )、双引号( **\"** )、三引号( **'''** 或 **\"\"\"** ) 来表示字符串，引号的开始与结束必须的相同类型的。其中三引号可以由多行组成，编写多行文本的快捷语法，常用于文档字符串，在文件的特定地点，被当做注释。但是一段字符串只能有一种类型的引号来表示整个字符串，在字符串中间若需要引号，必须和起始结束的字符串不同。如：\n",
    "\n",
    "```python\n",
    "# 正确语法\n",
    "string1 = '他说：\"他想学Python\"'\n",
    "\n",
    "# 错误语法\n",
    "string1 = '他说：'他想学Python''\n",
    "```\n"
   ]
  },
  {
   "cell_type": "markdown",
   "metadata": {},
   "source": [
    "\n",
    "### Python注释\n",
    "\n",
    "#### 单行注释\n",
    "\n",
    "python中单行注释以及行末注释采用 # 开头。\n",
    "\n",
    "```python\n",
    "# 第一个注释\n",
    "print(\"Hello, Python!\");  # 第二个注释,代码与“#”号相隔两个空格\n",
    "```\n",
    "\n",
    "#### 多行注释\n",
    "\n",
    "python 中多行注释使用三个单引号(''')或三个双引号(\"\"\")。\n",
    "\n",
    "```python\n",
    "'''\n",
    "这是多行注释，使用单引号。\n",
    "这是多行注释，使用单引号。\n",
    "这是多行注释，使用单引号。\n",
    "'''\n",
    "\n",
    "\"\"\"\n",
    "这是多行注释，使用双引号。\n",
    "这是多行注释，使用双引号。\n",
    "这是多行注释，使用双引号。\n",
    "\"\"\"\n",
    "```\n",
    "\n"
   ]
  },
  {
   "cell_type": "markdown",
   "metadata": {},
   "source": [
    "### Python空行\n",
    "\n",
    "​\t函数之间或类的方法之间用空行分隔，表示一段新的代码的开始。类和函数入口之间也用一行空行分隔，以突出函数入口的开始。\n",
    "\n",
    "​\t空行与代码缩进不同，空行并不是Python语法的一部分。书写时不插入空行，Python解释器运行也不会出错。但是空行的作用在于分隔两段不同功能或含义的代码，便于日后代码的维护或重构。\n",
    "\n",
    "<font color=red>注意</font>：空行也是程序代码的一部分。\n",
    "\n",
    "### 命令行参数\n",
    "\n",
    "```Python\n",
    "$ python test.py arg1 arg2 arg3\n",
    "```\n",
    "\n",
    "Python 中可以所用 **sys** 的 **sys.argv** 来获取命令行参数：\n",
    "\n",
    "- sys.argv 是命令行参数列表。\n",
    "- len(sys.argv) 是命令行参数个数。\n",
    "- sys.argv[0] 表示脚本名。\n",
    "\n",
    "实例`test.py`文件：\n",
    "\n",
    "```python\n",
    "import sys\n",
    "\n",
    "\n",
    "print('参数个数为:', len(sys.argv), '个参数。')\n",
    "print('参数列表:', str(sys.argv))\n",
    "```\n",
    "\n",
    "在终端命令中运行时输入`python test.py 1 2 3 4`,结果为：\n",
    "\n",
    "```\n",
    "$ python test.py 1 2 3 4\n",
    "参数个数为: 5 个参数。\n",
    "参数列表: ['test.py', '1', '2', '3', '4']\n",
    "```\n"
   ]
  },
  {
   "cell_type": "markdown",
   "metadata": {},
   "source": [
    "## 语言元素\n",
    "\n"
   ]
  },
  {
   "cell_type": "markdown",
   "metadata": {},
   "source": [
    "### 变量和类型\n",
    "\n",
    "在程序设计中，变量是一种存储数据的载体。计算机中的变量是实际存在的数据或者说是存储器中存储数据的一块内存空间，变量的值可以被读取和修改，这是所有计算和控制的基础。计算机能处理的数据有很多种类型，除了数值之外还可以处理文本、图形、音频、视频等各种各样的数据，那么不同的数据就需要定义不同的存储类型。Python中的数据类型很多，而且也允许我们自定义新的数据类型（这一点在后面会讲到），我们先介绍几种常用的数据类型。\n",
    "\n",
    "- 整型：Python中可以处理任意大小的整数（Python 2.x中有int和long两种类型的整数，但这种区分对Python来说意义不大，因此在Python 3.x中整数只有int这一种了），而且支持二进制（如`0b100`，换算成十进制是4）、八进制（如`0o100`，换算成十进制是64）、十进制（`100`）和十六进制（`0x100`，换算成十进制是256）的表示法。\n",
    "- 浮点型：浮点数也就是小数，之所以称为浮点数，是因为按照科学记数法表示时，一个浮点数的小数点位置是可变的，浮点数除了数学写法（如`123.456`）之外还支持科学计数法（如`1.23456e2`）。\n",
    "- 字符串型：字符串是以单引号或双引号括起来的任意文本，比如`'hello'`和`\"hello\"`,字符串还有原始字符串表示法、字节字符串表示法、Unicode字符串表示法，而且可以书写成多行的形式（用三个单引号或三个双引号开头，三个单引号或三个双引号结尾）。\n",
    "- 布尔型：布尔值只有`True`、`False`两种值，要么是`True`，要么是`False`，在Python中，可以直接用`True`、`False`表示布尔值（请注意大小写），也可以通过布尔运算计算出来（例如`3 < 5`会产生布尔值`True`，而`2 == 1`会产生布尔值`False`）。\n",
    "- 复数型：形如`3+5j`，跟数学上的复数表示一样，唯一不同的是虚部的`i`换成了`j`。\n"
   ]
  },
  {
   "cell_type": "markdown",
   "metadata": {},
   "source": [
    "#### 变量命名\n",
    "\n",
    "对于每个变量我们需要给它取一个名字，就如同我们每个人都有属于自己的响亮的名字一样。在Python中，变量命名需要遵循以下这些必须遵守硬性规则和强烈建议遵守的非硬性规则。\n",
    "\n",
    "- 硬性规则：\n",
    "  - 变量名由字母（广义的Unicode字符，不包括特殊字符）、数字和下划线构成，数字不能开头。\n",
    "  - 大小写敏感（大写的`a`和小写的`A`是两个不同的变量）。\n",
    "  - 不要跟关键字（有特殊含义的单词，后面会讲到）和系统保留字（如函数、模块等的名字）冲突。\n",
    "- PEP 8要求：\n",
    "  - 用小写字母拼写，多个单词用下划线连接。\n",
    "  - 受保护的实例属性用单个下划线开头（后面会讲到）。\n",
    "  - 私有的实例属性用两个下划线开头（后面会讲到）。\n",
    "\n",
    "当然，作为一个专业的程序员，给变量（事实上应该是所有的标识符）命名时做到见名知意也是非常重要的。\n"
   ]
  },
  {
   "cell_type": "markdown",
   "metadata": {},
   "source": [
    "#### 命名规则\n",
    "- 固定规则\n",
    "\n",
    "标示符由字母、下划线和数字组成，且数字不能开头\n",
    "\n",
    "思考：下面的标示符哪些是正确的，哪些不正确为什么\n",
    "fromNo12，from#12，my_Boolean，my-Boolean，Obj2，2ndObj\n",
    "myInt，test1，Mike2jack，My_tExt，_test，test!32，haha(da)tt\n",
    "int，jack_rose，jack&rose，GUI，G.U.I\n",
    "\n",
    "注意：\n",
    "python中的标识符是区分大小写的\n",
    "\n",
    "- 行业内规则\n",
    "\n",
    "1.见名知意\n",
    "\n",
    "    起一个有意义的名字，尽量做到看一眼就知道是什么意思(提高代码可 读性) 比如: 名字 就定义为 name , 定义学生 用 student\n",
    "    \n",
    "2.驼峰命名法\n",
    "\n",
    "       2.1 小驼峰式命名法（lower camel case）： 第一个单词以小写字母开始；第二个单词的首字母大写，例如：myName、aDog\n",
    "   \n",
    "       2.2 大驼峰式命名法（upper camel case）： 每一个单字的首字母都采用大写字母，例如：FirstName、LastName\n",
    "   \n",
    "3.下划线连接法\n",
    "\n",
    "   不过在程序员中还有一种命名法比较流行，就是用下划线“_”来连接所有的单词，比如send_buf"
   ]
  },
  {
   "cell_type": "markdown",
   "metadata": {},
   "source": [
    "#### 关键字\n",
    "\n",
    "##### 定义：\n",
    "    python一些具有特殊功能的标示符，这就是所谓的关键字\n",
    "    \n",
    "关键字，是python已经使用的了，所以不允许开发者自己定义和关键字相同的名字的标示符\n",
    "\n",
    "##### 如何查看关键字？\n",
    "\n",
    "- 方式1：\n",
    "\n",
    "进入终端----》Python---》import keyword---》keyword.kwlist\n",
    "\n",
    "关键字的学习以及使用，咱们会在后面的课程中依依进行学习\n",
    "\n",
    "- 方式2：\n",
    "\n",
    "import keyword\n",
    "\n",
    "print(keyword.kwlist)"
   ]
  },
  {
   "cell_type": "code",
   "execution_count": null,
   "metadata": {
    "ExecuteTime": {
     "end_time": "2020-09-08T09:57:36.045816Z",
     "start_time": "2020-09-08T09:57:36.041904Z"
    }
   },
   "outputs": [],
   "source": []
  },
  {
   "cell_type": "markdown",
   "metadata": {},
   "source": [
    "#### 变量的使用\n",
    "\n",
    "下面通过几个例子来说明变量的类型和变量使用。"
   ]
  },
  {
   "cell_type": "markdown",
   "metadata": {},
   "source": [
    "```Python\n",
    "\"\"\"\n",
    "使用变量保存数据并进行算术运算\n",
    "\"\"\"\n",
    "\n",
    "a = 321\n",
    "b = 123\n",
    "print(a + b)\n",
    "print(a - b)\n",
    "print(a * b)\n",
    "print(a / b)\n",
    "print(a // b)\n",
    "print(a % b)\n",
    "print(a ** b)\n",
    "```\n",
    "\n",
    "```Python\n",
    "\"\"\"\n",
    "使用input()函数获取键盘输入\n",
    "使用int()进行类型转换\n",
    "用占位符格式化输出的字符串\n",
    "\"\"\"\n",
    "\n",
    "a = int(input('a = '))\n",
    "b = int(input('b = '))\n",
    "print('%d + %d = %d' % (a, b, a + b))\n",
    "print('%d - %d = %d' % (a, b, a - b))\n",
    "print('%d * %d = %d' % (a, b, a * b))\n",
    "print('%d / %d = %f' % (a, b, a / b))\n",
    "print('%d // %d = %d' % (a, b, a // b))\n",
    "print('%d %% %d = %d' % (a, b, a % b))\n",
    "print('%d ** %d = %d' % (a, b, a ** b))\n",
    "```\n",
    "\n",
    "```Python\n",
    "\"\"\"\n",
    "使用type()检查变量的类型\n",
    "\"\"\"\n",
    "\n",
    "a = 100\n",
    "b = 12.345\n",
    "c = 1 + 5j\n",
    "d = 'hello, world'\n",
    "e = True\n",
    "print(type(a))\n",
    "print(type(b))\n",
    "print(type(c))\n",
    "print(type(d))\n",
    "print(type(e))\n",
    "```\n",
    "\n",
    "在对变量类型进行转换时可以使用Python的内置函数（准确的说下面列出的并不是真正意义上的函数，而是后面我们要讲到的创建对象的构造方法）。\n",
    "\n",
    "- `int()`：将一个数值或字符串转换成整数，可以指定进制。\n",
    "- `float()`：将一个字符串转换成浮点数。\n",
    "- `str()`：将指定的对象转换成字符串形式，可以指定编码。\n",
    "- `chr()`：将整数转换成该编码对应的字符串（一个字符）。\n",
    "- `ord()`：将字符串（一个字符）转换成对应的编码（整数）。\n"
   ]
  },
  {
   "cell_type": "markdown",
   "metadata": {},
   "source": [
    "**程序就是用来处理数据的，而变量就是用来存储数据的**"
   ]
  },
  {
   "cell_type": "markdown",
   "metadata": {},
   "source": [
    "### 运算符\n"
   ]
  },
  {
   "cell_type": "markdown",
   "metadata": {},
   "source": [
    "#### 算术运算符\n",
    "\n",
    "下面以a=10 ,b=20为例进行计算\n",
    "\n",
    "运算符 \t描述 \t  实例\n",
    "\n",
    "\\+ \t加 \t两个对象相加 a + b 输出结果 30\n",
    "\n",
    "\\- \t减 \t得到负数或是一个数减去另一个数 a - b 输出结果 -10\n",
    "\n",
    "\\* \t乘 \t两个数相乘或是返回一个被重复若干次的字符串 a * b 输出结果 200\n",
    "\n",
    "/ \t除 \tx除以y b / a 输出结果 2\n",
    "\n",
    "// \t取整除 \t返回商的整数部分 9//2 输出结果 4 , 9.0//2.0 输出结果 4.0\n",
    "\n",
    "% \t取余 \t返回除法的余数 b % a 输出结果 0\n",
    "\n",
    "** \t幂 \t返回x的y次幂 a**b 为10的20次方， 输出结果 100000000000000000000\n",
    "\n",
    "例如：\n",
    "\n",
    "9/2.0---》4.5\n",
    "\n",
    "9//2.0--->4.0"
   ]
  },
  {
   "cell_type": "markdown",
   "metadata": {},
   "source": [
    "#### 赋值运算符\n",
    "\n",
    "运算符   描述   实例\n",
    "\n",
    "=  赋值运算符  把=号右边的结果给左边的变量 num=1+2*3 结果num的值为7 \n",
    "\n",
    "赋值运算表达式\n",
    "\n",
    "格式：变量 = 表达式\n",
    "\n",
    "功能：计算了等号右侧“表达式”的值，并赋值给等号左侧的变量\n",
    "\n",
    "值：赋值结束后变量的\n",
    "\n",
    "num3 = 10\n",
    "\n",
    "num4 = num3 + 20"
   ]
  },
  {
   "cell_type": "markdown",
   "metadata": {},
   "source": [
    "#### 复合运算符\n",
    "\n",
    "+= 加法赋值运算符 c += a 等效于 c = c + a \n",
    "\n",
    "-= 减法赋值运算符 c -= a 等效于 c = c - a \n",
    "\n",
    "*= 乘法赋值运算符 c *= a 等效于 c = c * a \n",
    "\n",
    "/= 除法赋值运算符 c /= a 等效于 c = c / a \n",
    "\n",
    "%= 取模赋值运算符 c %= a 等效于 c = c % a \n",
    "\n",
    "**= 幂赋值运算符 c **= a 等效于 c = c ** a \n",
    "\n",
    "//= 取整除赋值运算符 c //= a 等效于 c = c // a "
   ]
  },
  {
   "cell_type": "markdown",
   "metadata": {},
   "source": [
    "#### 比较运算符\n",
    "\n",
    "运算符   描述     示例\n",
    "\n",
    "==   检查两个操作数的值是否相等，如果是则条件变为真。 如a=3,b=3则（a == b) 为 true. \n",
    "\n",
    "!=   检查两个操作数的值是否相等，如果值不相等，则条件变为真。 如a=1,b=3则(a != b) 为 true. \n",
    "\n",
    "\\>    检查左操作数的值是否大于右操作数的值，如果是，则条件成立。 如a=7,b=3则(a > b) 为 true. \n",
    "\n",
    "<    检查左操作数的值是否小于右操作数的值，如果是，则条件成立。 如a=7,b=3则(a < b) 为 false. \n",
    "\n",
    "\\>=   检查左操作数的值是否大于或等于右操作数的值，如果是，则条件成立。 如a=3,b=3则(a >= b) 为 true. \n",
    "\n",
    "<=   检查左操作数的值是否小于或等于右操作数的值，如果是，则条件成立。 如a=3,b=3则(a <= b) 为 true. "
   ]
  },
  {
   "cell_type": "markdown",
   "metadata": {},
   "source": [
    "#### 逻辑运算符\n",
    "\n",
    "运算符   逻辑表达式    描述     实例\n",
    "\n",
    "- 1.and    x and y 布尔\"与\" - 如果 x 为 False，x and y 返回 False，否则它返回 y 的计算值。 。\n",
    "\n",
    "    例如：\n",
    "    \n",
    "    a = 1\n",
    "    \n",
    "    b = 3\n",
    "    \n",
    "    c = a>b\n",
    "    \n",
    "    print(c and b)----》False\n",
    "    \n",
    "- 2.or    x or y 布尔\"或\" - 如果 x 是 True，它返回 True，否则它返回 y 的计算值。\n",
    "\n",
    "- 3.not   not x 布尔\"非\" - 如果 x 为 True，返回 False 。如果 x 为 False，它返回 True。 not(a and b) 返回 False \n",
    "\n"
   ]
  },
  {
   "cell_type": "markdown",
   "metadata": {},
   "source": [
    "在Python中 None，False，空字符串\"\"，0，空列表[]，空字典{}，空元组()都相当于False，在布尔上下文中为假；其它任何东西都为真\n",
    "\n",
    "or：是从左到右计算表达式，返回第一个为真的值，如果两个都是假，返回的是右边的值。\n",
    "\n",
    "and：从左到右计算表达式，若所有值均为真，则返回最后一个值，若存在假，返回第一个假值。"
   ]
  },
  {
   "cell_type": "code",
   "execution_count": null,
   "metadata": {
    "ExecuteTime": {
     "end_time": "2020-09-10T08:13:48.292789Z",
     "start_time": "2020-09-10T08:13:48.287553Z"
    }
   },
   "outputs": [],
   "source": []
  },
  {
   "cell_type": "markdown",
   "metadata": {},
   "source": [
    "#### 位运算符\n",
    "\n",
    "概述：\n",
    "\n",
    " 按位运算符是把数字看作二进制来进行计算的。\n",
    " \n",
    " Python中的按位运算法则如下：\n",
    " \n",
    " 下表中变量 a 为 60，b 为 13，二进制格式如下：\n",
    " \n",
    " 60二进制--》0011 1100\n",
    " \n",
    " 13二进制--》0000 1101\n",
    " \n",
    " 运算符\t   描述\t           实例\n",
    " \n",
    "&\t按位与运算符：参与运算的两个值,如果两个相应位都为1,则该位的结果为1,否则为0\t(a & b) 输出结果 12 ，二进制解释： 0000 1100\n",
    "\n",
    "|\t按位或运算符：只要对应的二个二进位有一个为1时，结果位就为1。\t(a | b) 输出结果 61 ，二进制解释： 0011 1101\n",
    "\n",
    "^\t按位异或运算符：当两对应的二进位相异时，结果为1 \t(a ^ b) 输出结果 49 ，二进制解释： 0011 0001\n",
    "\n",
    "~\t按位取反运算符：对数据的每个二进制位取反,即把1变为0,把0变为1 。~x 类似于 -x-1\t(~a ) 输出结果 -61 ，二进制解释： 1100 0011，在一个有符号二进制数的补码形式。\n",
    "\n",
    "<<\t左移动运算符：运算数的各二进位全部左移若干位，由 << 右边的数字指定了移动的位数，高位丢弃，低位补0。\ta << 2 输出结果 240 ，二进制解释： 1111 0000\n",
    "\n",
    "\\>>\t右移动运算符：把\">>\"左边的运算数的各二进位全部右移若干位，>> 右边的数字指定了移动的位数 \ta >> 2 输出结果 15 ，二进制解释： 0000 1111"
   ]
  },
  {
   "cell_type": "markdown",
   "metadata": {},
   "source": [
    "#### 综合练习\n",
    "Python支持多种运算符，下表大致按照优先级从高到低的顺序列出了所有的运算符，我们会陆续使用到它们。\n",
    "\n",
    "| 运算符                                                       | 描述                           |\n",
    "| ------------------------------------------------------------ | ------------------------------ |\n",
    "| `[]` `[:]`                                                   | 下标，切片                     |\n",
    "| `**`                                                         | 指数                           |\n",
    "| `~` `+` `-`                                                  | 按位取反, 正负号               |\n",
    "| `*` `/` `%` `//`                                             | 乘，除，模，整除               |\n",
    "| `+` `-`                                                      | 加，减                         |\n",
    "| `>>` `<<`                                                    | 右移，左移                     |\n",
    "| `&`                                                          | 按位与                         |\n",
    "| `^` `\\|`                                                      | 按位异或，按位或               |\n",
    "| `<=` `<` `>` `>=`                                            | 小于等于，小于，大于，大于等于 |\n",
    "| `==` `!=`                                                    | 等于，不等于                   |\n",
    "| `is`  `is not`                                               | 身份运算符                     |\n",
    "| `in` `not in`                                                | 成员运算符                     |\n",
    "| `not` `or` `and`                                             | 逻辑运算符                     |\n",
    "| `=` `+=` `-=` `*=` `/=` `%=` `//=` `**=` `&=` `|=` `^=` `>>=` `<<=` | （复合）赋值运算符             |\n",
    "\n",
    ">**说明：** 在实际开发中，如果搞不清楚运算符的优先级，可以使用括号来确保运算的执行顺序。\n",
    "\n",
    "下面的例子演示了运算符的使用。\n",
    "\n",
    "```Python\n",
    "\"\"\"\n",
    "运算符的使用\n",
    "\"\"\"\n",
    "\n",
    "a = 5\n",
    "b = 10\n",
    "c = 3\n",
    "d = 4\n",
    "e = 5\n",
    "a += b\n",
    "a -= c\n",
    "a *= d\n",
    "a /= e\n",
    "print(\"a = \", a)\n",
    "\n",
    "flag1 = 3 > 2\n",
    "flag2 = 2 < 1\n",
    "flag3 = flag1 and flag2\n",
    "flag4 = flag1 or flag2\n",
    "flag5 = not flag1\n",
    "print(\"flag1 = \", flag1)\n",
    "print(\"flag2 = \", flag2)\n",
    "print(\"flag3 = \", flag3)\n",
    "print(\"flag4 = \", flag4)\n",
    "print(\"flag5 = \", flag5)\n",
    "print(flag1 is True)\n",
    "print(flag2 is not False)\n",
    "```"
   ]
  },
  {
   "cell_type": "markdown",
   "metadata": {},
   "source": []
  },
  {
   "cell_type": "markdown",
   "metadata": {},
   "source": [
    "## 分支结构"
   ]
  },
  {
   "cell_type": "markdown",
   "metadata": {},
   "source": [
    "\n",
    "### 应用场景\n",
    "\n",
    "迄今为止，我们写的Python代码都是一条一条语句顺序执行，这种代码结构通常称之为顺序结构。然而仅有顺序结构并不能解决所有的问题，比如我们设计一个游戏，游戏第一关的通关条件是玩家获得1000分，那么在完成本局游戏后，我们要根据玩家得到分数来决定究竟是进入第二关，还是告诉玩家“Game Over”，这里就会产生两个分支，而且这两个分支只有一个会被执行。类似的场景还有很多，我们将这种结构称之为“分支结构”或“选择结构”。给大家一分钟的时间，你应该可以想到至少5个以上这样的例子，赶紧试一试。\n"
   ]
  },
  {
   "cell_type": "markdown",
   "metadata": {},
   "source": [
    "- 生活中的场景：\n",
    "\n",
    "   - 例如火车站、地铁等需要安检，如果没有携带违禁物品则放行，反之。。。\n",
    "   \n",
    "- 开发中的场景：\n",
    "\n",
    "   - 密码的判断---用户登录某个应用时\n",
    "   \n",
    " 总结：\n",
    "    \n",
    "    如果某些条件满足，才能做某件事情，而不满足时不允许做，这就是所谓的判断\n",
    "    \n",
    "    不仅生活中有，在软件开发中“判断”功能也经常会用到"
   ]
  },
  {
   "cell_type": "markdown",
   "metadata": {},
   "source": [
    "\n",
    "### if语句的格式\n",
    "\n",
    "if语句是用来进行判断的，其使用格式如下：\n",
    "\n",
    "- if 基本格式\n",
    "\n",
    "    if 要判断的条件:\n",
    "        条件成立时，要做的事情\n",
    "        \n",
    "        \n",
    "- if ...  else  当条件不成立时\n",
    "\n",
    "   if 条件:\n",
    "   \n",
    "        满足条件时要做的事情1\n",
    "      \n",
    "    else:\n",
    "    \n",
    "        不满足条件时要做的事情1\n",
    "      \n",
    "\n",
    "- if ... elif   当有多个条件时\n",
    "\n",
    "  elif的使用格式如下:\n",
    "  \n",
    "    if xxx1:\n",
    "    \n",
    "        事情1\n",
    "        \n",
    "    elif xxx2:\n",
    "    \n",
    "        事情2\n",
    "        \n",
    "    elif xxx3:\n",
    "    \n",
    "        事情3\n",
    "\n",
    "\n",
    "- if  ...  elif  ...else   当有多个条件并有可能不成立时\n",
    "\n",
    "   if 性别为男性:\n",
    "   \n",
    "       输出男性的特征\n",
    "       \n",
    "   elif 性别为女性:\n",
    "   \n",
    "       输出女性的特征\n",
    "       \n",
    "   else:\n",
    "   \n",
    "       第三种性别的特征\n",
    "\n",
    "\n",
    "- if 语句的嵌套\n",
    "    \n",
    "    在一个if语句中可以嵌入多个if相关的语句·"
   ]
  },
  {
   "cell_type": "markdown",
   "metadata": {},
   "source": [
    "### if语句的使用\n",
    "\n",
    "在Python中，要构造分支结构可以使用`if`、`elif`和`else`关键字。所谓**关键字**就是有特殊含义的单词，像`if`和`else`就是专门用于构造分支结构的关键字，很显然你不能够使用它作为变量名（事实上，用作其他的标识符也是不可以）。下面的例子中演示了如何构造一个分支结构。"
   ]
  },
  {
   "cell_type": "code",
   "execution_count": 1,
   "metadata": {
    "ExecuteTime": {
     "end_time": "2020-09-19T12:43:31.037101Z",
     "start_time": "2020-09-19T12:43:31.028448Z"
    }
   },
   "outputs": [
    {
     "data": {
      "text/plain": [
       "'\\n用户身份验证\\n'"
      ]
     },
     "execution_count": 1,
     "metadata": {},
     "output_type": "execute_result"
    }
   ],
   "source": [
    "\"\"\"\n",
    "用户身份验证\n",
    "\"\"\""
   ]
  },
  {
   "cell_type": "markdown",
   "metadata": {},
   "source": [
    "唯一需要说明的是和C/C++、Java等语言不同，Python中没有用花括号来构造代码块而是使用了缩进的方式来设置代码的层次结构，如果`if`条件成立的情况下需要执行多条语句，只要保持多条语句具有相同的缩进就可以了，换句话说连续的代码如果又保持了相同的缩进那么它们属于同一个代码块，相当于是一个执行的整体。\n",
    "\n",
    "当然如果要构造出更多的分支，可以使用`if…elif…else…`结构，例如下面的分段函数求值。\n",
    "\n",
    "$$f(x)=\\begin{cases} 3x-5&\\text{(x>1)}\\\\x+2&\\text{(-1}\\leq\\text{x}\\leq\\text{1)}\\\\5x+3&\\text {(x<-1)}\\end{cases}$$"
   ]
  },
  {
   "cell_type": "code",
   "execution_count": null,
   "metadata": {},
   "outputs": [],
   "source": []
  },
  {
   "cell_type": "markdown",
   "metadata": {},
   "source": [
    "当然根据实际开发的需要，分支结构是可以嵌套的，例如判断是否通关以后还要根据你获得的宝物或者道具的数量对你的表现给出等级（比如点亮两颗或三颗星星），那么我们就需要在`if`的内部构造出一个新的分支结构，同理`elif`和`else`中也可以再构造新的分支，我们称之为嵌套的分支结构，也就是说上面的代码也可以写成下面的样子。"
   ]
  },
  {
   "cell_type": "code",
   "execution_count": null,
   "metadata": {},
   "outputs": [],
   "source": []
  },
  {
   "cell_type": "markdown",
   "metadata": {},
   "source": [
    "### 一个有趣的赋值--三元操作符\n",
    "格式：A = Y if X else Z\n",
    "- 可以看出：\n",
    "    - 如果X为真，那么就执行A=Y\n",
    "    - 如果X为假，就执行A=Z"
   ]
  },
  {
   "cell_type": "code",
   "execution_count": null,
   "metadata": {
    "ExecuteTime": {
     "end_time": "2020-09-09T03:54:51.960294Z",
     "start_time": "2020-09-09T03:54:51.953810Z"
    }
   },
   "outputs": [],
   "source": []
  },
  {
   "cell_type": "markdown",
   "metadata": {
    "ExecuteTime": {
     "end_time": "2020-09-07T10:47:16.380663Z",
     "start_time": "2020-09-07T10:47:16.336384Z"
    }
   },
   "source": [
    "\n",
    "\n",
    "### 练习\n",
    "\n"
   ]
  },
  {
   "cell_type": "markdown",
   "metadata": {},
   "source": [
    "#### 猜拳游戏"
   ]
  },
  {
   "cell_type": "code",
   "execution_count": null,
   "metadata": {},
   "outputs": [],
   "source": []
  },
  {
   "cell_type": "markdown",
   "metadata": {},
   "source": [
    "## 循环结构\n",
    "\n",
    "### 应用场景\n",
    "\n",
    "如果在程序中我们需要重复的执行某条或某些指令，例如用程序控制机器人踢足球，如果机器人持球而且还没有进入射门范围，那么我们就要一直发出让机器人向球门方向奔跑的指令。当然你可能已经注意到了，刚才的描述中其实不仅仅有需要重复的动作，还有我们上一个章节讲到的分支结构。再举一个简单的例子，比如在我们的程序中要实现每隔1秒中在屏幕上打印一个&quot;hello, world&quot;这样的字符串并持续一个小时，我们肯定不能够将`print('hello, world')`这句代码写上3600遍，如果真的需要这样做，那么编程的工作就太无聊了。因此，我们还需要了解一下循环结构，有了循环结构我们就可以轻松的控制某件事或者某些事重复、重复、再重复的去执行。\n",
    "\n",
    "在Python中构造循环结构有两种做法，一种是`for-in`循环，一种是`while`循环。\n",
    "\n",
    "\n"
   ]
  },
  {
   "cell_type": "markdown",
   "metadata": {},
   "source": [
    "### for-in循环\n",
    "\n",
    "如果明确的知道循环执行的次数或者要对一个容器进行迭代（后面会讲到），那么我们推荐使用`for-in`循环，\n",
    "\n",
    "例如下面代码中计算1~100求和的结果（$\\displaystyle \\sum \\limits_{n=1}^{100}n$）。 "
   ]
  },
  {
   "cell_type": "code",
   "execution_count": null,
   "metadata": {},
   "outputs": [],
   "source": []
  },
  {
   "cell_type": "markdown",
   "metadata": {},
   "source": [
    "\n",
    "需要说明的是上面代码中的`range`类型，`range`可以用来产生一个不变的数值序列，而且这个序列通常都是用在循环中的，例如：\n",
    "\n",
    "- `range(101)`可以产生一个0到100的整数序列。\n",
    "- `range(1, 100)`可以产生一个1到99的整数序列。\n",
    "- `range(1, 100, 2)`可以产生一个1到99的奇数序列，其中的2是步长，即数值序列的增量。\n",
    "\n",
    "知道了这一点，我们可以用下面的代码来实现1~100之间的偶数求和。\n"
   ]
  },
  {
   "cell_type": "code",
   "execution_count": null,
   "metadata": {},
   "outputs": [],
   "source": []
  },
  {
   "cell_type": "markdown",
   "metadata": {},
   "source": [
    "\n",
    "也可以通过在循环中使用分支结构的方式来实现相同的功能，代码如下所示。\n",
    "\n"
   ]
  },
  {
   "cell_type": "code",
   "execution_count": null,
   "metadata": {},
   "outputs": [],
   "source": []
  },
  {
   "cell_type": "markdown",
   "metadata": {},
   "source": [
    "#### break\n",
    "\n",
    " break的作用：用来结束整个循环"
   ]
  },
  {
   "cell_type": "code",
   "execution_count": null,
   "metadata": {},
   "outputs": [],
   "source": []
  },
  {
   "cell_type": "markdown",
   "metadata": {},
   "source": [
    "#### continue\n",
    "\n",
    "用来结束本次循环，紧接着执行下一次的循环"
   ]
  },
  {
   "cell_type": "code",
   "execution_count": null,
   "metadata": {},
   "outputs": [],
   "source": []
  },
  {
   "cell_type": "markdown",
   "metadata": {},
   "source": [
    "###### 注意事项\n",
    "\n",
    "> break/continue只能用在循环中，除此以外不能单独使用\n",
    "\n",
    "> break/continue在嵌套循环中，只对最近的一层循环起作用\n",
    "\n",
    "> 防止死循环的产生"
   ]
  },
  {
   "cell_type": "markdown",
   "metadata": {},
   "source": [
    "### while循环\n",
    "\n",
    "如果要构造不知道具体循环次数的循环结构，我们推荐使用`while`循环。`while`循环通过一个能够产生或转换出`bool`值的表达式来控制循环，表达式的值为`True`循环继续，表达式的值为`False`循环结束。下面我们通过一个“猜数字”的小游戏（计算机出一个1~100之间的随机数，人输入自己猜的数字，计算机给出对应的提示信息，直到人猜出计算机出的数字）来看看如何使用`while`循环。\n"
   ]
  },
  {
   "cell_type": "code",
   "execution_count": null,
   "metadata": {},
   "outputs": [],
   "source": [
    "\"\"\"\n",
    "猜数字游戏\n",
    "计算机出一个1~100之间的随机数由人来猜\n",
    "计算机根据人猜的数字分别给出提示大一点/小一点/猜对了\n",
    "\"\"\"\n",
    "\n",
    "import random\n",
    "\n",
    "answer = random.randint(1, 100)\n",
    "counter = 0\n",
    "while True:\n",
    "    counter += 1\n",
    "    number = int(input('请输入: '))\n",
    "    if number < answer:\n",
    "        print('大一点')\n",
    "    elif number > answer:\n",
    "        print('小一点')\n",
    "    else:\n",
    "        print('恭喜你猜对了!')\n",
    "        break\n",
    "print('你总共猜了%d次' % counter)\n",
    "if counter > 7:\n",
    "    print('你的智商余额明显不足')"
   ]
  },
  {
   "cell_type": "markdown",
   "metadata": {},
   "source": [
    "\n",
    "\n",
    "> **说明：** 上面的代码中使用了`break`关键字来提前终止循环，需要注意的是`break`只能终止它所在的那个循环，这一点在使用嵌套的循环结构（下面会讲到）需要引起注意。除了`break`之外，还有另一个关键字是`continue`，它可以用来放弃本次循环后续的代码直接让循环进入下一轮。\n",
    "\n",
    "和分支结构一样，循环结构也是可以嵌套的，也就是说在循环中还可以构造循环结构。下面的例子演示了如何通过嵌套的循环来输出一个九九乘法表。\n",
    "\n"
   ]
  },
  {
   "cell_type": "code",
   "execution_count": 3,
   "metadata": {
    "ExecuteTime": {
     "end_time": "2020-09-19T12:47:33.221678Z",
     "start_time": "2020-09-19T12:47:33.215670Z"
    }
   },
   "outputs": [
    {
     "name": "stdout",
     "output_type": "stream",
     "text": [
      "1*1=1\t\n",
      "2*1=2\t2*2=4\t\n",
      "3*1=3\t3*2=6\t3*3=9\t\n",
      "4*1=4\t4*2=8\t4*3=12\t4*4=16\t\n",
      "5*1=5\t5*2=10\t5*3=15\t5*4=20\t5*5=25\t\n",
      "6*1=6\t6*2=12\t6*3=18\t6*4=24\t6*5=30\t6*6=36\t\n",
      "7*1=7\t7*2=14\t7*3=21\t7*4=28\t7*5=35\t7*6=42\t7*7=49\t\n",
      "8*1=8\t8*2=16\t8*3=24\t8*4=32\t8*5=40\t8*6=48\t8*7=56\t8*8=64\t\n",
      "9*1=9\t9*2=18\t9*3=27\t9*4=36\t9*5=45\t9*6=54\t9*7=63\t9*8=72\t9*9=81\t\n"
     ]
    }
   ],
   "source": [
    "\n",
    "\"\"\"\n",
    "输出乘法口诀表(九九表)\n",
    "\"\"\"\n"
   ]
  },
  {
   "cell_type": "markdown",
   "metadata": {},
   "source": [
    "## 函数和模块的使用\n",
    "\n",
    "在讲解本章节的内容之前，我们先来研究一道数学题，请说出下面的方程有多少组正整数解。\n",
    "\n",
    "$$x_1 + x_2 + x_3 + x_4 = 8$$\n",
    "事实上，上面的问题等同于将8个苹果分成四组每组至少一个苹果有多少种方案。想到这一点问题的答案就呼之欲出了。\n",
    "\n",
    "$$C_M^N =\\frac{M!}{N!(M-N)!}, \\text{(M=7, N=3)} $$\n",
    "\n",
    "可以用Python的程序来计算出这个值，代码如下所示。\n"
   ]
  },
  {
   "cell_type": "code",
   "execution_count": 5,
   "metadata": {
    "ExecuteTime": {
     "end_time": "2020-09-19T12:48:51.412502Z",
     "start_time": "2020-09-19T12:48:46.207330Z"
    }
   },
   "outputs": [
    {
     "name": "stdout",
     "output_type": "stream",
     "text": [
      "m = 7\n",
      "n = 3\n",
      "35\n"
     ]
    }
   ],
   "source": [
    "# 输入M和N计算C(M,N)\n",
    "m = int(input('m = '))\n",
    "n = int(input('n = '))\n",
    "fm = 1\n",
    "for num in range(1, m + 1):\n",
    "    fm *= num\n",
    "fn = 1\n",
    "for num in range(1, n + 1):\n",
    "    fn *= num\n",
    "fmn = 1\n",
    "for num in range(1, m - n + 1):\n",
    "    fmn *= num\n",
    "print(fm // fn // fmn)"
   ]
  },
  {
   "cell_type": "markdown",
   "metadata": {},
   "source": [
    "### 函数的作用\n",
    "\n",
    "不知道大家是否注意到，在上面的代码中，我们做了3次求阶乘，这样的代码实际上就是重复代码。编程大师*Martin Fowler*先生曾经说过：“**代码有很多种坏味道，重复是最坏的一种！**”，要写出高质量的代码首先要解决的就是重复代码的问题。对于上面的代码来说，我们可以将计算阶乘的功能封装到一个称之为“函数”的功能模块中，在需要计算阶乘的地方，我们只需要“调用”这个“函数”就可以了。\n"
   ]
  },
  {
   "cell_type": "markdown",
   "metadata": {},
   "source": [
    "\n",
    "### 定义函数\n",
    "\n",
    "在Python中可以使用`def`关键字来定义函数，和变量一样每个函数也有一个响亮的名字，而且命名规则跟变量的命名规则是一致的。在函数名后面的圆括号中可以放置传递给函数的参数，这一点和数学上的函数非常相似，程序中函数的参数就相当于是数学上说的函数的自变量，而函数执行完成后我们可以通过`return`关键字来返回一个值，这相当于数学上说的函数的因变量。\n",
    "\n",
    "在了解了如何定义函数后，我们可以对上面的代码进行重构，所谓重构就是在不影响代码执行结果的前提下对代码的结构进行调整，重构之后的代码如下所示。\n",
    "\n",
    "```Python\n",
    "def factorial(num):\n",
    "    \"\"\"\n",
    "    求阶乘\n",
    "    \n",
    "    :param num: 非负整数\n",
    "    :return: num的阶乘\n",
    "    \"\"\"\n",
    "    result = 1\n",
    "    for n in range(1, num + 1):\n",
    "        result *= n\n",
    "    return result\n",
    "\n",
    "\n",
    "m = int(input('m = '))\n",
    "n = int(input('n = '))\n",
    "# 当需要计算阶乘的时候不用再写循环求阶乘而是直接调用已经定义好的函数\n",
    "print(factorial(m) // factorial(n) // factorial(m - n))\n",
    "```\n",
    "\n",
    "> **说明：** Python的math模块中其实已经有一个factorial函数了，事实上要计算阶乘可以直接使用这个现成的函数而不用自己定义。下面例子中的某些函数其实Python中也是内置了，我们这里是为了讲解函数的定义和使用才把它们又实现了一遍，实际开发中不建议做这种低级的重复性的工作。\n",
    "\n"
   ]
  },
  {
   "cell_type": "markdown",
   "metadata": {},
   "source": [
    "\n",
    "### 函数的参数\n",
    "\n",
    "函数是绝大多数编程语言中都支持的一个代码的“构建块”，但是Python中的函数与其他语言中的函数还是有很多不太相同的地方，其中一个显著的区别就是Python对函数参数的处理。在Python中，函数的参数可以有默认值，也支持使用可变参数，所以Python并不需要像其他语言一样支持[函数的重载](https://zh.wikipedia.org/wiki/%E5%87%BD%E6%95%B0%E9%87%8D%E8%BD%BD)，因为我们在定义一个函数的时候可以让它有多种不同的使用方式，下面是两个小例子。\n",
    "\n",
    "```Python\n",
    "from random import randint\n",
    "\n",
    "\n",
    "def roll_dice(n=2):\n",
    "    \"\"\"\n",
    "    摇色子\n",
    "    \n",
    "    :param n: 色子的个数\n",
    "    :return: n颗色子点数之和\n",
    "    \"\"\"\n",
    "    total = 0\n",
    "    for _ in range(n):\n",
    "        total += randint(1, 6)\n",
    "    return total\n",
    "\n",
    "\n",
    "def add(a=0, b=0, c=0):\n",
    "    return a + b + c\n",
    "\n",
    "\n",
    "# 如果没有指定参数那么使用默认值摇两颗色子\n",
    "print(roll_dice())\n",
    "# 摇三颗色子\n",
    "print(roll_dice(3))\n",
    "print(add())\n",
    "print(add(1))\n",
    "print(add(1, 2))\n",
    "print(add(1, 2, 3))\n",
    "# 传递参数时可以不按照设定的顺序进行传递\n",
    "print(add(c=50, a=100, b=200))\n",
    "```\n",
    "\n",
    "我们给上面两个函数的参数都设定了默认值，这也就意味着如果在调用函数的时候如果没有传入对应参数的值时将使用该参数的默认值，所以在上面的代码中我们可以用各种不同的方式去调用`add`函数，这跟其他很多语言中函数重载的效果是一致的。\n",
    "\n",
    "其实上面的`add`函数还有更好的实现方案，因为我们可能会对0个或多个参数进行加法运算，而具体有多少个参数是由调用者来决定，我们作为函数的设计者对这一点是一无所知的，因此在不确定参数个数的时候，我们可以使用可变参数，代码如下所示。\n",
    "\n",
    "```Python\n",
    "# 在参数名前面的*表示args是一个可变参数\n",
    "# 即在调用add函数时可以传入0个或多个参数\n",
    "def add(*args):\n",
    "    total = 0\n",
    "    for val in args:\n",
    "        total += val\n",
    "    return total\n",
    "\n",
    "\n",
    "print(add())\n",
    "print(add(1))\n",
    "print(add(1, 2))\n",
    "print(add(1, 2, 3))\n",
    "print(add(1, 3, 5, 7, 9))\n",
    "```\n",
    "\n",
    "\n"
   ]
  },
  {
   "cell_type": "markdown",
   "metadata": {},
   "source": [
    "### 用模块管理函数\n",
    "\n",
    "对于任何一种编程语言来说，给变量、函数这样的标识符起名字都是一个让人头疼的问题，因为我们会遇到命名冲突这种尴尬的情况。最简单的场景就是在同一个.py文件中定义了两个同名函数，由于Python没有函数重载的概念，那么后面的定义会覆盖之前的定义，也就意味着两个函数同名函数实际上只有一个是存在的。\n",
    "\n",
    "```Python\n",
    "def foo():\n",
    "    print('hello, world!')\n",
    "\n",
    "\n",
    "def foo():\n",
    "    print('goodbye, world!')\n",
    "\n",
    "\n",
    "# 下面的代码会输出什么呢？\n",
    "foo()\n",
    "```\n",
    "\n",
    "当然上面的这种情况我们很容易就能避免，但是如果项目是由多人协作进行团队开发的时候，团队中可能有多个程序员都定义了名为`foo`的函数，那么怎么解决这种命名冲突呢？答案其实很简单，Python中每个文件就代表了一个模块（module），我们在不同的模块中可以有同名的函数，在使用函数的时候我们通过`import`关键字导入指定的模块就可以区分到底要使用的是哪个模块中的`foo`函数，代码如下所示。\n",
    "\n",
    "module1.py\n",
    "\n",
    "```Python\n",
    "def foo():\n",
    "    print('hello, world!')\n",
    "```\n",
    "\n",
    "module2.py\n",
    "\n",
    "```Python\n",
    "def foo():\n",
    "    print('goodbye, world!')\n",
    "```\n",
    "\n",
    "test.py\n",
    "\n",
    "```Python\n",
    "from module1 import foo\n",
    "\n",
    "# 输出hello, world!\n",
    "foo()\n",
    "\n",
    "from module2 import foo\n",
    "\n",
    "# 输出goodbye, world!\n",
    "foo()\n",
    "```\n",
    "\n",
    "也可以按照如下所示的方式来区分到底要使用哪一个`foo`函数。\n",
    "\n",
    "test.py\n",
    "\n",
    "```Python\n",
    "import module1 as m1\n",
    "import module2 as m2\n",
    "\n",
    "m1.foo()\n",
    "m2.foo()\n",
    "```\n",
    "\n",
    "但是如果将代码写成了下面的样子，那么程序中调用的是最后导入的那个`foo`，因为后导入的foo覆盖了之前导入的`foo`。\n",
    "\n",
    "test.py\n",
    "\n",
    "```Python\n",
    "from module1 import foo\n",
    "from module2 import foo\n",
    "\n",
    "# 输出goodbye, world!\n",
    "foo()\n",
    "```\n",
    "\n",
    "test.py\n",
    "\n",
    "```Python\n",
    "from module2 import foo\n",
    "from module1 import foo\n",
    "\n",
    "# 输出hello, world!\n",
    "foo()\n",
    "```\n",
    "\n",
    "需要说明的是，如果我们导入的模块除了定义函数之外还中有可以执行代码，那么Python解释器在导入这个模块时就会执行这些代码，事实上我们可能并不希望如此，因此如果我们在模块中编写了执行代码，最好是将这些执行代码放入如下所示的条件中，这样的话除非直接运行该模块，if条件下的这些代码是不会执行的，因为只有直接执行的模块的名字才是“\\_\\_main\\_\\_”。\n",
    "\n",
    "module3.py\n",
    "\n",
    "```Python\n",
    "def foo():\n",
    "    pass\n",
    "\n",
    "\n",
    "def bar():\n",
    "    pass\n",
    "\n",
    "\n",
    "# __name__是Python中一个隐含的变量它代表了模块的名字\n",
    "# 只有被Python解释器直接执行的模块的名字才是__main__\n",
    "if __name__ == '__main__':\n",
    "    print('call foo()')\n",
    "    foo()\n",
    "    print('call bar()')\n",
    "    bar()\n",
    "```\n",
    "\n",
    "test.py\n",
    "\n",
    "```Python\n",
    "import module3\n",
    "\n",
    "# 导入module3时 不会执行模块中if条件成立时的代码 因为模块的名字是module3而不是__main__\n",
    "```\n",
    "\n"
   ]
  },
  {
   "cell_type": "markdown",
   "metadata": {},
   "source": [
    "## 常用数据结构\n",
    "\n",
    "### 使用字符串str"
   ]
  },
  {
   "cell_type": "markdown",
   "metadata": {},
   "source": [
    "#### python中字符串的格式\n",
    "如下定义的变量a，存储的是数字类型的值\n",
    "> a = 100\n",
    "\n",
    "如下定义的变量b，存储的是字符串类型的值\n",
    "\n",
    "    b = \"hello kaikeba.com\"\n",
    "    或者\n",
    "    b = 'hello kaikeba.com'\n",
    "    \n",
    "小总结：\n",
    "\n",
    "> 双引号或者单引号中的数据，就是字符串"
   ]
  },
  {
   "cell_type": "markdown",
   "metadata": {},
   "source": [
    "##### Python 三引号\n",
    "Python 中三引号可以将复杂的字符串进行赋值。\n",
    "\n",
    "Python 三引号允许一个字符串跨多行，字符串中可以包含换行符、制表符以及其他特殊字符。\n",
    "\n",
    "三引号的语法是一对连续的单引号或者双引号（通常都是成对的用）。"
   ]
  },
  {
   "cell_type": "markdown",
   "metadata": {},
   "source": [
    "#### Python 转义字符\n",
    "在需要在字符中使用特殊字符时，python 用反斜杠 \\ 转义字符。如下表："
   ]
  },
  {
   "cell_type": "markdown",
   "metadata": {},
   "source": [
    "<style> table th:first-of-type { width: 50%; } </style>\n",
    "\n",
    "|转义字符 |\t描述 |\n",
    "| :---------------------------: | :----------------------------------------- |\n",
    "|\\\\(在行尾时) |\t续行符 |\n",
    "|\\\\\\ |\t反斜杠符号 |\n",
    "|\\\\' |\t单引号 |\n",
    "|\\\\\" |\t双引号 |\n",
    "|\\a |\t响铃 |\n",
    "|\\b |\t退格(Backspace) |\n",
    "|\\e |\t转义 |\n",
    "|\\000 |\t空 |\n",
    "|\\n |\t换行 |\n",
    "|\\v |\t纵向制表符 |\n",
    "|\\t |\t横向制表符 |\n",
    "|\\r |\t回车 |\n",
    "|\\f |\t换页 |\n",
    "|\\oyy |\t八进制数，yy代表的字符，例如：\\o12代表换行 |\n",
    "|\\xyy |\t十六进制数，yy代表的字符，例如：\\x0a代表换行 |\n",
    "|\\other |\t其它的字符以普通格式输出 |"
   ]
  },
  {
   "cell_type": "code",
   "execution_count": 43,
   "metadata": {
    "ExecuteTime": {
     "end_time": "2020-09-09T06:20:22.312774Z",
     "start_time": "2020-09-09T06:20:22.307983Z"
    }
   },
   "outputs": [
    {
     "name": "stdout",
     "output_type": "stream",
     "text": [
      "网站\t\t域名\t\t\t年龄\t\t价值\n",
      "C语言中文网\tc.biancheng.net\t\t8\t\t500W\n",
      "百度\t\twww.baidu.com\t\t20\t\t500000W\n",
      "--------------------\n",
      "Python教程：http://c.biancheng.net/python/\n",
      "C++教程：http://c.biancheng.net/cplus/\n",
      "Linux教程：http://c.biancheng.net/linux_tutorial/\n"
     ]
    }
   ],
   "source": [
    "#使用\\t排版\n",
    "str1 = '网站\\t\\t域名\\t\\t\\t年龄\\t\\t价值'\n",
    "str2 = 'C语言中文网\\tc.biancheng.net\\t\\t8\\t\\t500W'\n",
    "str3 = '百度\\t\\twww.baidu.com\\t\\t20\\t\\t500000W'\n",
    "print(str1)\n",
    "print(str2)\n",
    "print(str3)\n",
    "print(\"--------------------\")\n",
    "# \\n在输出时换行，\\在书写字符串时换行\n",
    "info = \"Python教程：http://c.biancheng.net/python/\\n\\\n",
    "C++教程：http://c.biancheng.net/cplus/\\n\\\n",
    "Linux教程：http://c.biancheng.net/linux_tutorial/\"\n",
    "print(info)"
   ]
  },
  {
   "cell_type": "code",
   "execution_count": 50,
   "metadata": {
    "ExecuteTime": {
     "end_time": "2020-09-09T06:22:50.959147Z",
     "start_time": "2020-09-09T06:22:50.954558Z"
    }
   },
   "outputs": [
    {
     "data": {
      "text/plain": [
       "'\\t'"
      ]
     },
     "execution_count": 50,
     "metadata": {},
     "output_type": "execute_result"
    }
   ],
   "source": [
    "s = 'sj\\t'\n",
    "s[-1]"
   ]
  },
  {
   "cell_type": "code",
   "execution_count": 36,
   "metadata": {
    "ExecuteTime": {
     "end_time": "2020-09-09T02:59:03.748816Z",
     "start_time": "2020-09-09T02:59:03.745116Z"
    }
   },
   "outputs": [
    {
     "name": "stdout",
     "output_type": "stream",
     "text": [
      "甲：吃饭去吗？\n",
      "乙: 走，吃饭去！\n"
     ]
    }
   ],
   "source": [
    "print('甲：吃饭去吗？\\n乙: 走，吃饭去！')"
   ]
  },
  {
   "cell_type": "code",
   "execution_count": 37,
   "metadata": {
    "ExecuteTime": {
     "end_time": "2020-09-09T02:59:05.498009Z",
     "start_time": "2020-09-09T02:59:05.493329Z"
    }
   },
   "outputs": [
    {
     "name": "stdout",
     "output_type": "stream",
     "text": [
      "甲：吃饭去吗？\n",
      "乙: 走，吃饭去！\n"
     ]
    }
   ],
   "source": [
    "string = '''甲：吃饭去吗？\n",
    "乙: 走，吃饭去！'''\n",
    "print(string)"
   ]
  },
  {
   "cell_type": "code",
   "execution_count": 38,
   "metadata": {
    "ExecuteTime": {
     "end_time": "2020-09-09T02:59:16.114603Z",
     "start_time": "2020-09-09T02:59:16.110740Z"
    }
   },
   "outputs": [
    {
     "name": "stdout",
     "output_type": "stream",
     "text": [
      "\n",
      "　　 へ　　　　　／|\n",
      "　　/＼7　　　 ∠＿/\n",
      "　 /　│　　 ／　／\n",
      "　│　Z ＿,＜　／　　  /`ヽ\n",
      "　│　　　　　ヽ　　  /　　〉\n",
      "　 Y　　　　　`　  /　　/\n",
      "　ｲ●　､　●　⊂⊃  〈　　/\n",
      "　() へ　　 　|　  ＼〈\n",
      "　　>ｰ ､_　 ィ　│  ／／\n",
      "　 / へ　　 /　ﾉ＜| ＼＼\n",
      "　 ヽ_ﾉ　　(_／　│ ／／\n",
      "　　7　　　　　　|／\n",
      "　　＞―r￣￣`ｰ―＿\n"
     ]
    }
   ],
   "source": [
    "pikachu = '''\n",
    "　　 へ　　　　　／|\n",
    "　　/＼7　　　 ∠＿/\n",
    "　 /　│　　 ／　／\n",
    "　│　Z ＿,＜　／　　  /`ヽ\n",
    "　│　　　　　ヽ　　  /　　〉\n",
    "　 Y　　　　　`　  /　　/\n",
    "　ｲ●　､　●　⊂⊃  〈　　/\n",
    "　() へ　　 　|　  ＼〈\n",
    "　　>ｰ ､_　 ィ　│  ／／\n",
    "　 / へ　　 /　ﾉ＜| ＼＼\n",
    "　 ヽ_ﾉ　　(_／　│ ／／\n",
    "　　7　　　　　　|／\n",
    "　　＞―r￣￣`ｰ―＿'''\n",
    "print(pikachu)"
   ]
  },
  {
   "cell_type": "markdown",
   "metadata": {},
   "source": [
    "#### 字符串输出"
   ]
  },
  {
   "cell_type": "code",
   "execution_count": 32,
   "metadata": {
    "ExecuteTime": {
     "end_time": "2020-09-08T11:31:32.837066Z",
     "start_time": "2020-09-08T11:31:32.831906Z"
    }
   },
   "outputs": [
    {
     "name": "stdout",
     "output_type": "stream",
     "text": [
      "--------------------------------------------------\n",
      "姓名：张三\n",
      "职位：工程师\n",
      "公司地址：北京市海淀区\n",
      "--------------------------------------------------\n"
     ]
    }
   ],
   "source": [
    "name = '张三'\n",
    "position = '工程师'\n",
    "address = '北京市海淀区'\n",
    "\n",
    "print('--------------------------------------------------')\n",
    "print(\"姓名：%s\" % name)\n",
    "print(\"职位：%s\" % position)\n",
    "print(\"公司地址：%s\" % address)\n",
    "print('--------------------------------------------------')"
   ]
  },
  {
   "cell_type": "markdown",
   "metadata": {},
   "source": [
    "##### 格式化输出\n",
    "常用的格式符号\n",
    "下面是完整的，它可以与％符号使用列表:\n",
    "```\n",
    "格式符号\t转换\n",
    "%c\t字符\n",
    "%s\t字符串\n",
    "%d\t有符号十进制整数\n",
    "%u\t无符号十进制整数\n",
    "%o\t八进制整数\n",
    "%x\t十六进制整数（小写字母0x）\n",
    "%X\t十六进制整数（大写字母0X）\n",
    "%f\t浮点数\n",
    "%e\t科学计数法（小写'e'）\n",
    "%E\t科学计数法（大写“E”）\n",
    "%g\t％f和％e 的简写\n",
    "%G\t％f和％E的简写\n",
    "```"
   ]
  },
  {
   "cell_type": "code",
   "execution_count": null,
   "metadata": {},
   "outputs": [],
   "source": [
    "# Python2.6 开始，新增了一种格式化字符串的函数 str.format()，它增强了字符串格式化的功能。\n",
    "name = '张三'\n",
    "position = '工程师'\n",
    "address = '北京市海淀区'\n",
    "\n",
    "print('--------------------------------------------------')\n",
    "print(\"姓名：{}\".format(name))\n",
    "print(\"职位：{}\".format(position))\n",
    "print(\"公司地址：{}\".format(address))\n",
    "print('--------------------------------------------------')"
   ]
  },
  {
   "cell_type": "markdown",
   "metadata": {},
   "source": [
    "##### Python 字符串的格式化，从 %格式到 format再到 f-string，格式化的方式是越来越直观，同时 f-string 的效率似乎也比前两个高。"
   ]
  },
  {
   "cell_type": "code",
   "execution_count": 35,
   "metadata": {
    "ExecuteTime": {
     "end_time": "2020-09-08T11:39:10.408321Z",
     "start_time": "2020-09-08T11:39:10.403635Z"
    }
   },
   "outputs": [
    {
     "name": "stdout",
     "output_type": "stream",
     "text": [
      "--------------------------------------------------\n",
      "姓名：张三\n",
      "职位：工程师\n",
      "公司地址：北京市海淀区\n",
      "--------------------------------------------------\n"
     ]
    }
   ],
   "source": [
    "# f-string 的功能在 Python 3.6 及以后版本适用。\n",
    "name = '张三'\n",
    "position = '工程师'\n",
    "address = '北京市海淀区'\n",
    "\n",
    "print('--------------------------------------------------')\n",
    "print(f\"姓名：{name}\")\n",
    "print(f\"职位：{position}\")\n",
    "print(f\"公司地址：{address}\")\n",
    "print('--------------------------------------------------')"
   ]
  },
  {
   "cell_type": "code",
   "execution_count": 40,
   "metadata": {
    "ExecuteTime": {
     "end_time": "2020-09-09T03:11:29.016676Z",
     "start_time": "2020-09-09T03:11:29.011528Z"
    }
   },
   "outputs": [
    {
     "data": {
      "text/plain": [
       "'Hi 张三. You are a 工程师. You were in 北京市海淀区.'"
      ]
     },
     "execution_count": 40,
     "metadata": {},
     "output_type": "execute_result"
    }
   ],
   "source": [
    "message = (f\"Hi {name}. \"\n",
    "        f\"You are a {position}. \"\n",
    "        f\"You were in {address}.\")\n",
    "message"
   ]
  },
  {
   "cell_type": "markdown",
   "metadata": {},
   "source": [
    "#### 字符串输入\n",
    "\n",
    "注意：input获取的数据，都以字符串的方式进行保存，即使输入的是数字，那么也是以字符串方式保存"
   ]
  },
  {
   "cell_type": "code",
   "execution_count": null,
   "metadata": {},
   "outputs": [],
   "source": [
    "username = input('请输入用户名:')\n",
    "print(\"用户名为：%s\" % userName)\n",
    "\n",
    "password = input('请输入密码:')\n",
    "print(\"密码为：%s\" % password)"
   ]
  },
  {
   "cell_type": "markdown",
   "metadata": {},
   "source": [
    "#### 下标与切片\n",
    "##### 字符串中\"下标\"的使用\n",
    "\n",
    "列表与元组支持下标索引好理解，字符串实际上就是字符的数组，所以也支持下标索引。\n"
   ]
  },
  {
   "cell_type": "code",
   "execution_count": null,
   "metadata": {},
   "outputs": [],
   "source": [
    "name = 'abcdef'\n",
    "\n",
    "print(name[0])\n",
    "print(name[1])\n",
    "print(name[2])"
   ]
  },
  {
   "cell_type": "markdown",
   "metadata": {},
   "source": [
    "##### 切片\n",
    "切片是指对操作的对象截取其中一部分的操作。字符串、列表、元组都支持切片操作。\n",
    "\n",
    "切片的语法：[起始:结束:步长]\n",
    "- 注意：选取的区间从\"起始\"位开始，到\"结束\"位的前一位结束（不包含结束位本身)，步长表示选取间隔。\n",
    "- 注意是左闭右开的区间，即包含左边界，但是不包含右边界\n",
    "- 其中：步长可以省略，默认为1。步长即每次截取一个元素，到下一次截取元素距离几个元素（默认为1，即紧挨着截取）\n",
    "\n",
    "- 特别注意:\n",
    "    - 冒号：的左右两侧都可以不写，其中左侧默认为0，即str第一个数据，右侧默认为数据个数+1，即list的最后一个数据\n",
    "    - 左边界和右边界也可以超出str的范围，最长只能截取到str的范围内\n",
    "    - 一般情况下，左边界<=右边界。若左边界>右边界，则要设置步长为负数，否则输出为空（此情况也就是从右向左截取）\n",
    "\n",
    "我们以字符串为例讲解。\n",
    "\n",
    "如果取出一部分，则可以在中括号[]中，使用:\n",
    "\n",
    "\n",
    "     name = 'abcdef'\n",
    "\n",
    "     print(name[0:3]) # 取 下标0~2 的字符"
   ]
  },
  {
   "cell_type": "markdown",
   "metadata": {},
   "source": [
    "#### 字符串连接\n",
    "用+号实现连接"
   ]
  },
  {
   "cell_type": "code",
   "execution_count": 51,
   "metadata": {
    "ExecuteTime": {
     "end_time": "2020-09-09T06:36:27.828835Z",
     "start_time": "2020-09-09T06:36:27.824359Z"
    }
   },
   "outputs": [
    {
     "data": {
      "text/plain": [
       "'你好kaikeba'"
      ]
     },
     "execution_count": 51,
     "metadata": {},
     "output_type": "execute_result"
    }
   ],
   "source": [
    "a = '你好'\n",
    "b = 'kaikeba'\n",
    "a+b"
   ]
  },
  {
   "cell_type": "code",
   "execution_count": 52,
   "metadata": {
    "ExecuteTime": {
     "end_time": "2020-09-09T06:36:48.165435Z",
     "start_time": "2020-09-09T06:36:48.156504Z"
    }
   },
   "outputs": [
    {
     "ename": "TypeError",
     "evalue": "can only concatenate str (not \"int\") to str",
     "output_type": "error",
     "traceback": [
      "\u001b[0;31m---------------------------------------------------------------------------\u001b[0m",
      "\u001b[0;31mTypeError\u001b[0m                                 Traceback (most recent call last)",
      "\u001b[0;32m<ipython-input-52-3d843124bde2>\u001b[0m in \u001b[0;36m<module>\u001b[0;34m\u001b[0m\n\u001b[0;32m----> 1\u001b[0;31m \u001b[0;34m'你好'\u001b[0m \u001b[0;34m+\u001b[0m \u001b[0;36m1\u001b[0m\u001b[0;34m\u001b[0m\u001b[0;34m\u001b[0m\u001b[0m\n\u001b[0m",
      "\u001b[0;31mTypeError\u001b[0m: can only concatenate str (not \"int\") to str"
     ]
    }
   ],
   "source": [
    "'你好' + 1"
   ]
  },
  {
   "cell_type": "markdown",
   "metadata": {},
   "source": [
    "#### 字符串常见操作\n",
    "如有字符串mystr = 'hello world'，以下是常见的操作\n",
    "\n",
    "<1> find\n",
    "\n",
    "检测 str 是否包含在 mystr中，如果是返回开始的索引值，否则返回-1\n",
    "\n",
    "mystr.find(str, start=0, end=len(mystr))\n",
    "\n",
    "<2>index\n",
    "\n",
    "跟find()方法一样，只不过如果str不在 mystr中会报一个异常.\n",
    "\n",
    "mystr.index(str, start=0, end=len(mystr)) \n",
    "\n",
    "<3>count\n",
    "\n",
    "返回 str在start和end之间 在 mystr里面出现的次数\n",
    "\n",
    "mystr.count(str, start=0, end=len(mystr))\n",
    "\n",
    "\n",
    "<4>replace\n",
    "\n",
    "把 mystr 中的 str1 替换成 str2,如果 count 指定，则替换不超过 count 次.\n",
    "\n",
    "mystr.replace(str1, str2,  mystr.count(str1))\n",
    "\n",
    "\n",
    "<5>split\n",
    "\n",
    "以 str 为分隔符切片 mystr，如果 maxsplit有指定值，则仅分隔 maxsplit 个子字符串\n",
    "\n",
    "mystr.split(str=\" \", 2)    \n",
    "\n",
    "\n",
    "<6>capitalize\n",
    "\n",
    "把字符串的第一个字符大写\n",
    "\n",
    "mystr.capitalize()\n",
    "\n",
    "\n",
    "<7>title\n",
    "\n",
    "把字符串的每个单词首字母大写\n",
    "```Python\n",
    "a = \"hello world\"\n",
    "a.title()\n",
    "'Hello World'\n",
    "```\n",
    "\n",
    "<8>startswith\n",
    "\n",
    "检查字符串是否是以 hello 开头, 是则返回 True，否则返回 False\n",
    "\n",
    "mystr.startswith('hello')\n",
    "\n",
    "\n",
    "<9>endswith\n",
    "\n",
    "检查字符串是否以obj结束，如果是返回True,否则返回 False.\n",
    "\n",
    "mystr.endswith(obj)\n",
    "\n",
    "\n",
    "<10>lower\n",
    "\n",
    "转换 mystr 中所有大写字符为小写\n",
    "\n",
    "mystr.lower()        \n",
    "\n",
    "\n",
    "<11>upper\n",
    "\n",
    "转换 mystr 中的小写字母为大写\n",
    "\n",
    "mystr.upper()    \n",
    "\n",
    "\n",
    "<12>ljust\n",
    "\n",
    "返回一个原字符串左对齐,并使用空格填充至长度 width 的新字符串\n",
    "\n",
    "mystr.ljust(width) \n",
    "\n",
    "\n",
    "<13>rjust\n",
    "\n",
    "返回一个原字符串右对齐,并使用空格填充至长度 width 的新字符串\n",
    "\n",
    "mystr.rjust(width)    \n",
    "\n",
    "\n",
    "<14>center\n",
    "\n",
    "返回一个原字符串居中,并使用空格填充至长度 width 的新字符串\n",
    "\n",
    "mystr.center(width)   \n",
    "\n",
    "\n",
    "<15>lstrip\n",
    "\n",
    "删除 mystr 左边的空白字符\n",
    "\n",
    "mystr.lstrip()\n",
    "\n",
    "\n",
    "<16>rstrip\n",
    "\n",
    "删除 mystr 字符串末尾的空白字符\n",
    "\n",
    "mystr.rstrip()    \n",
    "\n",
    "\n",
    "<17>strip\n",
    "\n",
    "删除mystr字符串两端的空白字符\n",
    "\n",
    "<18>rfind\n",
    "\n",
    "类似于 find()函数，不过是从右边开始查找.\n",
    "\n",
    "mystr.rfind(str, start=0,end=len(mystr) )\n",
    "\n",
    "\n",
    "<19>rindex\n",
    "\n",
    "类似于 index()，不过是从右边开始.\n",
    "\n",
    "mystr.rindex( str, start=0,end=len(mystr))\n",
    "\n",
    "\n",
    "<20>partition\n",
    "\n",
    "把mystr以str分割成三部分,str前，str和str后\n",
    "\n",
    "mystr.partition(str)\n",
    "\n",
    "\n",
    "<21>rpartition\n",
    "\n",
    "类似于 partition()函数,不过是从右边开始.\n",
    "\n",
    "mystr.rpartition(str)\n",
    "\n",
    "\n",
    "<22>splitlines\n",
    "\n",
    "按照行分隔，返回一个包含各行作为元素的列表\n",
    "\n",
    "mystr.splitlines()  \n",
    "\n",
    "\n",
    "<23>isalpha\n",
    "\n",
    "如果 mystr 所有字符都是字母 则返回 True,否则返回 False\n",
    "\n",
    "mystr.isalpha()  \n",
    "\n",
    "\n",
    "<24>isdigit\n",
    "\n",
    "如果 mystr 只包含数字则返回 True 否则返回 False.\n",
    "\n",
    "mystr.isdigit() \n",
    "\n",
    "\n",
    "<25>isalnum\n",
    "\n",
    "如果 mystr 所有字符都是字母或数字则返回 True,否则返回 False\n",
    "\n",
    "mystr.isalnum()  \n",
    "\n",
    "\n",
    "<26>isspace\n",
    "\n",
    "如果 mystr 中只包含空格，则返回 True，否则返回 False.\n",
    "\n",
    "mystr.isspace()   \n",
    "\n",
    "\n",
    "<27>join\n",
    "\n",
    "mystr 中每个元素后面插入str,构造出一个新的字符串\n",
    "\n",
    "mystr.join(str)\n",
    "\n"
   ]
  },
  {
   "cell_type": "markdown",
   "metadata": {},
   "source": [
    "#### 字符串相关练习\n",
    "\n",
    "第二次世界大战促使了现代电子计算机的诞生，最初的目的用计算机来快速的完成导弹弹道的计算，因此在计算机刚刚诞生的那个年代，计算机处理的信息基本上都是数值型的信息，而世界上的第一台电子计算机ENIAC每秒钟能够完成约5000次浮点运算。随着时间的推移，虽然数值运算仍然是计算机日常工作中最为重要的事情之一，但是今天的计算机更多的时间需要处理的数据可能都是以文本的方式存在的，如果我们希望通过Python程序操作本这些文本信息，就必须要先了解字符串类型以及与它相关的知识。\n",
    "\n",
    "所谓**字符串**，就是由零个或多个字符组成的有限序列，一般记为$${\\displaystyle s=a_{1}a_{2}\\dots a_{n}(0\\leq n \\leq \\infty)}$$\n",
    "\n",
    "我们可以通过下面的代码来了解字符串的使用。\n",
    "\n",
    "```Python\n",
    "def main():\n",
    "    str1 = 'hello, world!'\n",
    "    # 通过len函数计算字符串的长度\n",
    "    print(len(str1))  # 13\n",
    "    # 获得字符串首字母大写的拷贝\n",
    "    print(str1.capitalize())  # Hello, world!\n",
    "    # 获得字符串变大写后的拷贝\n",
    "    print(str1.upper())  # HELLO, WORLD!\n",
    "    # 从字符串中查找子串所在位置\n",
    "    print(str1.find('or'))  # 8\n",
    "    print(str1.find('shit'))  # -1\n",
    "    # 与find类似但找不到子串时会引发异常\n",
    "    # print(str1.index('or'))\n",
    "    # print(str1.index('shit'))\n",
    "    # 检查字符串是否以指定的字符串开头\n",
    "    print(str1.startswith('He'))  # False\n",
    "    print(str1.startswith('hel'))  # True\n",
    "    # 检查字符串是否以指定的字符串结尾\n",
    "    print(str1.endswith('!'))  # True\n",
    "    # 将字符串以指定的宽度居中并在两侧填充指定的字符\n",
    "    print(str1.center(50, '*'))\n",
    "    # 将字符串以指定的宽度靠右放置左侧填充指定的字符\n",
    "    print(str1.rjust(50, ' '))\n",
    "    str2 = 'abc123456'\n",
    "    # 从字符串中取出指定位置的字符(下标运算)\n",
    "    print(str2[2])  # c\n",
    "    # 字符串切片(从指定的开始索引到指定的结束索引)\n",
    "    print(str2[2:5])  # c12\n",
    "    print(str2[2:])  # c123456\n",
    "    print(str2[2::2])  # c246\n",
    "    print(str2[::2])  # ac246\n",
    "    print(str2[::-1])  # 654321cba\n",
    "    print(str2[-3:-1])  # 45\n",
    "    # 检查字符串是否由数字构成\n",
    "    print(str2.isdigit())  # False\n",
    "    # 检查字符串是否以字母构成\n",
    "    print(str2.isalpha())  # False\n",
    "    # 检查字符串是否以数字和字母构成\n",
    "    print(str2.isalnum())  # True\n",
    "    str3 = '  hello@163.com '\n",
    "    print(str3)\n",
    "    # 获得字符串修剪左右两侧空格的拷贝\n",
    "    print(str3.strip())\n",
    "\n",
    "\n",
    "if __name__ == '__main__':\n",
    "    main()\n",
    "```\n"
   ]
  },
  {
   "cell_type": "markdown",
   "metadata": {},
   "source": [
    "### 使用列表list"
   ]
  },
  {
   "cell_type": "markdown",
   "metadata": {},
   "source": [
    "list作为Python中最常用的数据结构之一，与其他编程语言的数组有相似的特点，但是它具有着更为强大的功能，接下来将详细地为大家介绍一下list的所有操作。\n",
    "\n",
    "（注：tuple元组类型与list类似，但是tuple的元素不能修改；set集合与list也类似，但是集合中的元素是无序的，且会自动除去重复元素）"
   ]
  },
  {
   "cell_type": "markdown",
   "metadata": {},
   "source": [
    "#### 列表的格式\n",
    "\n",
    "想一想：\n",
    "\n",
    "    前面学习的字符串可以用来存储一串信息，那么想一想，怎样存储咱们班所有同学的名字呢？\n",
    "\n",
    "    定义100个变量，每个变量存放一个学生的姓名可行吗？有更好的办法吗？\n",
    "\n",
    "答：\n",
    "    列表\n",
    " \n",
    "格式：列表名 = [列表选项1, 列表选项2, ……, 列表选项n]\n",
    "\n",
    "例如：\n",
    "\n",
    "    namesList = ['zhangsan','李四','王五']\n",
    "\n",
    "比C语言的数组强大的地方在于列表中的元素可以是不同类型的\n",
    "\n",
    "    testList = [1, 'a']   "
   ]
  },
  {
   "cell_type": "markdown",
   "metadata": {},
   "source": [
    "#### 列表的常见操作"
   ]
  },
  {
   "cell_type": "markdown",
   "metadata": {},
   "source": [
    "##### 1.list列表的创建\n",
    "- 创建一个列表（不赋初值）:\n",
    "```\n",
    "a = []\n",
    "a = list()\n",
    "```"
   ]
  },
  {
   "cell_type": "markdown",
   "metadata": {},
   "source": [
    "- 创建一个列表，并对其赋初值\n",
    "```\n",
    "a = [1,2,3]\n",
    "```"
   ]
  },
  {
   "cell_type": "markdown",
   "metadata": {},
   "source": [
    "- 列表更高级的创建方法——用表达式创建\n",
    "```\n",
    "a = [i for i in range(1, 11)]\n",
    "#创建一个元素分别为1,2，...10的列表\n",
    "a = [i for i in range(1, 11) if i % 2 == 0]\n",
    "#创建一个1-10，且元素为偶数的列表\n",
    "```"
   ]
  },
  {
   "cell_type": "markdown",
   "metadata": {},
   "source": [
    "- 用list（）函数将其他（可迭代）数据转换为列表\n",
    "```\n",
    "list('ab c')   #列表为['a', 'b', ' ', 'c']\n",
    "```"
   ]
  },
  {
   "cell_type": "markdown",
   "metadata": {},
   "source": [
    "##### 2. 列表的索引\n",
    "\n",
    "- 直接用中括号[ ]索引其下标即可，或用for循环遍历所有的值\n",
    "- 注意，当下标为负数时则代表从后往前所以（或理解为长度+负下标），即-1代表最后一个元素，-2代表倒数第2个元素"
   ]
  },
  {
   "cell_type": "code",
   "execution_count": null,
   "metadata": {},
   "outputs": [],
   "source": [
    "a = [1, 2, 3]\n",
    "print(a[1])  # 输出2,因为一个list列表的下标从0开始，按照0, 1, 2,...的顺序排列\n",
    "print(a[-1])  # 输出3\n",
    "for i in a:\n",
    "    print(i)  # 输出1 2 3"
   ]
  },
  {
   "cell_type": "markdown",
   "metadata": {},
   "source": [
    "- 注意，字典dict中可以用.keys()和.values()分别遍历dict的键和值\n",
    "\n",
    "- 字典dict中.get()函数可以返回指定键的值，相比于dict[“key”]访问的好处是如果字典中没有指定的key则返回None，而不会直接报错"
   ]
  },
  {
   "cell_type": "code",
   "execution_count": null,
   "metadata": {},
   "outputs": [],
   "source": [
    "a = {\"one\": 1, \"two\": 2}\n",
    "for i in a.values():\n",
    "    print(i)  # 输出1 2\n",
    "a.get(key, default)  # default_value不设置的话默认为None，设置的话即如果找不到则返回default设定的值"
   ]
  },
  {
   "cell_type": "markdown",
   "metadata": {},
   "source": [
    "##### 3. 列表的分片操作（slice）\n",
    "\n",
    "- 用[左边界下标：右边界下标：步长]截取list中特定的一段，注意是左闭右开的区间，即包含左边界，但是不包含右边界\n",
    "\n",
    "- 其中：步长可以省略，默认为1。步长即每次截取一个元素，到下一次截取元素距离几个元素（默认为1，即紧挨着截取）\n",
    "\n",
    "- 特别注意，冒号：的左右两侧都可以不写，其中左侧默认为0，即list第一个数据，右侧默认为数据个数+1，即list的最后一个数据\n",
    "- 左边界和右边界也可以超出list的范围，最长只能截取到list的范围内\n",
    "- 一般情况下，左边界<=右边界。若左边界>右边界，则要设置步长为负数，否则输出为空（此情况也就是从右向左截取）\n"
   ]
  },
  {
   "cell_type": "code",
   "execution_count": null,
   "metadata": {},
   "outputs": [],
   "source": [
    "a = [1, 2, 3, 4, 5]\n",
    "print(a[1:3])  # 输出[2,3]\n",
    "print(a[:4])  # 输出[1,2,3,4]\n",
    "print(a[2:])  # 输出[3,4,5]\n",
    "print(a[2:10]  # 输出[3,4,5]\n",
    "print(a[0:3:2])  # 输出[1,3]\n",
    "print(a[2:0:-1])  # 输出[3,2]"
   ]
  },
  {
   "cell_type": "markdown",
   "metadata": {},
   "source": [
    "##### 4. 列表删除元素\n",
    "1. 用del函数删除列表指定位置的元素\n",
    "> del(list1[index]) #删除list1中index位置的元素（index也可以表示一个范围，如[1, 3]）\n",
    "2. 用pop函数剔除队尾元素，并将其返回\n",
    "> a = list1.pop(index) #将list1中index位置元素剔除并赋值给a，默认删除最后一个元素\n",
    "3. 用remove函数删除列表中值为指定值的元素\n",
    "> list1.remove(value) #删除list中值为value的元素\n",
    "4. 用clear函数彻底清空列表全部内容\n",
    "> list1.clear() #清空list1的全部内容\n",
    "5. 用分片赋值空列表的办法删除元素\n",
    "> list1 = [1, 2, 3, 4, 5]   list1[2:] = []   list1  # 输出[1, 2]\n",
    "\n",
    "**注意：集合中只有remove和discard，其中discard删除不存在的元素不会报错，但是remove与list中一样，会报错**"
   ]
  },
  {
   "cell_type": "markdown",
   "metadata": {},
   "source": [
    "##### 5. 列表的拼接\n",
    "\n",
    "- 可以简单的用 + 将两个列表连接起来\n",
    "```\n",
    "a = [1, 2]\n",
    "b = [3]\n",
    "c = a + b\n",
    "```\n",
    "那么c = [1, 2, 3]\n",
    "\n",
    "- 用extend函数拼接两个列表\n",
    "```\n",
    "list1.extend(list2) #在list1后面接上list2\n",
    "```"
   ]
  },
  {
   "cell_type": "markdown",
   "metadata": {},
   "source": [
    "##### 6. 列表的重复\n",
    "\n",
    "- 可以将一个列表直接乘一个数字n获得n倍重复后的列表，相当于n个这样的列表连接起来\n",
    "```\n",
    "a = [0]\n",
    "b = a * 5\n",
    "```\n",
    "那么b = [0, 0, 0, 0, 0]"
   ]
  },
  {
   "cell_type": "markdown",
   "metadata": {},
   "source": [
    "##### 7. 元素成员判断（判断一个元素是否存在一个列表中）\n",
    "```Python\n",
    "a = [1, 2, 3, 4, 5]\n",
    "b = 2\n",
    "print(b in a)\n",
    "# 输出True\n",
    "\n",
    "print(b not in a)\n",
    "# 输出False\n",
    "```\n",
    "**若in前面的元素在列表中则运算值为真；否则为假 not in与in刚好相反**\n"
   ]
  },
  {
   "cell_type": "markdown",
   "metadata": {},
   "source": [
    "##### 8. 求列表的长度\n",
    "\n",
    "> len([1, 2, 3])   #列表的长度为3"
   ]
  },
  {
   "cell_type": "markdown",
   "metadata": {},
   "source": [
    "##### 9. 求列表的最大、最小值\n",
    "\n",
    "> max([1, 2, 3])   #最大值为3"
   ]
  },
  {
   "cell_type": "markdown",
   "metadata": {},
   "source": [
    "##### 10. 在列表中插入元素\n",
    "\n",
    "- append函数在队尾插入元素\n",
    "> list1.append(5)  #在list1的最后插入元素5\n",
    "- insert函数在任意位置插入元素\n",
    "> list1.insert(index, data) #在指定位置（index处）插入元素data\n",
    "- extend()函数在尾部扩展一个新列表\n",
    "```\n",
    "list1 = [1]\n",
    "list1.extend([2, 3])  # list1为[1, 2, 3]\n",
    "```\n",
    "**注意，集合set中没有append和insert，取代的是add（）**\n",
    "> set1.add(2) #向集合中加入元素2"
   ]
  },
  {
   "cell_type": "markdown",
   "metadata": {},
   "source": [
    "##### 11. 反转一个列表\n",
    "\n",
    "> list1.reverse() #翻转整个列表，即第一个与最后一个互换，第二个与倒数第二个互换...."
   ]
  },
  {
   "cell_type": "markdown",
   "metadata": {},
   "source": [
    "##### 12. 计算列表中指定元素x的个数\n",
    "\n",
    "> times = list.count(x)"
   ]
  },
  {
   "cell_type": "markdown",
   "metadata": {},
   "source": [
    "##### 13. 查找列表中指定元素的位置\n",
    "\n",
    "- 语法：index(X) 查找list中元素X的位置（若重复出现，则以第一次出现的为准）\n",
    "```\n",
    "a = [1, 2, 3, 4, 5] \n",
    "a.index(2) #结果为1\n",
    "```"
   ]
  },
  {
   "cell_type": "markdown",
   "metadata": {},
   "source": [
    "##### 14.（浅）复制一个list\n",
    "```\n",
    "list2 = list1.copy() #将list1的内容复制给list2\n",
    "#注意这里与list2 = list1是有区别的，python中列表的直接赋值是一个传址操作，即改变list2的值也会同时影响list1的值\n",
    "#但是copy函数进行的是一个传值操作，即改变list2的值对list1无影响\n",
    "#浅复制的意思是若列表中嵌套一个列表，则对内部的列表仍然是传址复制\n",
    "```"
   ]
  },
  {
   "cell_type": "markdown",
   "metadata": {},
   "source": [
    "##### 15. 列表的排序：sort方法与sorted（）函数\n",
    "\n",
    "- sort方法\n",
    "    - 参数：\n",
    "        - key:主要是用来进行比较的元素，只有一个参数，具体的函数的参数就是取自于可迭代对象中，指定可迭代对象中的一个元素来进行排序。(https://www.runoob.com/python/att-list-sort.html)\n",
    "        - reverse：是否降序(True为降序，不指定该参数为升序)\n",
    "    ```\n",
    "    list1 = [(1,6),(3,4),(2,5)]\n",
    "    list1.sort(key=lambda x:x[1], reverse=True)  # 根据第二个元素，降序排列\n",
    "    # 输出:[(1, 6), (2, 5), (3, 4)]\n",
    "    ```\n",
    "- sorted()函数：\n",
    "    - 与sort方法功能类似，但是sorted()函数有返回值，返回的是排序后的结果。"
   ]
  },
  {
   "cell_type": "markdown",
   "metadata": {},
   "source": [
    "#### 列表相关练习"
   ]
  },
  {
   "cell_type": "markdown",
   "metadata": {},
   "source": [
    "下面的代码演示了如何定义列表、使用下标访问列表元素以及添加和删除元素的操作。\n",
    "\n",
    "```Python\n",
    "def main():\n",
    "    list1 = [1, 3, 5, 7, 100]\n",
    "    print(list1)\n",
    "    list2 = ['hello'] * 5\n",
    "    print(list2)\n",
    "    # 计算列表长度(元素个数)\n",
    "    print(len(list1))\n",
    "    # 下标(索引)运算\n",
    "    print(list1[0])\n",
    "    print(list1[4])\n",
    "    # print(list1[5])  # IndexError: list index out of range\n",
    "    print(list1[-1])\n",
    "    print(list1[-3])\n",
    "    list1[2] = 300\n",
    "    print(list1)\n",
    "    # 添加元素\n",
    "    list1.append(200)\n",
    "    list1.insert(1, 400)\n",
    "    list1 += [1000, 2000]\n",
    "    print(list1)\n",
    "    print(len(list1))\n",
    "    # 删除元素\n",
    "    list1.remove(3)\n",
    "    if 1234 in list1:\n",
    "        list1.remove(1234)\n",
    "    del list1[0]\n",
    "    print(list1)\n",
    "    # 清空列表元素\n",
    "    list1.clear()\n",
    "    print(list1)\n",
    "\n",
    "\n",
    "if __name__ == '__main__':\n",
    "    main()\n",
    "```\n",
    "\n",
    "和字符串一样，列表也可以做切片操作，通过切片操作我们可以实现对列表的复制或者将列表中的一部分取出来创建出新的列表，代码如下所示。\n",
    "\n",
    "```Python\n",
    "def main():\n",
    "    fruits = ['grape', 'apple', 'strawberry', 'waxberry']\n",
    "    fruits += ['pitaya', 'pear', 'mango']\n",
    "    # 循环遍历列表元素\n",
    "    for fruit in fruits:\n",
    "        print(fruit.title(), end=' ')\n",
    "    print()\n",
    "    # 列表切片\n",
    "    fruits2 = fruits[1:4]\n",
    "    print(fruits2)\n",
    "    # fruit3 = fruits  # 没有复制列表只创建了新的引用\n",
    "    # 可以通过完整切片操作来复制列表\n",
    "    fruits3 = fruits[:]\n",
    "    print(fruits3)\n",
    "    fruits4 = fruits[-3:-1]\n",
    "    print(fruits4)\n",
    "    # 可以通过反向切片操作来获得倒转后的列表的拷贝\n",
    "    fruits5 = fruits[::-1]\n",
    "    print(fruits5)\n",
    "\n",
    "\n",
    "if __name__ == '__main__':\n",
    "    main()\n",
    "```\n",
    "\n",
    "下面的代码实现了对列表的排序操作。\n",
    "\n",
    "```Python\n",
    "def main():\n",
    "    list1 = ['orange', 'apple', 'zoo', 'internationalization', 'blueberry']\n",
    "    list2 = sorted(list1)\n",
    "    # sorted函数返回列表排序后的拷贝不会修改传入的列表\n",
    "    # 函数的设计就应该像sorted函数一样尽可能不产生副作用\n",
    "    list3 = sorted(list1, reverse=True)\n",
    "    # 通过key关键字参数指定根据字符串长度进行排序而不是默认的字母表顺序\n",
    "    list4 = sorted(list1, key=len)\n",
    "    print(list1)\n",
    "    print(list2)\n",
    "    print(list3)\n",
    "    print(list4)\n",
    "    # 给列表对象发出排序消息直接在列表对象上进行排序\n",
    "    list1.sort(reverse=True)\n",
    "    print(list1)\n",
    "\n",
    "\n",
    "if __name__ == '__main__':\n",
    "    main()\n",
    "```\n",
    "\n",
    "我们还可以使用列表的生成式语法来创建列表，代码如下所示。\n",
    "\n",
    "```Python\n",
    "import sys\n",
    "\n",
    "\n",
    "def main():\n",
    "    f = [x for x in range(1, 10)]\n",
    "    print(f)\n",
    "    f = [x + y for x in 'ABCDE' for y in '1234567']\n",
    "    print(f)\n",
    "    # 用列表的生成表达式语法创建列表容器\n",
    "    # 用这种语法创建列表之后元素已经准备就绪所以需要耗费较多的内存空间\n",
    "    f = [x ** 2 for x in range(1, 1000)]\n",
    "    print(sys.getsizeof(f))  # 查看对象占用内存的字节数\n",
    "    print(f)\n",
    "    # 请注意下面的代码创建的不是一个列表而是一个生成器对象\n",
    "    # 通过生成器可以获取到数据但它不占用额外的空间存储数据\n",
    "    # 每次需要数据的时候就通过内部的运算得到数据(需要花费额外的时间)\n",
    "    f = (x ** 2 for x in range(1, 1000))\n",
    "    print(sys.getsizeof(f))  # 相比生成式生成器不占用存储数据的空间\n",
    "    print(f)\n",
    "    for val in f:\n",
    "        print(val)\n",
    "\n",
    "\n",
    "if __name__ == '__main__':\n",
    "    main()\n",
    "```\n"
   ]
  },
  {
   "cell_type": "markdown",
   "metadata": {},
   "source": [
    "### 使用元组tuple"
   ]
  },
  {
   "cell_type": "markdown",
   "metadata": {},
   "source": [
    "元组类似于列表，是一个基于位置的有序对象集合，但是元组一旦创建之后就不能更改，因此列表中修改元素的操作对于元组都不适用。\n",
    "- 为什么要使用元组？\n",
    "    - 元组和其他不可变量类似于其他语言中“常量”的声明，它的不可变性提供了某种一致性，这样可以确保元组在程序中不会被另一个引用修改。\n",
    "    - Mark Lutz——《Learning Python》中文版"
   ]
  },
  {
   "cell_type": "markdown",
   "metadata": {},
   "source": [
    "#### 元组的创建"
   ]
  },
  {
   "cell_type": "code",
   "execution_count": null,
   "metadata": {},
   "outputs": [],
   "source": [
    "t = (1, 2, 3)\n",
    "t = tuple([1, 2])\n",
    "\n",
    "# 特别说明，当元组中仅有一个元素时，要以逗号结尾。这是因为小括号同样可以把表达式括起来，为了与此区分开来，因此在单一对象元组是要在括号内加一个,用以区分。\n",
    "\n",
    "t = (1)  # 表达式 \n",
    "t = (1,)  # 元组"
   ]
  },
  {
   "cell_type": "markdown",
   "metadata": {},
   "source": [
    "#### 元组的方法\n",
    "\n",
    "由于元组并不能够像列表一样修改，因此元组并没有特别多的方法\n",
    "\n",
    "> t = (1, 2, 3, 1, 2)\n",
    "\n",
    "##### 1. index方法：根据元素找到其位置\n",
    "> t.index(1, 2)  # 寻找第2个元素1的位置\n",
    "\n",
    "结果为3\n",
    "\n",
    "##### 2. count方法：返回元素的个数\n",
    "> t.count(2)\n",
    "\n",
    "结果为2"
   ]
  },
  {
   "cell_type": "markdown",
   "metadata": {},
   "source": [
    "##### 3. namedtuple -有名元组\n",
    "\n",
    "python标准库的collections模块提供了namedtuple有名元组，实现了同时支持使用序号和属性名访问。有名元组的属性来自类，因此并不与字典的键完全一样，但他们方便记忆："
   ]
  },
  {
   "cell_type": "code",
   "execution_count": 10,
   "metadata": {
    "ExecuteTime": {
     "end_time": "2020-09-08T08:30:55.212398Z",
     "start_time": "2020-09-08T08:30:55.207151Z"
    }
   },
   "outputs": [
    {
     "data": {
      "text/plain": [
       "tt(a='d', b='e', c='f')"
      ]
     },
     "execution_count": 10,
     "metadata": {},
     "output_type": "execute_result"
    }
   ],
   "source": [
    "from collections import namedtuple\n",
    "A = namedtuple('tt', ['a','b','c'])\n",
    "bon = A('d','e','f')\n",
    "bon"
   ]
  },
  {
   "cell_type": "code",
   "execution_count": 12,
   "metadata": {
    "ExecuteTime": {
     "end_time": "2020-09-08T08:34:16.559201Z",
     "start_time": "2020-09-08T08:34:16.553931Z"
    }
   },
   "outputs": [
    {
     "data": {
      "text/plain": [
       "'d'"
      ]
     },
     "execution_count": 12,
     "metadata": {},
     "output_type": "execute_result"
    }
   ],
   "source": [
    "# namedtuple的访问：\n",
    "A = namedtuple('tt', ['a','b','c'])\n",
    "bon = A('d','e','f')\n",
    "bon.a"
   ]
  },
  {
   "cell_type": "code",
   "execution_count": 16,
   "metadata": {
    "ExecuteTime": {
     "end_time": "2020-09-08T08:37:17.443567Z",
     "start_time": "2020-09-08T08:37:17.439353Z"
    }
   },
   "outputs": [
    {
     "data": {
      "text/plain": [
       "'d'"
      ]
     },
     "execution_count": 16,
     "metadata": {},
     "output_type": "execute_result"
    }
   ],
   "source": [
    "bon[0]"
   ]
  },
  {
   "cell_type": "code",
   "execution_count": 15,
   "metadata": {
    "ExecuteTime": {
     "end_time": "2020-09-08T08:36:59.035330Z",
     "start_time": "2020-09-08T08:36:59.030788Z"
    }
   },
   "outputs": [
    {
     "data": {
      "text/plain": [
       "OrderedDict([('a', 'd'), ('b', 'e'), ('c', 'f')])"
      ]
     },
     "execution_count": 15,
     "metadata": {},
     "output_type": "execute_result"
    }
   ],
   "source": [
    "bon._asdict()"
   ]
  },
  {
   "cell_type": "markdown",
   "metadata": {},
   "source": [
    "- Namedtuple比普通tuple具有更好的可读性，可以使代码更易于维护。同时与字典相比，又更加的轻量和高效。但是有一点需要注意，就是namedtuple中的属性都是不可变的。任何尝试改变其属性值的操作都是非法的。\n",
    "- Namedtuple还有一个非常好的一点是，它与tuple是完全兼容的。也就是说，我们依然可以用索引去访问一个namedtuple。"
   ]
  },
  {
   "cell_type": "markdown",
   "metadata": {},
   "source": [
    "#### 元组相关练习\n",
    "Python 的元组与列表类似，不同之处在于元组的元素不能修改，在前面的代码中我们已经不止一次使用过元组了。顾名思义，我们把多个元素组合到一起就形成了一个元组，所以它和列表一样可以保存多条数据。下面的代码演示了如何定义和使用元组。\n",
    "\n",
    "```Python\n",
    "def main():\n",
    "    # 定义元组\n",
    "    t = ('大飞', 38, True, '北京')\n",
    "    print(t)\n",
    "    # 获取元组中的元素\n",
    "    print(t[0])\n",
    "    print(t[3])\n",
    "    # 遍历元组中的值\n",
    "    for member in t:\n",
    "        print(member)\n",
    "    # 重新给元组赋值\n",
    "    # t[0] = '王大锤'  # TypeError\n",
    "    # 变量t重新引用了新的元组原来的元组将被垃圾回收\n",
    "    t = ('王大锤', 20, True, '云南昆明')\n",
    "    print(t)\n",
    "    # 将元组转换成列表\n",
    "    person = list(t)\n",
    "    print(person)\n",
    "    # 列表是可以修改它的元素的\n",
    "    person[0] = '李小龙'\n",
    "    person[1] = 25\n",
    "    print(person)\n",
    "    # 将列表转换成元组\n",
    "    fruits_list = ['apple', 'banana', 'orange']\n",
    "    fruits_tuple = tuple(fruits_list)\n",
    "    print(fruits_tuple)\n",
    "\n",
    "\n",
    "if __name__ == '__main__':\n",
    "    main()\n",
    "```"
   ]
  },
  {
   "cell_type": "markdown",
   "metadata": {
    "ExecuteTime": {
     "end_time": "2020-09-08T08:38:38.223893Z",
     "start_time": "2020-09-08T08:38:38.216009Z"
    }
   },
   "source": [
    "这里有一个非常值得探讨的问题，我们已经有了列表这种数据结构，为什么还需要元组这样的类型呢？\n",
    "\n",
    "1. 元组中的元素是无法修改的，事实上我们在项目中尤其是[多线程](https://zh.wikipedia.org/zh-hans/%E5%A4%9A%E7%BA%BF%E7%A8%8B)环境（后面会讲到）中可能更喜欢使用的是那些不变对象（一方面因为对象状态不能修改，所以可以避免由此引起的不必要的程序错误，简单的说就是一个不变的对象要比可变的对象更加容易维护；另一方面因为没有任何一个线程能够修改不变对象的内部状态，一个不变对象自动就是线程安全的，这样就可以省掉处理同步化的开销。一个不变对象可以方便的被共享访问）。所以结论就是：如果不需要对元素进行添加、删除、修改的时候，可以考虑使用元组，当然如果一个方法要返回多个值，使用元组也是不错的选择。\n",
    "2. 元组在创建时间和占用的空间上面都优于列表。我们可以使用sys模块的getsizeof函数来检查存储同样的元素的元组和列表各自占用了多少内存空间，这个很容易做到。我们也可以在ipython中使用魔法指令%timeit来分析创建同样内容的元组和列表所花费的时间。"
   ]
  },
  {
   "cell_type": "code",
   "execution_count": 20,
   "metadata": {
    "ExecuteTime": {
     "end_time": "2020-09-08T08:41:25.030540Z",
     "start_time": "2020-09-08T08:41:20.523768Z"
    }
   },
   "outputs": [
    {
     "name": "stdout",
     "output_type": "stream",
     "text": [
      "55.3 ns ± 0.0667 ns per loop (mean ± std. dev. of 7 runs, 10000000 loops each)\n"
     ]
    }
   ],
   "source": [
    "%timeit [1,2,3,4,5,6]"
   ]
  },
  {
   "cell_type": "code",
   "execution_count": 21,
   "metadata": {
    "ExecuteTime": {
     "end_time": "2020-09-08T08:41:31.421297Z",
     "start_time": "2020-09-08T08:41:25.032464Z"
    }
   },
   "outputs": [
    {
     "name": "stdout",
     "output_type": "stream",
     "text": [
      "7.87 ns ± 0.00348 ns per loop (mean ± std. dev. of 7 runs, 100000000 loops each)\n"
     ]
    }
   ],
   "source": [
    "%timeit (1,2,3,4,5,6)"
   ]
  },
  {
   "cell_type": "markdown",
   "metadata": {},
   "source": [
    "### 使用字典dict"
   ]
  },
  {
   "cell_type": "markdown",
   "metadata": {},
   "source": [
    "字典与列表最大的区别就是字典强调的是“键值对”，key与value一一对应，字典中的存放顺序并不重要，重要的是“键”和“值的对应关系”"
   ]
  },
  {
   "cell_type": "markdown",
   "metadata": {},
   "source": [
    "#### 字典的创建(字典中每一对数据都是“键”和“值”相对应的)"
   ]
  },
  {
   "cell_type": "markdown",
   "metadata": {},
   "source": [
    "##### 第一种\n",
    "> a = {key1:value1, key2:value2}\n",
    "##### 第二种\n",
    "> a = dict(key1=value1, key2=value2)  # 注意此种情况下键必须为字符串\n",
    "##### 第三种\n",
    "```\n",
    "a = {}\n",
    "a[key1] = value1  \n",
    "a[key2] = value2 \n",
    "```\n",
    "##### 第四种\n",
    "> a = dict([(key1, value1), (key2, value2)])\n",
    "\n",
    "> a = dict(zip([key1, key2], [value1, value2]))  # 衍生，使用zip函数把键列表和值列表打包成键值对一一对应的元组\n",
    "##### 第五种\n",
    "> a = dict.fromkeys([key1, key2], value)  # 这种情况适用于多个键对应相同值的情况\n",
    "##### 第六种\n",
    "> a = {x: x**2 for x in [1, 2, 3]}  # 字典推导表达式"
   ]
  },
  {
   "cell_type": "markdown",
   "metadata": {},
   "source": [
    "#### 字典的索引\n",
    "```\n",
    "dict1[key] \n",
    "#key是字典的键，返回的是对应的值value\n",
    "\n",
    "dict1.get(key)\n",
    "#get方法获取键的值，若键不存在，则返回设定的默认值default（默认为None）--与`[key]`获取值的区别是，get方法遇到键不存在的时候会返回设定值，而直接索引遇到键不存在时会报错“missing-key”\n",
    "```"
   ]
  },
  {
   "cell_type": "markdown",
   "metadata": {},
   "source": [
    "#### 字典的遍历\n",
    "```\n",
    "for i in dict1.keys():\n",
    "    print(i, dict1[keys])  # 遍历字典中所有的键，并输出键值对\n",
    "\n",
    "for i in dict1:  # 该方法与上述方法等价\n",
    "    ...\n",
    "\n",
    "for keys, values in dict1.items():  # 遍历字典中所有的键值对\n",
    "    ...\n",
    "```"
   ]
  },
  {
   "cell_type": "markdown",
   "metadata": {},
   "source": [
    "#### 字典的排序\n",
    "\n",
    "##### 对字典的排序有两种方法：\n",
    "\n",
    "1. 借助.keys()方法和list()函数将键提取成list，对list排序后输出\n"
   ]
  },
  {
   "cell_type": "code",
   "execution_count": null,
   "metadata": {},
   "outputs": [],
   "source": [
    "\n",
    "D = {'a':1, 'c':3, 'b':2}\n",
    "D1 = list(D.keys())\n",
    "D1.sort()\n",
    "for i in D1: \n",
    "    print(i, D[i])\n",
    "\n",
    "# 输出：\n",
    "# a 1\n",
    "# b 2\n",
    "# c 3\n"
   ]
  },
  {
   "cell_type": "markdown",
   "metadata": {},
   "source": [
    "\n",
    "2. 借助内置的sorted()函数可对任意对象类型排序，返回排序后的结果\n",
    "\n",
    "    - tips:对于sorted（字典）来说，返回的是排序好的keys（以list的形式）\n"
   ]
  },
  {
   "cell_type": "code",
   "execution_count": 73,
   "metadata": {
    "ExecuteTime": {
     "end_time": "2020-09-10T08:02:21.825901Z",
     "start_time": "2020-09-10T08:02:21.820776Z"
    }
   },
   "outputs": [
    {
     "name": "stdout",
     "output_type": "stream",
     "text": [
      "a 1\n",
      "b 2\n",
      "c 3\n"
     ]
    }
   ],
   "source": [
    "D = {'a':1, 'c':3, 'b':2}\n",
    "for i in sorted(D):\n",
    "    print(i, D[i])"
   ]
  },
  {
   "cell_type": "code",
   "execution_count": 75,
   "metadata": {
    "ExecuteTime": {
     "end_time": "2020-09-10T08:04:40.307183Z",
     "start_time": "2020-09-10T08:04:40.302760Z"
    }
   },
   "outputs": [
    {
     "data": {
      "text/plain": [
       "dict_items([('a', 1), ('c', 3), ('b', 2)])"
      ]
     },
     "execution_count": 75,
     "metadata": {},
     "output_type": "execute_result"
    }
   ],
   "source": [
    "D.items()"
   ]
  },
  {
   "cell_type": "code",
   "execution_count": 76,
   "metadata": {
    "ExecuteTime": {
     "end_time": "2020-09-10T08:05:32.925485Z",
     "start_time": "2020-09-10T08:05:32.920712Z"
    }
   },
   "outputs": [
    {
     "data": {
      "text/plain": [
       "[('a', 1), ('b', 2), ('c', 3)]"
      ]
     },
     "execution_count": 76,
     "metadata": {},
     "output_type": "execute_result"
    }
   ],
   "source": [
    "sorted(D.items(), key= lambda x:x[0])"
   ]
  },
  {
   "cell_type": "markdown",
   "metadata": {},
   "source": [
    "里面三个参数\n",
    "\n",
    "dict.items() #可迭代元素。\n",
    "\n",
    "key= lambda d:d[0]#d[0]表示按键，d[1]表示按值。\n",
    "\n",
    "reverse#默认是False，升序排列。当值为True时是降序排列。\n",
    "\n",
    "返回的是一个列表，列表中是排列后的元组。"
   ]
  },
  {
   "cell_type": "code",
   "execution_count": 72,
   "metadata": {
    "ExecuteTime": {
     "end_time": "2020-09-10T08:00:49.514319Z",
     "start_time": "2020-09-10T08:00:49.510263Z"
    }
   },
   "outputs": [
    {
     "name": "stdout",
     "output_type": "stream",
     "text": [
      "['a', 'Andrew', 'from', 'is', 'string', 'test', 'This']\n"
     ]
    }
   ],
   "source": [
    "print(sorted(\"This is a test string from Andrew\".split(), key=str.lower))"
   ]
  },
  {
   "cell_type": "markdown",
   "metadata": {},
   "source": [
    "sorted(字典.items(), key=lambda x:x[0])\t# 按照字典的k进行排序，返回由(k,v)构成的列表\t# sorted(字典.items()) 默认就是按照字典的k进行排序\t# key=lambda x:x[0] 表示按照x[0]进行排序\t# x是sorted第一个参数返回的可迭代对象的每一个(k,v)\t# x[0]就是元祖中的第一个值，也就是字典的k\n",
    "\n",
    "1、基础的序列升序排序直接调用sorted()方法即可\n",
    "需要注意：sort()方法仅定义在list中，而sorted()方法对所有的可迭代序列都有效\n",
    "\n",
    "2、使用cmp函数排序，cmp是带两个参数的比较函数\n",
    "list1 = [('david', 90), ('mary',90), ('sara',80),('lily',95)]\n",
    "\n",
    "print(sorted(list1,cmp =lambdax,y: cmp(x[0],y[0])))#按照第一个位置的字母序排序\n",
    "\n",
    "print(sorted(list1,cmp =lambdax,y: cmp(x[1],y[1])))#按照第二个位置的数字序排序\n",
    "\n",
    "3、添加key参数，key 是带一个参数的函数\n",
    "list.sort()和sorted()函数使用key参数来指定一个函数，此函数将在每个元素比较前被调用。\n",
    "\n",
    "例如通过key指定的函数来忽略字符串的大小写\n",
    "\n",
    "print(sorted(\"This is a test string from Andrew\".split(), key=str.lower))\n",
    "\n",
    " 4、用reverse排序\n",
    "\n",
    "print(sorted(list1,reverse = True))#逆转\n",
    "\n",
    "5、argsort()函数，是numpy库中的函数\n",
    "\n",
    "argsort函数\n",
    "\n",
    "argsort函数返回的是数组值从小到大的索引值\n"
   ]
  },
  {
   "cell_type": "markdown",
   "metadata": {},
   "source": [
    "#### 字典的常用操作\n",
    "\n",
    "| 操作 | 解释 | \n",
    "| :--------------------- | :------------------------------------------------------------ | \n",
    "| .keys() | （方法）获取所有键 | \n",
    "| .values() | （方法）获取所有值 | \n",
    "| .items() | （方法）获取所有“键+值”元组 | \n",
    "| len() | 获取键值对的数量 | \n",
    "| .get(key, default) | （方法）获取键的值，若键不存在，则返回设定的默认值default（默认为None）--与[key]获取值的区别是，get方法遇到键不存在的时候会返回设定值，而直接索引遇到键不存在时会报错“missing-key” | \n",
    "| dict1.update(dict2) | （方法）合并两个字典 |"
   ]
  },
  {
   "cell_type": "markdown",
   "metadata": {},
   "source": [
    "#### 字典相关练习\n",
    "字典是另一种可变容器模型，类似于我们生活中使用的字典，它可以存储任意类型对象，与列表、集合不同的是，字典的每个元素都是由一个键和一个值组成的“键值对”，键和值通过冒号分开。下面的代码演示了如何定义和使用字典。\n"
   ]
  },
  {
   "cell_type": "code",
   "execution_count": 7,
   "metadata": {
    "ExecuteTime": {
     "end_time": "2020-09-19T12:53:33.489992Z",
     "start_time": "2020-09-19T12:53:33.482245Z"
    }
   },
   "outputs": [
    {
     "name": "stdout",
     "output_type": "stream",
     "text": [
      "95\n",
      "82\n",
      "张三\t--->\t95\n",
      "白元芳\t--->\t78\n",
      "狄仁杰\t--->\t82\n",
      "{'张三': 95, '白元芳': 65, '狄仁杰': 82, '诸葛王朗': 71, '冷面': 67, '方启鹤': 85}\n",
      "None\n",
      "60\n",
      "('方启鹤', 85)\n",
      "('冷面', 67)\n",
      "95\n",
      "{}\n"
     ]
    }
   ],
   "source": [
    "def main():\n",
    "    scores = {'张三': 95, '白元芳': 78, '狄仁杰': 82}\n",
    "    # 通过键可以获取字典中对应的值\n",
    "    print(scores['张三'])\n",
    "    print(scores['狄仁杰'])\n",
    "    # 对字典进行遍历(遍历的其实是键再通过键取对应的值)\n",
    "    for elem in scores:\n",
    "        print('%s\\t--->\\t%d' % (elem, scores[elem]))\n",
    "    # 更新字典中的元素\n",
    "    scores['白元芳'] = 65\n",
    "    scores['诸葛王朗'] = 71\n",
    "    scores.update(冷面=67, 方启鹤=85)\n",
    "    print(scores)\n",
    "    if '武则天' in scores:\n",
    "        print(scores['武则天'])\n",
    "    print(scores.get('武则天'))\n",
    "    # get方法也是通过键获取对应的值但是可以设置默认值\n",
    "    print(scores.get('武则天', 60))\n",
    "    # 删除字典中的元素\n",
    "    print(scores.popitem())\n",
    "    print(scores.popitem())\n",
    "    print(scores.pop('张三', 100))\n",
    "    # 清空字典\n",
    "    scores.clear()\n",
    "    print(scores)\n",
    "\n",
    "\n",
    "if __name__ == '__main__':\n",
    "    main()"
   ]
  },
  {
   "cell_type": "markdown",
   "metadata": {},
   "source": [
    "### 使用集合set\n",
    "\n",
    "Python中的集合类似于数学中的集合概念，它是一组无序、不可重复数据的组合。集合用{ ...}创建，某种程度上可以把集合看作是没有值的字典。\n"
   ]
  },
  {
   "cell_type": "markdown",
   "metadata": {},
   "source": [
    "#### 集合的创建\n",
    "```\n",
    "s = {'s', 'e', 't'}\n",
    "s = set(['a, b, c, d, e'])\n",
    "\n",
    "#注意，python中{}为空字典类型，并非空集合。空集合需要用set()函数创建\n",
    "s = set()  #创建一个空集合\n",
    "\n",
    "#集合也可以用表达式（推导）的方式创建\n",
    "{x * 2 for x in 'abc'}  #{'aa', 'bb', 'cc} \n",
    "{x **2 for x in range(1,5)}   #{1, 4, 9, 16}\n",
    "```"
   ]
  },
  {
   "cell_type": "markdown",
   "metadata": {},
   "source": [
    "#### 集合的常用操作\n",
    "```\n",
    "set1 `&` set2 #交运算\n",
    "set1 `|` set2 #并运算\n",
    "set1 `-` set2 #差运算，set1减去set1 `&` set2部分\n",
    "```"
   ]
  },
  {
   "cell_type": "markdown",
   "metadata": {},
   "source": [
    "#### 集合的常用方法\n",
    "```\n",
    "set1.add('x')  #添加元素。注意：集合中只能包含可哈希的对象，即list，dict都不能嵌入到集合中\n",
    "set1.union(...)  #取并集，效果等同于 | ,但是括号里可以是list，tuple，其他dict甚至是dict\n",
    "set1.intersection(...)  #取交集，同上\n",
    "set1.issubset(set2)  #判断set1是否是set2的子集\n",
    "```"
   ]
  },
  {
   "cell_type": "markdown",
   "metadata": {},
   "source": [
    "#### 集合的不可变性与frozenset\n",
    "\n",
    "注意：集合只能包含不可变的（可哈希化的）对象类型。因此，列表和字典甚至另一个集合都不能作为集合的元素，但是元组可以（因为元组是不可变的）。\n",
    "\n",
    "由于集合本身是可变的，因此，要想在一个集合中嵌入另一个集合，需要用frozenset创建一个不可变的集合。\n",
    "```\n",
    "a = frozenset([1, 2, 3])\n",
    "b = set([1, 2, a])    #b为{frozenset({1, 2, 3}), 1, 2}\n",
    "```"
   ]
  },
  {
   "cell_type": "markdown",
   "metadata": {},
   "source": [
    "#### 为什么使用集合？\n",
    "\n",
    "- 由于集合内元素是不重复的，因此可以将list或其他类型的数据转换成集合，从而过滤掉其中的重复元素\n",
    "- 通过集合的交并补等操作，可以比较列表、字符串以及其他可迭代对象的差异。"
   ]
  },
  {
   "cell_type": "markdown",
   "metadata": {},
   "source": [
    "#### 集合相关练习\n",
    "Python中的集合跟数学上的集合是一致的，不允许有重复元素，而且可以进行交集、并集、差集等运算。\n",
    "\n",
    "![](./img/set.png)\n",
    "\n",
    "```Python\n",
    "def main():\n",
    "    set1 = {1, 2, 3, 3, 3, 2}\n",
    "    print(set1)\n",
    "    print('Length =', len(set1))\n",
    "    set2 = set(range(1, 10))\n",
    "    print(set2)\n",
    "    set1.add(4)\n",
    "    set1.add(5)\n",
    "    set2.update([11, 12])\n",
    "    print(set1)\n",
    "    print(set2)\n",
    "    set2.discard(5)\n",
    "    # remove的元素如果不存在会引发KeyError\n",
    "    if 4 in set2:\n",
    "        set2.remove(4)\n",
    "    print(set2)\n",
    "    # 遍历集合容器\n",
    "    for elem in set2:\n",
    "        print(elem ** 2, end=' ')\n",
    "    print()\n",
    "    # 将元组转换成集合\n",
    "    set3 = set((1, 2, 3, 3, 2, 1))\n",
    "    print(set3.pop())\n",
    "    print(set3)\n",
    "    # 集合的交集、并集、差集、对称差运算\n",
    "    print(set1 & set2)\n",
    "    # print(set1.intersection(set2))\n",
    "    print(set1 | set2)\n",
    "    # print(set1.union(set2))\n",
    "    print(set1 - set2)\n",
    "    # print(set1.difference(set2))\n",
    "    print(set1 ^ set2)\n",
    "    # print(set1.symmetric_difference(set2))\n",
    "    # 判断子集和超集\n",
    "    print(set2 <= set1)\n",
    "    # print(set2.issubset(set1))\n",
    "    print(set3 <= set1)\n",
    "    # print(set3.issubset(set1))\n",
    "    print(set1 >= set2)\n",
    "    # print(set1.issuperset(set2))\n",
    "    print(set1 >= set3)\n",
    "    # print(set1.issuperset(set3))\n",
    "\n",
    "\n",
    "if __name__ == '__main__':\n",
    "    main()\n",
    "```\n",
    "\n",
    "> **说明：** Python中允许通过一些特殊的方法来为某种类型或数据结构自定义运算符（后面的章节中会讲到），上面的代码中我们对集合进行运算的时候可以调用集合对象的方法，也可以直接使用对应的运算符，例如`&`运算符跟intersection方法的作用就是一样的，但是使用运算符让代码更加直观。"
   ]
  },
  {
   "cell_type": "markdown",
   "metadata": {},
   "source": [
    "### 数据类型转换"
   ]
  },
  {
   "cell_type": "markdown",
   "metadata": {},
   "source": [
    "#### list转str\n",
    "假设有一个名为test_list的list，转换后的str名为test_str\n",
    "\n",
    "则转换方法：\n",
    "\n",
    "test_str = \"\".join(test_list)"
   ]
  },
  {
   "cell_type": "code",
   "execution_count": 55,
   "metadata": {
    "ExecuteTime": {
     "end_time": "2020-09-09T06:46:06.970192Z",
     "start_time": "2020-09-09T06:46:06.964448Z"
    }
   },
   "outputs": [
    {
     "data": {
      "text/plain": [
       "'中国-北京-海淀'"
      ]
     },
     "execution_count": 55,
     "metadata": {},
     "output_type": "execute_result"
    }
   ],
   "source": [
    "test_list = ['中国', '北京', '海淀']\n",
    "test_str = \"-\".join(test_list)\n",
    "test_str"
   ]
  },
  {
   "cell_type": "code",
   "execution_count": 58,
   "metadata": {
    "ExecuteTime": {
     "end_time": "2020-09-09T06:47:41.471553Z",
     "start_time": "2020-09-09T06:47:41.466401Z"
    }
   },
   "outputs": [
    {
     "data": {
      "text/plain": [
       "'123'"
      ]
     },
     "execution_count": 58,
     "metadata": {},
     "output_type": "execute_result"
    }
   ],
   "source": [
    "#需要注意的是该方法需要list中的元素为字符型，若是整型，则需要先转换为字符型后再转为str类型。\n",
    "test_list = [1,2,3]\n",
    "test_str = ''.join([str(i) for i in test_list])\n",
    "test_str"
   ]
  },
  {
   "cell_type": "markdown",
   "metadata": {},
   "source": [
    "#### str转list\n",
    "\n",
    "假设有一个名为test_str的str，转换后的list名为test_list\n",
    "\n",
    "则转换方法：\n",
    "\n",
    "test_list=list(test_str)"
   ]
  },
  {
   "cell_type": "code",
   "execution_count": 59,
   "metadata": {
    "ExecuteTime": {
     "end_time": "2020-09-09T06:50:40.138730Z",
     "start_time": "2020-09-09T06:50:40.134572Z"
    }
   },
   "outputs": [
    {
     "data": {
      "text/plain": [
       "['1', '2', '3']"
      ]
     },
     "execution_count": 59,
     "metadata": {},
     "output_type": "execute_result"
    }
   ],
   "source": [
    "test_str = '123'\n",
    "list(test_str)"
   ]
  },
  {
   "cell_type": "markdown",
   "metadata": {},
   "source": [
    "#### 其他数据类型之间的转换\n",
    "##### 这些函数返回一个新的对象，表示转换的值。\n",
    "| 函数 | \t描述 |\n",
    "| :-------: | :-------|\n",
    "| int(x [,base]) | 将x转换为一个整数 | \n",
    "| float(x) | 将x转换到一个浮点数 | \n",
    "| complex(real [,imag]) | 创建一个复数 | \n",
    "| str(x) | 将对象 x 转换为字符串 | \n",
    "| repr(x) | 将对象 x 转换为表达式字符串 | \n",
    "| eval(str) | 用来计算在字符串中的有效Python表达式,并返回一个对象 | \n",
    "| tuple(s) | 将序列 s 转换为一个元组 | \n",
    "| list(s) | 将序列 s 转换为一个列表 | \n",
    "| set(s) | 转换为可变集合 | \n",
    "| dict(d) | 创建一个字典。d 必须是一个序列 (key,value)元组。 | \n",
    "| frozenset(s) | 转换为不可变集合 | \n",
    "| chr(x) | 将一个整数转换为一个字符 | \n",
    "| unichr(x) | 将一个整数转换为Unicode字符 | \n",
    "| ord(x) | 将一个字符转换为它的整数值 | \n",
    "| hex(x) | 将一个整数转换为一个十六进制字符串 | \n",
    "| oct(x) | 将一个整数转换为一个八进制字符串 | "
   ]
  },
  {
   "cell_type": "markdown",
   "metadata": {},
   "source": [
    "##### 基本数据类型\n",
    "- 虽然python中的变量不需要声明，但使用时必须赋值\n",
    "    1. 整形变量\n",
    "    2. 浮点型变量\n",
    "    3. 字符型\n",
    "- 可以一个给多个变量赋值，也可以多个给多个变量赋值\n",
    "- python3中有6个标准数据类型\n",
    "    - Number(数字)\n",
    "        - True=1\n",
    "        - False=0\n",
    "        - 数值的除法（/）总是返回一个浮点数，要获取整数使用//操作符\n",
    "        - 在混合计算时，python会把整形转换为浮点数\n",
    "    - String(字符串)\n",
    "        - 字符串用'或\"括起来，同时使用\\转义特殊字符串\n",
    "        - 如果不想让反斜杠发生转义，可以在字符串前面加个r表示原始字符串\n",
    "        - 索引值以0为开始，-1为末尾的开始位置\n",
    "        - 加号+是字符串的连接符，星号*表示复制当前的字符串，紧跟的数字为复制的次数\n",
    "    - List(列表)\n",
    "        - list写在方括号之间，元素用逗号隔开\n",
    "        - 和字符串一样，list可以被索引和切片\n",
    "        - list可以使用+操作符进行连接\n",
    "        - list中的元素可以改变的\n",
    "    - Tuple(元组)\n",
    "        - 元组与列表类似，不同之处在于元组的元素不能修改，元组写在小括号里。元素之间用逗号隔开\n",
    "        - 元组也可以被索引和切片，方法一样\n",
    "        - 注意构造包含0或1个元素的元组的特殊语法规则\n",
    "        - 元组也可以用+操作符进行拼接\n",
    "    - Sets(集合)\n",
    "        - set是一个无需不重复的序列，基本功能是进行成员关系的测试和删除重复元素\n",
    "    - Dictionary(字典)\n",
    "        - 字典是一种映射类型，字典用{}标识，它是一个无序的建(key):值(value)对集合\n",
    "        - 建(key)必须使用不可变类型。在同一个字典中建(key)必须是唯一的\n",
    "        - 创建空字典使用{}\n",
    "- 类型之间的转换\n",
    "    - int(x,base=10)x字符串或数字，base进制数，默认十进制 浮点转为整数\n",
    "    - float 整数转换为浮点型\n",
    "    - complex(1,2) 转换为复数\n",
    "    - str(10)将对象转换为字符串\n",
    "    - repe()将对象转换为表达式字符串\n",
    "    - repr(dict)将对象转换为表达式字符串\n",
    "    - eval(str)用来计算在字符串中有效的python表达式，返回一个对象\n",
    "    - tuple(listi)将列表转化为元组\n",
    "    - list()将元组转换为列表\n",
    "    - set转换集合\n"
   ]
  },
  {
   "cell_type": "markdown",
   "metadata": {},
   "source": [
    "Python 解释器内置了很多函数和类型，您可以在任何时候使用它们。\n",
    "内置函数https://docs.python.org/zh-cn/3.8/library/functions.html"
   ]
  },
  {
   "cell_type": "markdown",
   "metadata": {},
   "source": [
    "# Python的引用"
   ]
  },
  {
   "cell_type": "markdown",
   "metadata": {},
   "source": [
    "## python 的赋值是引用"
   ]
  },
  {
   "cell_type": "markdown",
   "metadata": {},
   "source": [
    "python 的 一切都是对象\n",
    "\n",
    "python 是 高度面向对象特性，所以实际上Python里面的任何元素都是一种对象。考虑一下如下代码："
   ]
  },
  {
   "cell_type": "code",
   "execution_count": 69,
   "metadata": {
    "ExecuteTime": {
     "end_time": "2020-09-10T07:42:06.963367Z",
     "start_time": "2020-09-10T07:42:06.959942Z"
    }
   },
   "outputs": [
    {
     "name": "stdout",
     "output_type": "stream",
     "text": [
      "300\n"
     ]
    }
   ],
   "source": [
    "print(300)"
   ]
  },
  {
   "cell_type": "markdown",
   "metadata": {},
   "source": [
    "这个代码会做三件事情\n",
    "\n",
    "1. 生成一个int对象\n",
    "\n",
    "2. 把300的值赋给int对象\n",
    "\n",
    "3. 在console里面打印300\n",
    "\n",
    "可以从如下代码里面看出300为int的实例"
   ]
  },
  {
   "cell_type": "code",
   "execution_count": 71,
   "metadata": {
    "ExecuteTime": {
     "end_time": "2020-09-10T07:50:50.582048Z",
     "start_time": "2020-09-10T07:50:50.577973Z"
    }
   },
   "outputs": [
    {
     "data": {
      "text/plain": [
       "int"
      ]
     },
     "execution_count": 71,
     "metadata": {},
     "output_type": "execute_result"
    }
   ],
   "source": [
    "type(300)"
   ]
  },
  {
   "cell_type": "markdown",
   "metadata": {},
   "source": [
    "python的变量是一个符号，是实例的引用"
   ]
  },
  {
   "cell_type": "markdown",
   "metadata": {},
   "source": [
    "变量赋值给变量，也是传引用"
   ]
  },
  {
   "cell_type": "markdown",
   "metadata": {},
   "source": [
    "如果重新给m赋值，那么m会把自己的指针指向新实例\n",
    "\n",
    "如果n再重新赋值，那么会没有变量指向实例300"
   ]
  },
  {
   "cell_type": "markdown",
   "metadata": {},
   "source": [
    "1. python不允许程序员选择采用传值还是传引用。Python参数传递采用的肯定是“传对象引用”的方式。实际上，这种方式相当于传值和传引用的一种综合。如果函数收到的是一个可变对象（比如字典或者列表）的引用，就能修改对象的原始值——相当于通过“传引用”来传递对象。如果函数收到的是一个不可变对象（比如数字、字符或者元组）的引用，就不能直接修改原始对象——相当于通过“传值'来传递对象。\n",
    "\n",
    "2. 当人们复制列表或字典时，就复制了对象列表的引用同，如果改变引用的值，则修改了原始的参数。\n",
    "\n",
    "3. 为了简化内存管理，Python通过引用计数机制实现自动垃圾回收功能，Python中的每个对象都有一个引用计数，用来计数该对象在不同场所分别被引用了多少次。每当引用一次Python对象，相应的引用计数就增1，每当消毁一次Python对象，则相应的引用就减1，只有当引用计数为零时，才真正从内存中删除Python对象。"
   ]
  },
  {
   "cell_type": "markdown",
   "metadata": {},
   "source": [
    "## Python中的值类型与引用类型"
   ]
  },
  {
   "cell_type": "markdown",
   "metadata": {},
   "source": [
    "其实各个标准资料中没有说明Python有值类型和引用类型的分类，这个分类一般是C++和Java中的。但是语言是相通的，所以Python肯定也有类似的。实际上Python 的变量是没有类型的，这与以往看到的大部分语言都不一样（JS等弱类型的也是这样）。但 Python 却是区分类型的，那类型在哪里呢？事实是，类型是跟着内存中的对象走的。类型属于对象，变量是没有类型的。一般也分实参和形参。"
   ]
  },
  {
   "cell_type": "markdown",
   "metadata": {},
   "source": [
    "### 变量\n",
    "Python中的变量都是指针，这确实和之前学过的强类型语言是有不同的。因为变量是指针，所以所有的变量无类型限制，可以指向任意对象。指针的内存空间大小是与类型无关的，其内存空间只是保存了所指向数据的内存地址。\n",
    "\n",
    "Python 的所有变量其实都是指向内存中的对象的一个指针，所有的变量都是！此外，对象还分两类：一类是可修改的，一类是不可修改的。我的理解是把可修改(mutable)的类型叫做引用类型，不可修改(immutable)类型叫做值类型。\n",
    "\n",
    "### 对象\n",
    "对象=确定内存空间+存储在这块内存空间中的值。\n",
    "\n",
    "Java中，对象是分配在堆上的，存储真正的数据，而引用是在栈中开辟的内存空间用于引用某一个对象（值类型的变量也是存储到栈上）。\n",
    "\n",
    "### 值类型\n",
    "在Python中，数值（整型，浮点型），布尔型，字符串，元组属于值类型，本身不允许被修改（不可变类型），数值的修改实际上是让变量指向了一个新的对象（新创建的对象），所以不会发生共享内存问题。 这种方式同Java的不可变对象（String）实现方式相同。原始对象被Python的GC回收。"
   ]
  },
  {
   "cell_type": "code",
   "execution_count": null,
   "metadata": {},
   "outputs": [],
   "source": [
    "a = 1\n",
    "b = a\n",
    "a = 2\n",
    "print(b)  #输出的结果是1"
   ]
  },
  {
   "cell_type": "markdown",
   "metadata": {},
   "source": [
    "修改值类型的值，只是让它指向一个新的内存地址，并不会改变变量b的值"
   ]
  },
  {
   "cell_type": "code",
   "execution_count": 61,
   "metadata": {
    "ExecuteTime": {
     "end_time": "2020-09-10T06:08:25.471639Z",
     "start_time": "2020-09-10T06:08:25.465822Z"
    }
   },
   "outputs": [
    {
     "name": "stdout",
     "output_type": "stream",
     "text": [
      "94877546771200\n",
      "94877546771200\n",
      "94877546771232 94877546771232\n",
      "94877546771232 94877546771232\n",
      "94877546771296\n"
     ]
    }
   ],
   "source": [
    "x = 1\n",
    "print(id(x))\n",
    "y = 1\n",
    "print(id(y))\n",
    "x = 2\n",
    "y = 2\n",
    "print(id(x), id(y))\n",
    "z = y\n",
    "print(id(y), id(z))\n",
    "x += 2\n",
    "print(id(x))"
   ]
  },
  {
   "cell_type": "markdown",
   "metadata": {},
   "source": [
    "- 类似于Java的字符串常量池。\n",
    "\n",
    "    1. Python在底层做了一定的优化，对于使用过小整数以及短字符串都会被缓存起来。所以上述b引用的应该是被缓存过的3\n",
    "    2. 之所以采用这种优化的方式，是因为python中数字和字符串一经创建都是不可修改的。所以不会出现，因使用了缓存的对象值造成“脏读”的问题"
   ]
  },
  {
   "cell_type": "markdown",
   "metadata": {},
   "source": [
    "### 引用类型\n",
    "在Python中，列表，集合，字典是引用类型，本身允许修改（可变类型）。\n"
   ]
  },
  {
   "cell_type": "code",
   "execution_count": 63,
   "metadata": {
    "ExecuteTime": {
     "end_time": "2020-09-10T06:10:49.810337Z",
     "start_time": "2020-09-10T06:10:49.805749Z"
    }
   },
   "outputs": [
    {
     "name": "stdout",
     "output_type": "stream",
     "text": [
      "140708389416464 140708389416464\n",
      "[3, 2]\n"
     ]
    }
   ],
   "source": [
    "list_a = [1,2]\n",
    "list_b = list_a\n",
    "print(id(list_a), id(list_b))\n",
    "list_a[0] = 3\n",
    "print(list_b)  #此时的输出结果是[3,2]"
   ]
  },
  {
   "cell_type": "markdown",
   "metadata": {},
   "source": [
    "修改引用类型的值，因为list_b的地址和list_a的一致，所以也会被修改\n",
    "\n",
    "一般只为了复制值，可以使用分片操作。还可以使用拷贝操作"
   ]
  },
  {
   "cell_type": "code",
   "execution_count": 65,
   "metadata": {
    "ExecuteTime": {
     "end_time": "2020-09-10T06:12:49.264802Z",
     "start_time": "2020-09-10T06:12:49.259492Z"
    }
   },
   "outputs": [
    {
     "name": "stdout",
     "output_type": "stream",
     "text": [
      "140708430177056\n",
      "140708581065184\n",
      "140708581065184\n",
      "140708581065184\n",
      "[1, 2, 3, 4, 2]\n"
     ]
    }
   ],
   "source": [
    "a = [1, 2, 3]\n",
    "print(id(a))\n",
    "a = [1, 2, 3]\n",
    "print(id(a))\n",
    "a.append(4)\n",
    "print(id(a))\n",
    "a += [2]\n",
    "print(id(a))\n",
    "print(a)"
   ]
  },
  {
   "cell_type": "markdown",
   "metadata": {},
   "source": [
    "从上面的程序中可以看出，进行两次a = [1, 2, 3]操作，两次a引用的地址值是不同的，也就是说其实创建了两个不同的对象，这一点明显不同于不可变数据类型，所以对于可变数据类型来说，具有同样值的对象是不同的对象，即在内存中保存了多个同样值的对象，地址值不同。接着来看后面的操作，我们对列表进行添加操作，分别a.append(4)和a += [2]，发现这两个操作使得a引用的对象值变成了上面的最终结果，但是a引用的地址依旧是41575088，也就是说对a进行的操作不会改变a引用的地址值，只是在地址后面又扩充了新的地址，改变了地址里面存放的值，所以可变数据类型的意思就是说对一个变量进行操作时，其值是可变的，值的变化并不会引起新建对象，即地址是不会变的，只是地址中的内容变化了或者地址得到了扩充。"
   ]
  },
  {
   "cell_type": "markdown",
   "metadata": {},
   "source": [
    "可变数据类型是允许同一对象的内容，即值可以变化，但是地址是不会变化的。但是需要注意一点，对可变数据类型的操作不能是直接进行新的赋值操作，比如说a = [1, 2, 3, 4, 5, 6, 7]，这样的操作就不是改变值了，而是新建了一个新的对象，这里的可变只是对于类似于append、+=等这种操作。"
   ]
  },
  {
   "cell_type": "markdown",
   "metadata": {},
   "source": [
    "python中的不可变数据类型，不允许变量的值发生变化，如果改变了变量的值，相当于是新建了一个对象，而对于相同的值的对象，在内存中则只有一个对象，内部会有一个引用计数来记录有多少个变量引用这个对象；可变数据类型，允许变量的值发生变化，即如果对变量进行append、+=等这种操作后，只是改变了变量的值，而不会新建一个对象，变量引用的对象的地址也不会变化，不过对于相同的值的不同对象，在内存中则会存在不同的对象，即每个对象都有自己的地址，相当于内存中对于同值的对象保存了多份，这里不存在引用计数，是实实在在的对象。"
   ]
  },
  {
   "cell_type": "markdown",
   "metadata": {},
   "source": [
    "### 可变类型导致的性能问题"
   ]
  },
  {
   "cell_type": "code",
   "execution_count": 11,
   "metadata": {
    "ExecuteTime": {
     "end_time": "2020-09-20T03:25:00.451539Z",
     "start_time": "2020-09-20T03:25:00.447044Z"
    }
   },
   "outputs": [
    {
     "data": {
      "text/plain": [
       "'你好还是不好'"
      ]
     },
     "execution_count": 11,
     "metadata": {},
     "output_type": "execute_result"
    }
   ],
   "source": [
    "# 拼接字符串问题\n",
    "container = ['你好', '还是', '不好']\n",
    "string_build = \"\"\n",
    "for data in container:\n",
    "    string_build += str(data)\n",
    "string_build"
   ]
  },
  {
   "cell_type": "markdown",
   "metadata": {},
   "source": [
    "实际上，这段代码效率是非常低下的，字符串是不可变对象类型，当拼接两个字符串的时候，会创建第三个字符串，迭代次数过多或者数据量很大的字符串合并，就会在创建第三个字符串的时候浪费掉很多的内存空间，不仅如此，在迭代最后一次，为最后的结果还会开辟更大的空间来存储，实在是太浪费。因为str是不可变类型。"
   ]
  },
  {
   "cell_type": "code",
   "execution_count": null,
   "metadata": {},
   "outputs": [],
   "source": [
    "builder_list = []\n",
    "for data in container:\n",
    "    builder_list.append(str(data))\n",
    "\"\".join(builder_list)\n",
    " \n",
    "### 另一种使用list实现的方法\n",
    "\"\".join([str(data) for data in container])\n",
    " \n",
    "### 或者使用map函数\n",
    "\"\".join(map(str, container))"
   ]
  },
  {
   "cell_type": "markdown",
   "metadata": {},
   "source": [
    "上面的代码，就充分利用了可变对象特点，当数据要更新的时候，不开辟新的空间，而是在原先的空间上增加，大大减少了空间的使用，提高了代码执行的效率。"
   ]
  },
  {
   "cell_type": "markdown",
   "metadata": {},
   "source": [
    "### 引用和拷贝（references and copies）\n",
    "当程序中使用=赋值操作符时，例如a=b，\n",
    "\n",
    "对于不可变的对象，a作为b的一个拷贝被创建，a和b将指向不同的内存地址，a和b相互独立。"
   ]
  },
  {
   "cell_type": "code",
   "execution_count": null,
   "metadata": {},
   "outputs": [],
   "source": [
    "def TestCopy():\n",
    "    a = 10\n",
    "    b = a\n",
    "    a =20\n",
    "    print (b) #b still is 10"
   ]
  },
  {
   "cell_type": "markdown",
   "metadata": {},
   "source": [
    "但是对于可变的对象，a作为b的一个引用被创建，a和b的元素公用相同的内存地址，a和b的元素共享。"
   ]
  },
  {
   "cell_type": "code",
   "execution_count": null,
   "metadata": {},
   "outputs": [],
   "source": [
    "def TestRef():\n",
    "    a=[1,2,3,4]\n",
    "    b=a   #b is a reference to a\n",
    "    print (b is a) # True\n",
    "    b[2] = -100 #change an element in b\n",
    "    print (a) # a also changed to [1,2,-100,4]"
   ]
  },
  {
   "cell_type": "markdown",
   "metadata": {},
   "source": [
    "### 深拷贝和浅拷贝（shallow copy and deep copy）\n",
    "http://www.pythontutor.com/live.html#mode=edit\n",
    "\n",
    "为了避免可变对象指向同一个对象，必须创建一个新的拷贝，而不是引用。\n",
    "\n",
    "在python中可以对容器对象（例如lists和dictionaries）使用两种拷贝：浅拷贝和深拷贝。\n",
    " \n",
    "浅拷贝创建一个新的对象，但是使用原来对象的元素的引用（如果是不变类型，相当于是拷贝）来填充新对象。可以使用copy.copy()来实现浅拷贝。"
   ]
  },
  {
   "cell_type": "code",
   "execution_count": null,
   "metadata": {},
   "outputs": [],
   "source": [
    "import copy\n",
    "a = [1, [2, 2], 3]\n",
    "c = copy.deepcopy(a)\n",
    "print(id(a))\n",
    "print(id(c))\n",
    "print(id(a) == id(c))\n",
    "c[1][0] = 1\n",
    "print(a, c)"
   ]
  },
  {
   "cell_type": "code",
   "execution_count": null,
   "metadata": {},
   "outputs": [],
   "source": [
    "def TestShallowCopy():\n",
    "    a = [ 1, 2, [3,4] ]\n",
    "    b = list(a) # create a shallow copy of a\n",
    "    print (b is a) #False\n",
    "    b.append(100) #append element to b\n",
    "    print (b)\n",
    "    print (a) # a is unchanged\n",
    "    b[2][0] = -100 # modify an element inside b\n",
    "    print (b)\n",
    "    print (a)  # a is changed"
   ]
  },
  {
   "cell_type": "markdown",
   "metadata": {},
   "source": [
    "在这个例子中，a和b共享相同的可变元素。所以修改其中一个list对象中的元素，另一个list对象也会被修改。\n",
    "\n",
    "深拷贝创建一个新的对象，同时递归地拷贝对象所包含的所有的元素。可以使用copy.deepcopy()来实现深拷贝。"
   ]
  },
  {
   "cell_type": "code",
   "execution_count": null,
   "metadata": {},
   "outputs": [],
   "source": [
    "def TestDeepCopy():\n",
    "    import copy\n",
    "    a = [1, 2, [3, 4]]\n",
    "    b = copy.deepcopy(a)\n",
    "    b[2][0] = -100\n",
    "    print (b)  # b is changed\n",
    "    print (a)  # a is unchanged"
   ]
  },
  {
   "cell_type": "markdown",
   "metadata": {},
   "source": [
    "在这个例子中，a和b是对立的list对象，且他们的元素也相互独立。"
   ]
  },
  {
   "cell_type": "markdown",
   "metadata": {},
   "source": [
    "### 缓存介绍\n",
    "     为了增加程序的运行效率，Python3的解释器中实现了小数字和字符串缓存的机制，小数字的缓冲范围是[-5 ~ 256]，字符串的缓存位数默认是20位。在Python程序中每次初始化一个新的变量就会在内存中开辟一块空间来存储这个变量，当变量不用的时候再回收这块内存。当大量出现这种操作的时候CPU就会发热，工作效率下降。为了减轻CPU的这种负担，Python3的解释器便实现了小数字和字符串的缓存机制。"
   ]
  },
  {
   "cell_type": "code",
   "execution_count": null,
   "metadata": {},
   "outputs": [],
   "source": [
    "a = 10 * 10\n",
    "b = 100\n",
    "print(id(a),id(b))\n",
    "a = 10 * 10 * 10\n",
    "b = 1000\n",
    "print(id(a),id(b))"
   ]
  },
  {
   "cell_type": "code",
   "execution_count": null,
   "metadata": {},
   "outputs": [],
   "source": [
    "str1 = \"0123456789\"\n",
    "str2 = \"0123456789\"\n",
    "print(id(str1),id(str2))\n",
    " \n",
    "str3 = str1 + str2 + \"0123456789\"\n",
    "str4 = \"012345678901234567890123456789\"\n",
    "print(id(str3),id(str4))"
   ]
  },
  {
   "cell_type": "markdown",
   "metadata": {
    "ExecuteTime": {
     "end_time": "2020-09-20T03:36:15.467471Z",
     "start_time": "2020-09-20T03:36:15.462555Z"
    }
   },
   "source": [
    "#### 为什么要设置缓冲池\n",
    "1. 降低'常用'对象频繁创建撤销频率\n",
    "\n",
    "2. 减少内存使用(i.e.降低内存占用)\n",
    "\n",
    "#### 对缓冲池实现的理解及哪些类型能使用缓冲池\n",
    "1. 对缓冲池实现的理解\n",
    "    - 缓冲池实际上就是当python解释器启动时所开辟内存空间中的一部分,用语存储高频使用的对象\n",
    "    \n",
    "2. 哪些类型能使用缓冲池\n",
    "    1. 可变对象肯定没戏,因为随时可能被修改,因而对其缓存是没有意义的\n",
    "        - list\n",
    "        - dict\n",
    "    2. 不可变对象\n",
    "        - 元组不适用于实现缓冲池机制(因为tuple是复合对象)\n",
    "            - 元组虽然是不可变对象,但是其元素可以是可变对象,即元组是不可变对象其元素不可变但其元素的元素可能变化\n",
    "        - 小整数对象池: [-5, 256]\n",
    "        - str 字符串的缓存位数默认是20位\n",
    "    3. 缓冲池大小受内存制约可定是有一定范围的(缓存范围)\n",
    "    4. 可以动态的进出池来实现对有限缓冲内存的有效合理利用"
   ]
  },
  {
   "cell_type": "markdown",
   "metadata": {},
   "source": [
    "### 引用计数和垃圾回收\n",
    "\n",
    "python中的所有的对象都是引用计数的，一个对象赋值或加入容器时，它的引用计数就会自增，当使用del时或变量赋值为其他值时，引用计数就会自减，当引用计数为0时，python的垃圾回收器就会回收该变量。"
   ]
  },
  {
   "cell_type": "code",
   "execution_count": 1,
   "metadata": {
    "ExecuteTime": {
     "end_time": "2020-09-10T07:37:15.986290Z",
     "start_time": "2020-09-10T07:37:15.979471Z"
    }
   },
   "outputs": [
    {
     "name": "stdout",
     "output_type": "stream",
     "text": [
      "\n",
      "27\n",
      "28\n",
      "29\n",
      "28\n",
      "27\n",
      "26\n"
     ]
    }
   ],
   "source": [
    "def TestGarbageCollection():\n",
    "    import sys\n",
    "    print( )\n",
    "    a = 37 # Creates an object with value 37\n",
    "    print(sys.getrefcount(37))\n",
    "    b = a # Increases reference count on 37\n",
    "    print(sys.getrefcount(37))\n",
    "    c = []\n",
    "    c.append(b) # Increases reference count on 37\n",
    "    print(sys.getrefcount(37))\n",
    "    del a # Decrease reference count of 37\n",
    "    print(sys.getrefcount(37))\n",
    "    b = 42 # Decrease reference count of 37\n",
    "    print(sys.getrefcount(37))\n",
    "    c[0] = 2.0 # Decrease reference count of 37\n",
    "    print(sys.getrefcount(37))\n",
    "\n",
    "TestGarbageCollection()"
   ]
  },
  {
   "cell_type": "code",
   "execution_count": null,
   "metadata": {},
   "outputs": [],
   "source": []
  }
 ],
 "metadata": {
  "kernelspec": {
   "display_name": "Python 3",
   "language": "python",
   "name": "python3"
  },
  "language_info": {
   "codemirror_mode": {
    "name": "ipython",
    "version": 3
   },
   "file_extension": ".py",
   "mimetype": "text/x-python",
   "name": "python",
   "nbconvert_exporter": "python",
   "pygments_lexer": "ipython3",
   "version": "3.8.3"
  },
  "toc": {
   "base_numbering": 1,
   "nav_menu": {},
   "number_sections": true,
   "sideBar": true,
   "skip_h1_title": false,
   "title_cell": "Table of Contents",
   "title_sidebar": "Contents",
   "toc_cell": false,
   "toc_position": {
    "height": "calc(100% - 180px)",
    "left": "10px",
    "top": "150px",
    "width": "383.991px"
   },
   "toc_section_display": true,
   "toc_window_display": true
  },
  "varInspector": {
   "cols": {
    "lenName": 16,
    "lenType": 16,
    "lenVar": 40
   },
   "kernels_config": {
    "python": {
     "delete_cmd_postfix": "",
     "delete_cmd_prefix": "del ",
     "library": "var_list.py",
     "varRefreshCmd": "print(var_dic_list())"
    },
    "r": {
     "delete_cmd_postfix": ") ",
     "delete_cmd_prefix": "rm(",
     "library": "var_list.r",
     "varRefreshCmd": "cat(var_dic_list()) "
    }
   },
   "types_to_exclude": [
    "module",
    "function",
    "builtin_function_or_method",
    "instance",
    "_Feature"
   ],
   "window_display": false
  }
 },
 "nbformat": 4,
 "nbformat_minor": 4
}
